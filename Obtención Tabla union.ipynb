{
 "cells": [
  {
   "cell_type": "code",
   "execution_count": null,
   "id": "3abbb43a-450e-4dcb-840e-d9611cb59204",
   "metadata": {},
   "outputs": [],
   "source": [
    "# %%cleanup -f"
   ]
  },
  {
   "cell_type": "code",
   "execution_count": null,
   "id": "fd487038-513d-4036-a8ec-051516294eaf",
   "metadata": {},
   "outputs": [],
   "source": [
    "# spark"
   ]
  },
  {
   "cell_type": "code",
   "execution_count": 2,
   "id": "83783501-2590-4829-b443-3026128d1d8f",
   "metadata": {
    "tags": []
   },
   "outputs": [
    {
     "name": "stdout",
     "output_type": "stream",
     "text": [
      "Stopping session: c3259138-394d-4aca-9d94-97985f40f5ca\n",
      "Stopped session.\n"
     ]
    }
   ],
   "source": [
    "#%stop_session"
   ]
  },
  {
   "cell_type": "markdown",
   "id": "e9bb5460-95cf-4218-aee3-3fdc333a8a60",
   "metadata": {},
   "source": [
    "##### Importamos todas las funciones de pyspark que vamos a necesitar "
   ]
  },
  {
   "cell_type": "code",
   "execution_count": 1,
   "id": "6a354ba5-4080-4bb2-ad49-39f5a38678b6",
   "metadata": {
    "tags": []
   },
   "outputs": [
    {
     "name": "stdout",
     "output_type": "stream",
     "text": [
      "Authenticating with environment variables and user-defined glue_role_arn: arn:aws:iam::342515978102:role/LabRole\n",
      "Trying to create a Glue session for the kernel.\n",
      "Worker Type: G.1X\n",
      "Number of Workers: 5\n",
      "Session ID: c5f5388b-d139-496c-ad9e-916b51e3a35c\n",
      "Job Type: glueetl\n",
      "Applying the following default arguments:\n",
      "--glue_kernel_version 0.38.1\n",
      "--enable-glue-datacatalog true\n",
      "Waiting for session c5f5388b-d139-496c-ad9e-916b51e3a35c to get into ready status...\n",
      "Session c5f5388b-d139-496c-ad9e-916b51e3a35c has been created.\n",
      "\n"
     ]
    }
   ],
   "source": [
    "from pyspark.sql.window import Window\n",
    "from pyspark.sql.functions import col, lag, datediff, last, when, date_add, udf, lit, desc, row_number\n",
    "from pyspark.sql.types import IntegerType\n",
    "from pyspark.ml.feature import OneHotEncoder, StringIndexer\n",
    "\n",
    "BUCKET_NAME = \"miriam-tmf-oct22-msf-data\""
   ]
  },
  {
   "cell_type": "markdown",
   "id": "01f7a025-8eea-4d47-9daa-694a9d794d94",
   "metadata": {},
   "source": [
    "#### Recurring Donations"
   ]
  },
  {
   "cell_type": "markdown",
   "id": "dd9003f6-fc52-4017-beba-f9b9be438a15",
   "metadata": {},
   "source": [
    "##### Cargamos en un dataframe de Spark la tabla de donaciones periódicas"
   ]
  },
  {
   "cell_type": "code",
   "execution_count": 36,
   "id": "d0b932d3-18b2-49ca-ae7b-dad1cee0f3f3",
   "metadata": {
    "tags": []
   },
   "outputs": [
    {
     "name": "stdout",
     "output_type": "stream",
     "text": [
      "\n"
     ]
    }
   ],
   "source": [
    "df_rec = (\n",
    "  spark.read\n",
    "    .option(\"header\", \"true\")\n",
    "    .option(\"quote\", \"\\\"\")\n",
    "    .option(\"escape\" , \"\\\"\")   \n",
    "    .format(\"parquet\")\n",
    "    .load(f\"s3://{BUCKET_NAME}/MSF_RecurringDonation.parquet\")\n",
    ")"
   ]
  },
  {
   "cell_type": "markdown",
   "id": "04210119-f87a-41b3-b998-8f4b5a74128e",
   "metadata": {},
   "source": [
    "##### Renombramos el id como en los casos anteriores"
   ]
  },
  {
   "cell_type": "code",
   "execution_count": 37,
   "id": "800b8300-faa7-45d1-b506-6e619d589327",
   "metadata": {
    "tags": []
   },
   "outputs": [
    {
     "name": "stdout",
     "output_type": "stream",
     "text": [
      "\n"
     ]
    }
   ],
   "source": [
    "df_rec = df_rec.withColumnRenamed(\"id\",\"rec_id\")"
   ]
  },
  {
   "cell_type": "markdown",
   "id": "92bcead3-a8a6-441c-ac81-dd643e72223e",
   "metadata": {},
   "source": [
    "##### Eliminamos columnas que entendemos no deben formar parte de las features"
   ]
  },
  {
   "cell_type": "code",
   "execution_count": 38,
   "id": "1424bc95-a531-4030-a07e-50238c759f56",
   "metadata": {
    "tags": []
   },
   "outputs": [
    {
     "name": "stdout",
     "output_type": "stream",
     "text": [
      "\n"
     ]
    }
   ],
   "source": [
    "# Eliminamos campos que no deben estar entre las features\n",
    "columnsToDrop_rec = [\"IsDeleted\", \"msf_CancelationReason__c\", \"msf_CurrentCampaign__c\",\"npe03__Amount__c\", \"npe03__Last_Payment_Date__c\",\n",
    "                 \"npe03__Next_Payment_Date__c\", \"npe03__Open_Ended_Status__c\",\"npe03__Paid_Amount__c\", \"npe03__Total_Paid_Installments__c\", \"npsp4hub__Payment_Method__c\"]\n",
    "\n",
    "df_rec_f = df_rec.drop(*columnsToDrop_rec)"
   ]
  },
  {
   "cell_type": "markdown",
   "id": "afd1f9ab-0c84-45d6-8f3f-c543d353ed1a",
   "metadata": {},
   "source": [
    "##### Cargamos en un dataframe de Spark la tabla de modificaciones de cuota por parte de los socios"
   ]
  },
  {
   "cell_type": "code",
   "execution_count": 23,
   "id": "f13669d3-3b77-49cc-b96e-4476e0d029fe",
   "metadata": {
    "tags": []
   },
   "outputs": [
    {
     "name": "stdout",
     "output_type": "stream",
     "text": [
      "\n"
     ]
    }
   ],
   "source": [
    "df_quo = (\n",
    "  spark.read\n",
    "    .option(\"header\", \"true\")\n",
    "    .option(\"quote\", \"\\\"\")\n",
    "    .option(\"escape\" , \"\\\"\")   \n",
    "    .format(\"parquet\")\n",
    "    .load(f\"s3://{BUCKET_NAME}/MSF_QuotaModification.parquet\")\n",
    ")"
   ]
  },
  {
   "cell_type": "markdown",
   "id": "ccc3ba4c-4f6a-4f00-b424-98265a369a11",
   "metadata": {},
   "source": [
    "##### Renombramos el id como en los casos anteriores"
   ]
  },
  {
   "cell_type": "code",
   "execution_count": 24,
   "id": "5f73d5fb-0f97-4ad5-a016-2548c68dd4dc",
   "metadata": {
    "tags": []
   },
   "outputs": [
    {
     "name": "stdout",
     "output_type": "stream",
     "text": [
      "\n"
     ]
    }
   ],
   "source": [
    "df_quo = df_quo.withColumnRenamed(\"id\",\"quo_id\")"
   ]
  },
  {
   "cell_type": "markdown",
   "id": "5326eb99-85e9-4186-83a7-ba7edf114bb8",
   "metadata": {},
   "source": [
    "##### Eliminamos columnas que entendemos no deben formar parte de las features"
   ]
  },
  {
   "cell_type": "code",
   "execution_count": 41,
   "id": "2cb85333-d778-4b0f-93e8-83d4737a7ceb",
   "metadata": {
    "tags": []
   },
   "outputs": [
    {
     "name": "stdout",
     "output_type": "stream",
     "text": [
      "\n"
     ]
    }
   ],
   "source": [
    "# Eliminamos campos que no deben estar entre las features\n",
    "columnsToDrop_quo = [\"name\", \"msf_changeamount__c\",\"msf_leadsource1__c\", \"msf_leadsource2__c\", \"msf_newamount__c\", \"msf_newannualizedquota__c\"\n",
    "                 \"msf_newrecurringperiod__c\"]\n",
    "\n",
    "df_quo_f = df_quo.drop(*columnsToDrop_quo)"
   ]
  },
  {
   "cell_type": "markdown",
   "id": "6ee989cf-adc9-403c-850e-90c692d48346",
   "metadata": {},
   "source": [
    "#### Contacts"
   ]
  },
  {
   "cell_type": "markdown",
   "id": "fc687738-b092-4c2c-ab78-67486d588b6d",
   "metadata": {},
   "source": [
    "##### Cargamos en un dataframe de Spark el fichero de Contactos de MSF"
   ]
  },
  {
   "cell_type": "code",
   "execution_count": 42,
   "id": "acba6f8b-bc52-4f87-aad2-9d9dd9dd37e3",
   "metadata": {
    "tags": []
   },
   "outputs": [
    {
     "name": "stdout",
     "output_type": "stream",
     "text": [
      "\n"
     ]
    }
   ],
   "source": [
    "df_con = (\n",
    "  spark.read\n",
    "    .option(\"header\", \"true\")\n",
    "    .option(\"quote\", \"\\\"\")\n",
    "    .option(\"escape\" , \"\\\"\")   \n",
    "    .format(\"parquet\")\n",
    "    .load(f\"s3://{BUCKET_NAME}/MSF_Contact.parquet\")\n",
    ")"
   ]
  },
  {
   "cell_type": "markdown",
   "id": "c74f85b4-02a3-4387-8beb-8edd50d24468",
   "metadata": {},
   "source": [
    "##### Renombramos la columna id a con_id para que no haya ambiguedades en los merges"
   ]
  },
  {
   "cell_type": "code",
   "execution_count": 43,
   "id": "5bdc383e-8970-4584-8035-ee07df0d42da",
   "metadata": {
    "tags": []
   },
   "outputs": [
    {
     "name": "stdout",
     "output_type": "stream",
     "text": [
      "\n"
     ]
    }
   ],
   "source": [
    "df_con = df_con.withColumnRenamed(\"id\",\"con_id\")"
   ]
  },
  {
   "cell_type": "markdown",
   "id": "847fdd4b-ddae-4f94-8730-20286f89e781",
   "metadata": {},
   "source": [
    "##### Nos quedamos con las columnas que nos parecen más útiles"
   ]
  },
  {
   "cell_type": "code",
   "execution_count": 44,
   "id": "323389bf-8ed0-4558-a0e1-94a7f4a5bf9d",
   "metadata": {
    "tags": []
   },
   "outputs": [
    {
     "name": "stdout",
     "output_type": "stream",
     "text": [
      "\n"
     ]
    }
   ],
   "source": [
    "df_con_f = df_con.select(\"msf_birthyear__c\", \"Gender__c\", \"msf_LTVCont__c\", \"msf_PressureComplaint__c\", \"msf_ScoringRFVRecurringDonor__c\",\"msf_AverageDonorValue__c\",\"con_id\",\n",
    "                        \"msf_EntryCampaign__c\", \"msf_FirstCampaignEntryRecurringDonor__c\", \"msf_FirstCampaingColaboration__c\")"
   ]
  },
  {
   "cell_type": "markdown",
   "id": "56d6f996-ce25-413e-be85-dc64a46f72c0",
   "metadata": {},
   "source": [
    "##### Hacemos el merge entre las tablas de donaciones periódicas, la de modificaciones de cuotas, la de contactos"
   ]
  },
  {
   "cell_type": "code",
   "execution_count": 46,
   "id": "ec2e92b0-d8e4-431d-bc4b-5b166a949a0e",
   "metadata": {
    "tags": []
   },
   "outputs": [
    {
     "name": "stdout",
     "output_type": "stream",
     "text": [
      "\n"
     ]
    }
   ],
   "source": [
    "df_merge = (\n",
    "    df_rec_f\n",
    "    .join(df_con_f, col(\"npe03__Contact__c\") == col(\"con_id\"), 'inner')\n",
    "    .join(df_quo_f, col(\"rec_id\") == col(\"msf_recurringdonation__c\"), 'inner')\n",
    "    .select(\n",
    "        df_rec_f[\"*\"],\n",
    "        df_con_f[\"*\"],\n",
    "        df_quo_f[\"*\"]\n",
    "    )\n",
    "    .where(\n",
    "        (col(\"npe03__Contact__c\") == col(\"con_id\")) & \n",
    "        (col(\"rec_id\") == col(\"msf_recurringdonation__c\")) &\n",
    "        (col(\"con_id\") == col(\"msf_contactid__c\"))\n",
    "    )\n",
    ")"
   ]
  },
  {
   "cell_type": "markdown",
   "id": "f32f9574-209c-447c-9e78-c3b8f2048c2d",
   "metadata": {},
   "source": [
    "##### Guardamos en S3 este primer dataframe"
   ]
  },
  {
   "cell_type": "code",
   "execution_count": 47,
   "id": "bcaa298e-6da2-4482-95c1-f031a09e72cb",
   "metadata": {
    "tags": []
   },
   "outputs": [
    {
     "name": "stdout",
     "output_type": "stream",
     "text": [
      "\n"
     ]
    }
   ],
   "source": [
    "(\n",
    "  df_merge.write\n",
    "        .format(\"parquet\")\n",
    "        .mode(\"overwrite\")\n",
    "        .save(f\"s3://{BUCKET_NAME}/output/df_merge_m\")\n",
    ")"
   ]
  },
  {
   "cell_type": "code",
   "execution_count": 48,
   "id": "e9673dd3-e681-4834-b969-9a3948ae3ade",
   "metadata": {
    "tags": []
   },
   "outputs": [
    {
     "name": "stdout",
     "output_type": "stream",
     "text": [
      "\n"
     ]
    }
   ],
   "source": [
    "original_count = df_merge.count()\n",
    "no_duplicates_count = df_merge.dropDuplicates().count()"
   ]
  },
  {
   "cell_type": "markdown",
   "id": "b873c085-56aa-4366-8c71-c73aecedbe97",
   "metadata": {},
   "source": [
    "-----------------------------------------------------------------------------------"
   ]
  },
  {
   "cell_type": "code",
   "execution_count": 49,
   "id": "b3b5e414-42a6-4531-8107-8273f2424eba",
   "metadata": {
    "tags": []
   },
   "outputs": [
    {
     "name": "stdout",
     "output_type": "stream",
     "text": [
      "Cantidad de filas originales: 2003017\n",
      "Cantidad de filas después de eliminar duplicados: 2003017\n",
      "Filas duplicadas encontradas: 0\n"
     ]
    }
   ],
   "source": [
    "print(\"Cantidad de filas originales:\", original_count)\n",
    "print(\"Cantidad de filas después de eliminar duplicados:\", no_duplicates_count)\n",
    "print(\"Filas duplicadas encontradas:\", original_count - no_duplicates_count)"
   ]
  },
  {
   "cell_type": "code",
   "execution_count": 50,
   "id": "2ee811a5-1c81-49c6-945d-04527d634367",
   "metadata": {
    "tags": []
   },
   "outputs": [
    {
     "name": "stdout",
     "output_type": "stream",
     "text": [
      "En la columna 'rec_id' hay  0  filas con valores ausente, que suponen el  0.0 % del total\n",
      "En la columna 'msf_annualizedquota__c' hay  0  filas con valores ausente, que suponen el  0.0 % del total\n",
      "En la columna 'msf_cancelationdate__c' hay  1037623  filas con valores ausente, que suponen el  51.8 % del total\n",
      "En la columna 'msf_currentleadsource1__c' hay  5136  filas con valores ausente, que suponen el  0.26 % del total\n",
      "En la columna 'msf_currentquotamodification__c' hay  2125  filas con valores ausente, que suponen el  0.11 % del total\n",
      "En la columna 'msf_leadsource1__c' hay  300  filas con valores ausente, que suponen el  0.01 % del total\n",
      "En la columna 'msf_memberid__c' hay  0  filas con valores ausente, que suponen el  0.0 % del total\n",
      "En la columna 'npe03__contact__c' hay  4  filas con valores ausente, que suponen el  0.0 % del total\n",
      "En la columna 'npe03__date_established__c' hay  0  filas con valores ausente, que suponen el  0.0 % del total\n",
      "En la columna 'npe03__installment_period__c' hay  14216  filas con valores ausente, que suponen el  0.71 % del total\n",
      "En la columna 'npe03__recurring_donation_campaign__c' hay  1  filas con valores ausente, que suponen el  0.0 % del total\n",
      "En la columna 'msf_birthyear__c' hay  390511  filas con valores ausente, que suponen el  19.5 % del total\n",
      "En la columna 'Gender__c' hay  15383  filas con valores ausente, que suponen el  0.77 % del total\n",
      "En la columna 'msf_LTVCont__c' hay  60101  filas con valores ausente, que suponen el  3.0 % del total\n",
      "En la columna 'msf_PressureComplaint__c' hay  0  filas con valores ausente, que suponen el  0.0 % del total\n",
      "En la columna 'msf_ScoringRFVRecurringDonor__c' hay  0  filas con valores ausente, que suponen el  0.0 % del total\n",
      "En la columna 'msf_AverageDonorValue__c' hay  1255935  filas con valores ausente, que suponen el  62.7 % del total\n",
      "En la columna 'con_id' hay  4  filas con valores ausente, que suponen el  0.0 % del total\n",
      "En la columna 'msf_EntryCampaign__c' hay  211  filas con valores ausente, que suponen el  0.01 % del total\n",
      "En la columna 'msf_FirstCampaignEntryRecurringDonor__c' hay  807  filas con valores ausente, que suponen el  0.04 % del total\n",
      "En la columna 'msf_FirstCampaingColaboration__c' hay  45870  filas con valores ausente, que suponen el  2.29 % del total\n",
      "En la columna 'quo_id' hay  0  filas con valores ausente, que suponen el  0.0 % del total\n",
      "En la columna 'isdeleted' hay  0  filas con valores ausente, que suponen el  0.0 % del total\n",
      "En la columna 'msf_recurringdonation__c' hay  0  filas con valores ausente, que suponen el  0.0 % del total\n",
      "En la columna 'msf_campaigninfluence__c' hay  4128  filas con valores ausente, que suponen el  0.21 % del total\n",
      "En la columna 'msf_changeannualizedquota__c' hay  0  filas con valores ausente, que suponen el  0.0 % del total\n",
      "En la columna 'msf_changetype__c' hay  0  filas con valores ausente, que suponen el  0.0 % del total\n",
      "En la columna 'msf_leadsource3__c' hay  324964  filas con valores ausente, que suponen el  16.22 % del total\n",
      "En la columna 'msf_newannualizedquota__c' hay  0  filas con valores ausente, que suponen el  0.0 % del total\n",
      "En la columna 'msf_newrecurringperiod__c' hay  235  filas con valores ausente, que suponen el  0.01 % del total\n",
      "En la columna 'msf_contactid__c' hay  4  filas con valores ausente, que suponen el  0.0 % del total\n",
      "En la columna 'msf_changedate__c' hay  186  filas con valores ausente, que suponen el  0.01 % del total\n"
     ]
    }
   ],
   "source": [
    "# Vemos si tienen valores missings:\n",
    "\n",
    "from pyspark.sql import functions as F\n",
    "\n",
    "columnas = df_merge.columns\n",
    "# Inicializa un diccionario para almacenar los resultados\n",
    "resultados_por_columna = {}\n",
    "# Total de filas en el DataFrame\n",
    "#original_count = df_contact.count()\n",
    "\n",
    "# Itera sobre cada columna y aplica las condiciones\n",
    "for columna in columnas:\n",
    "    valores_ausentes = df_merge.filter(\n",
    "        (F.col(columna).isNull()) |\n",
    "        (F.col(columna) == '') |\n",
    "        (F.col(columna).contains('None')) |\n",
    "        (F.col(columna).contains('Null'))\n",
    "    )\n",
    "    \n",
    "    # Cuenta el número de filas que cumplen las condiciones para esta columna\n",
    "    filas_con_condiciones = valores_ausentes.count()\n",
    "    \n",
    "    # Almacena el resultado en el diccionario\n",
    "    resultados_por_columna[columna] = filas_con_condiciones\n",
    "\n",
    "# Muestra los resultados\n",
    "for columna, conteo in resultados_por_columna.items():\n",
    "    print(f\"En la columna '{columna}' hay \", conteo, \" filas con valores ausente, que suponen el \", round(((conteo/original_count) * 100), 2), \"% del total\" )"
   ]
  },
  {
   "cell_type": "code",
   "execution_count": 51,
   "id": "024dbbde-7258-4b26-806a-164d8cb00309",
   "metadata": {
    "tags": []
   },
   "outputs": [
    {
     "name": "stdout",
     "output_type": "stream",
     "text": [
      "Agrupación y conteo para la columna 'rec_id':\n",
      "+------------------+-----+\n",
      "|            rec_id|count|\n",
      "+------------------+-----+\n",
      "|a093Y00001RZ7XfQAL|    5|\n",
      "|a093Y00001RZ7XgQAL|    2|\n",
      "|a093Y00001RZ7XhQAL|    1|\n",
      "|a093Y00001RZ7XiQAL|    1|\n",
      "|a093Y00001RZ7XjQAL|    7|\n",
      "|a093Y00001RZ7XkQAL|    1|\n",
      "|a093Y00001RZ7XlQAL|    2|\n",
      "|a093Y00001RZ7XmQAL|    1|\n",
      "|a093Y00001RZ7XnQAL|    6|\n",
      "|a093Y00001RZ7XoQAL|    1|\n",
      "|a093Y00001RZ7XpQAL|    1|\n",
      "|a093Y00001RZ7XqQAL|    1|\n",
      "|a093Y00001RZ7XrQAL|    1|\n",
      "|a093Y00001RZ7XsQAL|    4|\n",
      "|a093Y00001RZ7XtQAL|    1|\n",
      "|a093Y00001RZ7XuQAL|    1|\n",
      "|a093Y00001RZ7XvQAL|    3|\n",
      "|a093Y00001RZ7XwQAL|    2|\n",
      "|a093Y00001RZ7XxQAL|    1|\n",
      "|a093Y00001RZ7XyQAL|    2|\n",
      "+------------------+-----+\n",
      "only showing top 20 rows\n",
      "\n",
      "Agrupación y conteo para la columna 'msf_annualizedquota__c':\n",
      "+----------------------+-----+\n",
      "|msf_annualizedquota__c|count|\n",
      "+----------------------+-----+\n",
      "|                   0.0| 4917|\n",
      "|                   0.6|    3|\n",
      "|                  0.72|    9|\n",
      "|                   1.0|    5|\n",
      "|                   1.2|    2|\n",
      "|                   1.5|    2|\n",
      "|                   1.8|    2|\n",
      "|                   2.0|    4|\n",
      "|                   3.0| 2963|\n",
      "|                  3.01|   38|\n",
      "|                   4.0|  182|\n",
      "|                  4.33|   14|\n",
      "|                   4.8|    7|\n",
      "|                   5.0| 3485|\n",
      "|                  5.87|    1|\n",
      "|                   6.0| 1077|\n",
      "|                  6.01|  478|\n",
      "|                  6.02|    4|\n",
      "|                   7.0|  202|\n",
      "|                   7.2|   24|\n",
      "+----------------------+-----+\n",
      "only showing top 20 rows\n",
      "\n",
      "Agrupación y conteo para la columna 'msf_cancelationdate__c':\n",
      "+----------------------+-------+\n",
      "|msf_cancelationdate__c|  count|\n",
      "+----------------------+-------+\n",
      "|                  null|1037623|\n",
      "|            1990-02-20|      1|\n",
      "|            1990-10-01|      1|\n",
      "|            1990-11-01|      1|\n",
      "|            1991-01-10|      1|\n",
      "|            1991-01-20|      1|\n",
      "|            1991-01-21|      3|\n",
      "|            1991-02-20|      4|\n",
      "|            1991-04-08|      1|\n",
      "|            1991-04-15|      9|\n",
      "|            1991-06-01|      1|\n",
      "|            1991-06-03|      1|\n",
      "|            1991-07-01|      4|\n",
      "|            1991-07-03|      2|\n",
      "|            1991-08-06|      1|\n",
      "|            1991-09-01|      3|\n",
      "|            1991-09-03|      1|\n",
      "|            1991-10-01|      3|\n",
      "|            1991-11-06|      1|\n",
      "|            1991-12-01|      1|\n",
      "+----------------------+-------+\n",
      "only showing top 20 rows\n",
      "\n",
      "Agrupación y conteo para la columna 'msf_currentleadsource1__c':\n",
      "+-------------------------+-------+\n",
      "|msf_currentleadsource1__c|  count|\n",
      "+-------------------------+-------+\n",
      "|                         |   5136|\n",
      "|               Cloud page|   3214|\n",
      "|     Correo postal sin...|   5760|\n",
      "|                    Cupón| 115342|\n",
      "|     Email Director/a ...|      2|\n",
      "|            Email a Bodas|     18|\n",
      "|         Email a Empresas|    254|\n",
      "|     Email a Iniciativ...|      2|\n",
      "|       Email a One to one|     17|\n",
      "|              Email a SAS|  15543|\n",
      "|     Email a officers ...|     54|\n",
      "|       Entidad financiera|  14182|\n",
      "|                  Eventos|    795|\n",
      "|                     Otro| 105443|\n",
      "|        Persona a persona| 268008|\n",
      "|      Personal con tablet|  65124|\n",
      "|           Redes Sociales|      1|\n",
      "|                      SMS|     31|\n",
      "|            Telemarketing|1138084|\n",
      "|     Teléfono Herencia...|     18|\n",
      "+-------------------------+-------+\n",
      "only showing top 20 rows\n",
      "\n",
      "Agrupación y conteo para la columna 'msf_currentquotamodification__c':\n",
      "+-------------------------------+-----+\n",
      "|msf_currentquotamodification__c|count|\n",
      "+-------------------------------+-----+\n",
      "|                               | 2125|\n",
      "|             a1y3Y000001sAttQAE|    5|\n",
      "|             a1y3Y000001sAtuQAE|    5|\n",
      "|             a1y3Y000001sAtvQAE|    7|\n",
      "|             a1y3Y000001sAtxQAE|    5|\n",
      "|             a1y3Y000001sAtyQAE|    2|\n",
      "|             a1y3Y000001sAtzQAE|    4|\n",
      "|             a1y3Y000001sAu0QAE|    2|\n",
      "|             a1y3Y000001sAu3QAE|    7|\n",
      "|             a1y3Y000001sAu5QAE|    4|\n",
      "|             a1y3Y000001sAu7QAE|   12|\n",
      "|             a1y3Y000001sAu8QAE|    6|\n",
      "|             a1y3Y000001sAuAQAU|    1|\n",
      "|             a1y3Y000001sAuCQAU|    4|\n",
      "|             a1y3Y000001sAuDQAU|    6|\n",
      "|             a1y3Y000001sAuEQAU|    1|\n",
      "|             a1y3Y000001sAuFQAU|    9|\n",
      "|             a1y3Y000001sAuHQAU|    7|\n",
      "|             a1y3Y000001sAuIQAU|    9|\n",
      "|             a1y3Y000001sAuLQAU|    4|\n",
      "+-------------------------------+-----+\n",
      "only showing top 20 rows\n",
      "\n",
      "Agrupación y conteo para la columna 'msf_leadsource1__c':\n",
      "+--------------------+------+\n",
      "|  msf_leadsource1__c| count|\n",
      "+--------------------+------+\n",
      "|                    |   300|\n",
      "|          Cloud page|     9|\n",
      "|Correo postal sin...|  8900|\n",
      "|               Cupón|265592|\n",
      "|Email Director/a ...|     1|\n",
      "|    Email a Empresas|   189|\n",
      "|Email a Iniciativ...|     2|\n",
      "|  Email a One to one|     6|\n",
      "|         Email a SAS|  7351|\n",
      "|Email a officers ...|     9|\n",
      "|  Entidad financiera|   741|\n",
      "|             Eventos|  2985|\n",
      "|                Otro|347697|\n",
      "|   Persona a persona|579457|\n",
      "| Personal con tablet| 85232|\n",
      "|      Redes Sociales|     1|\n",
      "|                 SMS|     2|\n",
      "|       Telemarketing|424523|\n",
      "|Teléfono Herencia...|     2|\n",
      "|   Teléfono Officers|   152|\n",
      "+--------------------+------+\n",
      "only showing top 20 rows\n",
      "\n",
      "Agrupación y conteo para la columna 'msf_memberid__c':\n",
      "+---------------+-----+\n",
      "|msf_memberid__c|count|\n",
      "+---------------+-----+\n",
      "|         100000|    2|\n",
      "|        1000000|    1|\n",
      "|       10000000|    5|\n",
      "|       10000001|    5|\n",
      "|       10000002|    2|\n",
      "|       10000003|    4|\n",
      "|       10000004|    1|\n",
      "|       10000005|    6|\n",
      "|       10000006|    5|\n",
      "|       10000007|    1|\n",
      "|       10000008|   10|\n",
      "|       10000009|    3|\n",
      "|        1000001|    2|\n",
      "|       10000010|    9|\n",
      "|       10000011|    1|\n",
      "|       10000013|    3|\n",
      "|       10000014|    1|\n",
      "|       10000015|    4|\n",
      "|       10000016|    2|\n",
      "|       10000017|    2|\n",
      "+---------------+-----+\n",
      "only showing top 20 rows\n",
      "\n",
      "Agrupación y conteo para la columna 'npe03__contact__c':\n",
      "+------------------+-----+\n",
      "| npe03__contact__c|count|\n",
      "+------------------+-----+\n",
      "|0033Y00002uNQ4OQAW|    2|\n",
      "|0033Y00002uNQ4PQAW|    1|\n",
      "|0033Y00002uNQ4QQAW|    5|\n",
      "|0033Y00002uNQ4RQAW|    5|\n",
      "|0033Y00002uNQ4SQAW|    2|\n",
      "|0033Y00002uNQ4TQAW|    4|\n",
      "|0033Y00002uNQ4UQAW|    1|\n",
      "|0033Y00002uNQ4VQAW|    6|\n",
      "|0033Y00002uNQ4WQAW|    5|\n",
      "|0033Y00002uNQ4XQAW|    1|\n",
      "|0033Y00002uNQ4YQAW|   10|\n",
      "|0033Y00002uNQ4ZQAW|    3|\n",
      "|0033Y00002uNQ4aQAG|    2|\n",
      "|0033Y00002uNQ4bQAG|    9|\n",
      "|0033Y00002uNQ4cQAG|    3|\n",
      "|0033Y00002uNQ4dQAG|    1|\n",
      "|0033Y00002uNQ4eQAG|    2|\n",
      "|0033Y00002uNQ4fQAG|    2|\n",
      "|0033Y00002uNQ4gQAG|    3|\n",
      "|0033Y00002uNQ4hQAG|    1|\n",
      "+------------------+-----+\n",
      "only showing top 20 rows\n",
      "\n",
      "Agrupación y conteo para la columna 'npe03__date_established__c':\n",
      "+--------------------------+-----+\n",
      "|npe03__date_established__c|count|\n",
      "+--------------------------+-----+\n",
      "|                1988-02-01|    1|\n",
      "|                1988-05-01|    1|\n",
      "|                1990-01-01|    4|\n",
      "|                1990-01-10|    1|\n",
      "|                1990-01-20|    2|\n",
      "|                1990-02-12|    4|\n",
      "|                1990-02-20|    3|\n",
      "|                1990-03-01|   11|\n",
      "|                1990-03-31|    9|\n",
      "|                1990-04-20|    5|\n",
      "|                1990-06-10|    1|\n",
      "|                1990-09-25|    4|\n",
      "|                1990-10-01|    4|\n",
      "|                1990-11-01|    1|\n",
      "|                1990-11-23|    4|\n",
      "|                1990-12-10|   17|\n",
      "|                1991-01-01|    5|\n",
      "|                1991-01-02|    1|\n",
      "|                1991-01-03|    4|\n",
      "|                1991-01-04|    4|\n",
      "+--------------------------+-----+\n",
      "only showing top 20 rows\n",
      "\n",
      "Agrupación y conteo para la columna 'npe03__installment_period__c':\n",
      "+----------------------------+-------+\n",
      "|npe03__installment_period__c|  count|\n",
      "+----------------------------+-------+\n",
      "|                            |  14216|\n",
      "|                   Bimensual|  10924|\n",
      "|                     Monthly|1524927|\n",
      "|                   Quarterly| 173942|\n",
      "|                   Semestral|  40695|\n",
      "|                      Yearly| 238313|\n",
      "+----------------------------+-------+\n",
      "\n",
      "Agrupación y conteo para la columna 'npe03__recurring_donation_campaign__c':\n",
      "+-------------------------------------+-----+\n",
      "|npe03__recurring_donation_campaign__c|count|\n",
      "+-------------------------------------+-----+\n",
      "|                                     |    1|\n",
      "|                   7013Y000000kNtJQAU|    8|\n",
      "|                   7013Y000000kNxgQAE|    5|\n",
      "|                   7013Y000000kO5vQAE|    1|\n",
      "|                   7013Y000000kOLKQA2|    8|\n",
      "|                   7013Y000000kOewQAE|   55|\n",
      "|                   7013Y000000kOfVQAU|    2|\n",
      "|                   7013Y000000kOfpQAE|    3|\n",
      "|                   7013Y000000kOkBQAU|    8|\n",
      "|                   7013Y000000kOkLQAU|   13|\n",
      "|                   7013Y000000kPEMQA2|    1|\n",
      "|                   7013Y000000kPlzQAE|    3|\n",
      "|                   7013Y000000kPtAQAU|   28|\n",
      "|                   7013Y000000kQDLQA2|   58|\n",
      "|                   7013Y000000kQLaQAM|    6|\n",
      "|                   7013Y0000011S5BQAU|   34|\n",
      "|                   7013Y0000011S5CQAU|   21|\n",
      "|                   7013Y0000011S5DQAU|    1|\n",
      "|                   7013Y0000011S5GQAU|   27|\n",
      "|                   7013Y0000011S5HQAU|   25|\n",
      "+-------------------------------------+-----+\n",
      "only showing top 20 rows\n",
      "\n",
      "Agrupación y conteo para la columna 'msf_birthyear__c':\n",
      "+----------------+------+\n",
      "|msf_birthyear__c| count|\n",
      "+----------------+------+\n",
      "|                |390511|\n",
      "|            1712|     2|\n",
      "|            1893|     2|\n",
      "|            1897|     1|\n",
      "|            1900|     5|\n",
      "|            1901|     3|\n",
      "|            1902|    10|\n",
      "|            1903|     4|\n",
      "|            1904|    15|\n",
      "|            1905|     2|\n",
      "|            1906|    11|\n",
      "|            1907|    16|\n",
      "|            1908|    19|\n",
      "|            1909|    33|\n",
      "|            1910|    30|\n",
      "|            1911|    46|\n",
      "|            1912|    40|\n",
      "|            1913|    58|\n",
      "|            1914|   116|\n",
      "|            1915|   127|\n",
      "+----------------+------+\n",
      "only showing top 20 rows\n",
      "\n",
      "Agrupación y conteo para la columna 'Gender__c':\n",
      "+---------+-------+\n",
      "|Gender__c|  count|\n",
      "+---------+-------+\n",
      "|         |  15383|\n",
      "|   Female|1114339|\n",
      "|        H|      8|\n",
      "|        M|      1|\n",
      "|     Male| 844112|\n",
      "|    Other|  29174|\n",
      "+---------+-------+\n",
      "\n",
      "Agrupación y conteo para la columna 'msf_LTVCont__c':\n",
      "+--------------+-----+\n",
      "|msf_LTVCont__c|count|\n",
      "+--------------+-----+\n",
      "|          null|60101|\n",
      "|          0.01|    6|\n",
      "|          0.51|    1|\n",
      "|           1.0|   85|\n",
      "|          1.11|    2|\n",
      "|           1.6|    1|\n",
      "|           2.0|   27|\n",
      "|           2.4|    4|\n",
      "|           3.0| 1338|\n",
      "|          3.01|    6|\n",
      "|           3.5|    1|\n",
      "|           3.6|    2|\n",
      "|          3.61|    2|\n",
      "|          3.73|    1|\n",
      "|           4.0|  231|\n",
      "|          4.33|   31|\n",
      "|          4.74|    1|\n",
      "|           5.0| 5308|\n",
      "|          5.07|    1|\n",
      "|          5.16|    1|\n",
      "+--------------+-----+\n",
      "only showing top 20 rows\n",
      "\n",
      "Agrupación y conteo para la columna 'msf_PressureComplaint__c':\n",
      "+------------------------+-------+\n",
      "|msf_PressureComplaint__c|  count|\n",
      "+------------------------+-------+\n",
      "|                   false|1993793|\n",
      "|                    true|   9224|\n",
      "+------------------------+-------+\n",
      "\n",
      "Agrupación y conteo para la columna 'msf_ScoringRFVRecurringDonor__c':\n",
      "+-------------------------------+-----+\n",
      "|msf_ScoringRFVRecurringDonor__c|count|\n",
      "+-------------------------------+-----+\n",
      "|                            0.0|61589|\n",
      "|                            0.2|61060|\n",
      "|                            0.4|86757|\n",
      "|                            0.5|24965|\n",
      "|                            0.6|51327|\n",
      "|                            0.7|29163|\n",
      "|                            0.8|32254|\n",
      "|                            0.9|22554|\n",
      "|                            1.0|37403|\n",
      "|                            1.1|20245|\n",
      "|                            1.2|18657|\n",
      "|                            1.3|15855|\n",
      "|                            1.4|28474|\n",
      "|                            1.5|25321|\n",
      "|                            1.6|26811|\n",
      "|                            1.7|50445|\n",
      "|                            1.8|28344|\n",
      "|                            1.9|63723|\n",
      "|                            2.0|30106|\n",
      "|                            2.1|70440|\n",
      "+-------------------------------+-----+\n",
      "only showing top 20 rows\n",
      "\n",
      "Agrupación y conteo para la columna 'msf_AverageDonorValue__c':\n",
      "+------------------------+-------+\n",
      "|msf_AverageDonorValue__c|  count|\n",
      "+------------------------+-------+\n",
      "|                    null|1255935|\n",
      "|                    0.01|     17|\n",
      "|                    0.02|      8|\n",
      "|                    0.03|      2|\n",
      "|                    0.05|      2|\n",
      "|                    0.09|      1|\n",
      "|                     0.1|     11|\n",
      "|                    0.11|      4|\n",
      "|                    0.16|      7|\n",
      "|                     0.2|      4|\n",
      "|                    0.25|      2|\n",
      "|                    0.26|      4|\n",
      "|                     0.4|      3|\n",
      "|                    0.42|      4|\n",
      "|                     0.5|     10|\n",
      "|                    0.51|      1|\n",
      "|                    0.57|      1|\n",
      "|                    0.58|      1|\n",
      "|                     0.6|      2|\n",
      "|                    0.66|      3|\n",
      "+------------------------+-------+\n",
      "only showing top 20 rows\n",
      "\n",
      "Agrupación y conteo para la columna 'con_id':\n",
      "+------------------+-----+\n",
      "|            con_id|count|\n",
      "+------------------+-----+\n",
      "|0033Y00002uNQ4OQAW|    2|\n",
      "|0033Y00002uNQ4PQAW|    1|\n",
      "|0033Y00002uNQ4QQAW|    5|\n",
      "|0033Y00002uNQ4RQAW|    5|\n",
      "|0033Y00002uNQ4SQAW|    2|\n",
      "|0033Y00002uNQ4TQAW|    4|\n",
      "|0033Y00002uNQ4UQAW|    1|\n",
      "|0033Y00002uNQ4VQAW|    6|\n",
      "|0033Y00002uNQ4WQAW|    5|\n",
      "|0033Y00002uNQ4XQAW|    1|\n",
      "|0033Y00002uNQ4YQAW|   10|\n",
      "|0033Y00002uNQ4ZQAW|    3|\n",
      "|0033Y00002uNQ4aQAG|    2|\n",
      "|0033Y00002uNQ4bQAG|    9|\n",
      "|0033Y00002uNQ4cQAG|    3|\n",
      "|0033Y00002uNQ4dQAG|    1|\n",
      "|0033Y00002uNQ4eQAG|    2|\n",
      "|0033Y00002uNQ4fQAG|    2|\n",
      "|0033Y00002uNQ4gQAG|    3|\n",
      "|0033Y00002uNQ4hQAG|    1|\n",
      "+------------------+-----+\n",
      "only showing top 20 rows\n",
      "\n",
      "Agrupación y conteo para la columna 'msf_EntryCampaign__c':\n",
      "+--------------------+-----+\n",
      "|msf_EntryCampaign__c|count|\n",
      "+--------------------+-----+\n",
      "|                    |  211|\n",
      "|  7013Y000000kNtJQAU|    3|\n",
      "|  7013Y000000kNxgQAE|    2|\n",
      "|  7013Y000000kOLKQA2|    6|\n",
      "|  7013Y000000kOewQAE|   33|\n",
      "|  7013Y000000kOfVQAU|    1|\n",
      "|  7013Y000000kOfpQAE|    3|\n",
      "|  7013Y000000kOkBQAU|    3|\n",
      "|  7013Y000000kOkLQAU|   13|\n",
      "|  7013Y000000kPEMQA2|    1|\n",
      "|  7013Y000000kQDLQA2|    5|\n",
      "|  7013Y000000kQLaQAM|    2|\n",
      "|  7013Y000000kQOeQAM|    1|\n",
      "|  7013Y0000011S5BQAU|   34|\n",
      "|  7013Y0000011S5CQAU|   10|\n",
      "|  7013Y0000011S5DQAU|    2|\n",
      "|  7013Y0000011S5GQAU|   30|\n",
      "|  7013Y0000011S5HQAU|   27|\n",
      "|  7013Y0000011S5IQAU|   32|\n",
      "|  7013Y0000011S5JQAU|   39|\n",
      "+--------------------+-----+\n",
      "only showing top 20 rows\n",
      "\n",
      "Agrupación y conteo para la columna 'msf_FirstCampaignEntryRecurringDonor__c':\n",
      "+---------------------------------------+-----+\n",
      "|msf_FirstCampaignEntryRecurringDonor__c|count|\n",
      "+---------------------------------------+-----+\n",
      "|                                       |  807|\n",
      "|                     7013Y000000kNtJQAU|    5|\n",
      "|                     7013Y000000kNxgQAE|    4|\n",
      "|                     7013Y000000kOLKQA2|    6|\n",
      "|                     7013Y000000kOewQAE|   42|\n",
      "|                     7013Y000000kOfVQAU|    2|\n",
      "|                     7013Y000000kOfpQAE|    2|\n",
      "|                     7013Y000000kOkBQAU|    7|\n",
      "|                     7013Y000000kOkLQAU|   13|\n",
      "|                     7013Y000000kPEMQA2|    1|\n",
      "|                     7013Y000000kPlzQAE|    2|\n",
      "|                     7013Y000000kPtAQAU|   24|\n",
      "|                     7013Y000000kQDLQA2|   20|\n",
      "|                     7013Y000000kQLaQAM|    3|\n",
      "|                     7013Y0000011S5BQAU|   34|\n",
      "|                     7013Y0000011S5CQAU|   16|\n",
      "|                     7013Y0000011S5DQAU|    1|\n",
      "|                     7013Y0000011S5GQAU|   30|\n",
      "|                     7013Y0000011S5HQAU|   28|\n",
      "|                     7013Y0000011S5IQAU|   33|\n",
      "+---------------------------------------+-----+\n",
      "only showing top 20 rows\n",
      "\n",
      "Agrupación y conteo para la columna 'msf_FirstCampaingColaboration__c':\n",
      "+--------------------------------+-----+\n",
      "|msf_FirstCampaingColaboration__c|count|\n",
      "+--------------------------------+-----+\n",
      "|                                |45870|\n",
      "|              7013Y000000kNtJQAU|    4|\n",
      "|              7013Y000000kNxgQAE|    1|\n",
      "|              7013Y000000kOLKQA2|    6|\n",
      "|              7013Y000000kOewQAE|   31|\n",
      "|              7013Y000000kOfVQAU|    1|\n",
      "|              7013Y000000kOfpQAE|    1|\n",
      "|              7013Y000000kOkBQAU|    3|\n",
      "|              7013Y000000kOkLQAU|   12|\n",
      "|              7013Y000000kPEMQA2|    1|\n",
      "|              7013Y000000kQDLQA2|   20|\n",
      "|              7013Y000000kQOeQAM|    1|\n",
      "|              7013Y0000011S5BQAU|   33|\n",
      "|              7013Y0000011S5CQAU|   12|\n",
      "|              7013Y0000011S5DQAU|    8|\n",
      "|              7013Y0000011S5EQAU|    2|\n",
      "|              7013Y0000011S5FQAU|    2|\n",
      "|              7013Y0000011S5GQAU|   27|\n",
      "|              7013Y0000011S5HQAU|   27|\n",
      "|              7013Y0000011S5IQAU|   34|\n",
      "+--------------------------------+-----+\n",
      "only showing top 20 rows\n",
      "\n",
      "Agrupación y conteo para la columna 'quo_id':\n",
      "+------------------+-----+\n",
      "|            quo_id|count|\n",
      "+------------------+-----+\n",
      "|a1y3Y000001sAttQAE|    1|\n",
      "|a1y3Y000001sAtuQAE|    1|\n",
      "|a1y3Y000001sAtvQAE|    1|\n",
      "|a1y3Y000001sAtwQAE|    1|\n",
      "|a1y3Y000001sAtxQAE|    1|\n",
      "|a1y3Y000001sAtyQAE|    1|\n",
      "|a1y3Y000001sAtzQAE|    1|\n",
      "|a1y3Y000001sAu0QAE|    1|\n",
      "|a1y3Y000001sAu1QAE|    1|\n",
      "|a1y3Y000001sAu2QAE|    1|\n",
      "|a1y3Y000001sAu3QAE|    1|\n",
      "|a1y3Y000001sAu4QAE|    1|\n",
      "|a1y3Y000001sAu5QAE|    1|\n",
      "|a1y3Y000001sAu6QAE|    1|\n",
      "|a1y3Y000001sAu7QAE|    1|\n",
      "|a1y3Y000001sAu8QAE|    1|\n",
      "|a1y3Y000001sAu9QAE|    1|\n",
      "|a1y3Y000001sAuAQAU|    1|\n",
      "|a1y3Y000001sAuBQAU|    1|\n",
      "|a1y3Y000001sAuCQAU|    1|\n",
      "+------------------+-----+\n",
      "only showing top 20 rows\n",
      "\n",
      "Agrupación y conteo para la columna 'isdeleted':\n",
      "+---------+-------+\n",
      "|isdeleted|  count|\n",
      "+---------+-------+\n",
      "|    false|2003017|\n",
      "+---------+-------+\n",
      "\n",
      "Agrupación y conteo para la columna 'msf_recurringdonation__c':\n",
      "+------------------------+-----+\n",
      "|msf_recurringdonation__c|count|\n",
      "+------------------------+-----+\n",
      "|      a093Y00001RZ7XfQAL|    5|\n",
      "|      a093Y00001RZ7XgQAL|    2|\n",
      "|      a093Y00001RZ7XhQAL|    1|\n",
      "|      a093Y00001RZ7XiQAL|    1|\n",
      "|      a093Y00001RZ7XjQAL|    7|\n",
      "|      a093Y00001RZ7XkQAL|    1|\n",
      "|      a093Y00001RZ7XlQAL|    2|\n",
      "|      a093Y00001RZ7XmQAL|    1|\n",
      "|      a093Y00001RZ7XnQAL|    6|\n",
      "|      a093Y00001RZ7XoQAL|    1|\n",
      "|      a093Y00001RZ7XpQAL|    1|\n",
      "|      a093Y00001RZ7XqQAL|    1|\n",
      "|      a093Y00001RZ7XrQAL|    1|\n",
      "|      a093Y00001RZ7XsQAL|    4|\n",
      "|      a093Y00001RZ7XtQAL|    1|\n",
      "|      a093Y00001RZ7XuQAL|    1|\n",
      "|      a093Y00001RZ7XvQAL|    3|\n",
      "|      a093Y00001RZ7XwQAL|    2|\n",
      "|      a093Y00001RZ7XxQAL|    1|\n",
      "|      a093Y00001RZ7XyQAL|    2|\n",
      "+------------------------+-----+\n",
      "only showing top 20 rows\n",
      "\n",
      "Agrupación y conteo para la columna 'msf_campaigninfluence__c':\n",
      "+------------------------+-----+\n",
      "|msf_campaigninfluence__c|count|\n",
      "+------------------------+-----+\n",
      "|                        | 4128|\n",
      "|      7013Y000000kNtJQAU|    8|\n",
      "|      7013Y000000kNxgQAE|    5|\n",
      "|      7013Y000000kO5vQAE|    1|\n",
      "|      7013Y000000kOLKQA2|    8|\n",
      "|      7013Y000000kOewQAE|   55|\n",
      "|      7013Y000000kOfVQAU|    2|\n",
      "|      7013Y000000kOfpQAE|    3|\n",
      "|      7013Y000000kOkBQAU|   30|\n",
      "|      7013Y000000kOkLQAU|   13|\n",
      "|      7013Y000000kPEMQA2|    1|\n",
      "|      7013Y000000kPlzQAE|    3|\n",
      "|      7013Y000000kPtAQAU|   27|\n",
      "|      7013Y000000kQ7rQAE|   48|\n",
      "|      7013Y000000kQDLQA2|   58|\n",
      "|      7013Y000000kQLaQAM|    6|\n",
      "|      7013Y0000011S5BQAU|   26|\n",
      "|      7013Y0000011S5CQAU|   20|\n",
      "|      7013Y0000011S5DQAU|    1|\n",
      "|      7013Y0000011S5GQAU|   22|\n",
      "+------------------------+-----+\n",
      "only showing top 20 rows\n",
      "\n",
      "Agrupación y conteo para la columna 'msf_changeannualizedquota__c':\n",
      "+----------------------------+-----+\n",
      "|msf_changeannualizedquota__c|count|\n",
      "+----------------------------+-----+\n",
      "|                         0.0| 6334|\n",
      "|                        0.01| 1104|\n",
      "|                        0.02|   21|\n",
      "|                        0.03|    7|\n",
      "|                        0.04| 1122|\n",
      "|                        0.05|   55|\n",
      "|                        0.06|   10|\n",
      "|                        0.07|    1|\n",
      "|                        0.08|  469|\n",
      "|                        0.09|    1|\n",
      "|                         0.1|   92|\n",
      "|                        0.12| 2677|\n",
      "|                        0.15|   35|\n",
      "|                        0.16|    5|\n",
      "|                         0.2|  139|\n",
      "|                        0.22|    1|\n",
      "|                        0.24|   75|\n",
      "|                        0.25|   20|\n",
      "|                         0.3|    4|\n",
      "|                        0.35|    1|\n",
      "+----------------------------+-----+\n",
      "only showing top 20 rows\n",
      "\n",
      "Agrupación y conteo para la columna 'msf_changetype__c':\n",
      "+--------------------+-------+\n",
      "|   msf_changetype__c|  count|\n",
      "+--------------------+-------+\n",
      "|Changes_without_v...|     46|\n",
      "|            Decrease|  60927|\n",
      "|            Increase| 767916|\n",
      "|             Initial|1174128|\n",
      "+--------------------+-------+\n",
      "\n",
      "Agrupación y conteo para la columna 'msf_leadsource3__c':\n",
      "+------------------+------+\n",
      "|msf_leadsource3__c| count|\n",
      "+------------------+------+\n",
      "|                  |324964|\n",
      "|     Correo postal| 86296|\n",
      "|Entidad financiera| 67431|\n",
      "|            Online|135184|\n",
      "|              Otro|   541|\n",
      "|          Personal|445915|\n",
      "|          Teléfono|942686|\n",
      "+------------------+------+\n",
      "\n",
      "Agrupación y conteo para la columna 'msf_newannualizedquota__c':\n",
      "+-------------------------+-----+\n",
      "|msf_newannualizedquota__c|count|\n",
      "+-------------------------+-----+\n",
      "|                      0.0| 4689|\n",
      "|                     0.06|    1|\n",
      "|                     0.24|    2|\n",
      "|                      0.6|    1|\n",
      "|                     0.72|    5|\n",
      "|                      1.0|    6|\n",
      "|                      1.2|    2|\n",
      "|                      1.8|    3|\n",
      "|                      2.0|    3|\n",
      "|                      3.0| 1477|\n",
      "|                     3.01|   24|\n",
      "|                      4.0|   50|\n",
      "|                     4.33|    6|\n",
      "|                      4.8|    2|\n",
      "|                      5.0| 1263|\n",
      "|                     5.87|    1|\n",
      "|                      6.0|  437|\n",
      "|                     6.01|  428|\n",
      "|                      7.0|   93|\n",
      "|                      7.2|   11|\n",
      "+-------------------------+-----+\n",
      "only showing top 20 rows\n",
      "\n",
      "Agrupación y conteo para la columna 'msf_newrecurringperiod__c':\n",
      "+-------------------------+-------+\n",
      "|msf_newrecurringperiod__c|  count|\n",
      "+-------------------------+-------+\n",
      "|                         |    235|\n",
      "|                Bimensual|   9485|\n",
      "|                  Monthly|1536733|\n",
      "|                Quarterly| 170741|\n",
      "|                Semestral|  34468|\n",
      "|                   Yearly| 251355|\n",
      "+-------------------------+-------+\n",
      "\n",
      "Agrupación y conteo para la columna 'msf_contactid__c':\n",
      "+------------------+-----+\n",
      "|  msf_contactid__c|count|\n",
      "+------------------+-----+\n",
      "|0033Y00002uNQ4OQAW|    2|\n",
      "|0033Y00002uNQ4PQAW|    1|\n",
      "|0033Y00002uNQ4QQAW|    5|\n",
      "|0033Y00002uNQ4RQAW|    5|\n",
      "|0033Y00002uNQ4SQAW|    2|\n",
      "|0033Y00002uNQ4TQAW|    4|\n",
      "|0033Y00002uNQ4UQAW|    1|\n",
      "|0033Y00002uNQ4VQAW|    6|\n",
      "|0033Y00002uNQ4WQAW|    5|\n",
      "|0033Y00002uNQ4XQAW|    1|\n",
      "|0033Y00002uNQ4YQAW|   10|\n",
      "|0033Y00002uNQ4ZQAW|    3|\n",
      "|0033Y00002uNQ4aQAG|    2|\n",
      "|0033Y00002uNQ4bQAG|    9|\n",
      "|0033Y00002uNQ4cQAG|    3|\n",
      "|0033Y00002uNQ4dQAG|    1|\n",
      "|0033Y00002uNQ4eQAG|    2|\n",
      "|0033Y00002uNQ4fQAG|    2|\n",
      "|0033Y00002uNQ4gQAG|    3|\n",
      "|0033Y00002uNQ4hQAG|    1|\n",
      "+------------------+-----+\n",
      "only showing top 20 rows\n",
      "\n",
      "Agrupación y conteo para la columna 'msf_changedate__c':\n",
      "+-----------------+-----+\n",
      "|msf_changedate__c|count|\n",
      "+-----------------+-----+\n",
      "|             null|  186|\n",
      "|       1988-02-01|    2|\n",
      "|       1988-05-01|    1|\n",
      "|       1990-01-01|    1|\n",
      "|       1990-01-10|    1|\n",
      "|       1990-01-20|    1|\n",
      "|       1990-02-12|    1|\n",
      "|       1990-02-20|    2|\n",
      "|       1990-03-01|    2|\n",
      "|       1990-03-31|    1|\n",
      "|       1990-04-20|    1|\n",
      "|       1990-06-10|    1|\n",
      "|       1990-09-25|    2|\n",
      "|       1990-10-01|    3|\n",
      "|       1990-11-01|    1|\n",
      "|       1990-12-10|    4|\n",
      "|       1991-01-01|    4|\n",
      "|       1991-01-02|    1|\n",
      "|       1991-01-03|    3|\n",
      "|       1991-01-04|    4|\n",
      "+-----------------+-----+\n",
      "only showing top 20 rows\n"
     ]
    }
   ],
   "source": [
    "# Vemos que valores puede tomar las variables seleccionadas \n",
    "\n",
    "for columna in columnas:\n",
    "    resultado = df_merge.groupBy(columna).count().orderBy(columna)\n",
    "    print(f\"Agrupación y conteo para la columna '{columna}':\")\n",
    "    resultado.show()"
   ]
  },
  {
   "cell_type": "code",
   "execution_count": null,
   "id": "96e738f3-bc66-4785-9f4a-53c268862053",
   "metadata": {},
   "outputs": [],
   "source": []
  },
  {
   "cell_type": "markdown",
   "id": "4010978f-fad8-409e-b6c2-9b1a9f701035",
   "metadata": {},
   "source": [
    "### Cargamos el dataframe guardado"
   ]
  },
  {
   "cell_type": "code",
   "execution_count": 8,
   "id": "cc773303-420e-4970-965b-abf2cf67faed",
   "metadata": {
    "tags": []
   },
   "outputs": [
    {
     "name": "stdout",
     "output_type": "stream",
     "text": [
      "\n"
     ]
    }
   ],
   "source": [
    "#df_merge = (\n",
    "#  spark.read\n",
    "#    .option(\"header\", \"true\")\n",
    "#    .option(\"quote\", \"\\\"\")\n",
    "#    .option(\"escape\" , \"\\\"\")   \n",
    "#    .format(\"parquet\")\n",
    "#    .load(f\"s3://{BUCKET_NAME}/output/df_merge_m\")\n",
    "#)"
   ]
  },
  {
   "cell_type": "code",
   "execution_count": 24,
   "id": "b985e661-a9d2-4291-aee9-ab43bd006cc4",
   "metadata": {
    "tags": []
   },
   "outputs": [
    {
     "name": "stdout",
     "output_type": "stream",
     "text": [
      "Estadísticas para columnas numéricas:\n",
      "+-------+----------------------+------------------+-------------------------------+------------------------+----------------------------+-------------------------+------------------+\n",
      "|summary|msf_annualizedquota__c|    msf_LTVCont__c|msf_ScoringRFVRecurringDonor__c|msf_AverageDonorValue__c|msf_changeannualizedquota__c|msf_newannualizedquota__c|               age|\n",
      "+-------+----------------------+------------------+-------------------------------+------------------------+----------------------------+-------------------------+------------------+\n",
      "|  count|               2003017|           1942916|                        2003017|                  747082|                     2003017|                  2003017|           1612506|\n",
      "|   mean|     184.4650120543163|1931.3332818660201|              3.036253811125628|        79.5151679333741|          12069.958700100902|        8096.571041059566|57.796179983206265|\n",
      "| stddev|    1455.8497391508722| 4362.323871908639|             1.7703804546175819|       365.2434667075695|           9756879.899251426|        7926079.490363027|16.251285130589896|\n",
      "|    min|                   0.0|              0.01|                            0.0|                    0.01|                         0.0|                      0.0|               0.0|\n",
      "|    max|             2000000.0|        2096514.47|                            7.0|                110670.7|                8.05264788E9|             8.05264788E9|             311.0|\n",
      "+-------+----------------------+------------------+-------------------------------+------------------------+----------------------------+-------------------------+------------------+\n",
      "\n",
      "Estadísticas para columnas de tipo 'string':\n",
      "+-------+------------------+-------------------------+-------------------------------+------------------+--------------------+------------------+----------------------------+-------------------------------------+------------------+---------+------------------+--------------------+---------------------------------------+--------------------------------+------------------+------------------------+------------------------+------------------+-------------------------+------------------+\n",
      "|summary|            rec_id|msf_currentleadsource1__c|msf_currentquotamodification__c|msf_leadsource1__c|     msf_memberid__c| npe03__contact__c|npe03__installment_period__c|npe03__recurring_donation_campaign__c|  msf_birthyear__c|Gender__c|            con_id|msf_EntryCampaign__c|msf_FirstCampaignEntryRecurringDonor__c|msf_FirstCampaingColaboration__c|            quo_id|msf_recurringdonation__c|msf_campaigninfluence__c|msf_leadsource3__c|msf_newrecurringperiod__c|  msf_contactid__c|\n",
      "+-------+------------------+-------------------------+-------------------------------+------------------+--------------------+------------------+----------------------------+-------------------------------------+------------------+---------+------------------+--------------------+---------------------------------------+--------------------------------+------------------+------------------------+------------------------+------------------+-------------------------+------------------+\n",
      "|  count|           2003017|                  2003017|                        2003017|           2003017|             2003017|           2003017|                     2003017|                              2003017|           2003017|  2003017|           2003017|             2003017|                                2003017|                         2003017|           2003017|                 2003017|                 2003017|           2003017|                  2003017|           2003017|\n",
      "|   mean|              null|                     null|                           null|              null|1.0795867927846843E7|              null|                        null|                                 null|1965.2038200167938|     null|              null|                null|                                   null|                            null|              null|                    null|                    null|              null|                     null|              null|\n",
      "| stddev|              null|                     null|                           null|              null|   5429306.055116764|              null|                        null|                                 null|16.251285130589913|     null|              null|                null|                                   null|                            null|              null|                    null|                    null|              null|                     null|              null|\n",
      "|    min|a093Y00001RZ7XfQAL|                         |                               |                  |              100000|0033Y00002uNQ4OQAW|                            |                                     |                  |         |0033Y00002uNQ4OQAW|                    |                                       |                                |a1y3Y000001sAttQAE|      a093Y00001RZ7XfQAL|                        |                  |                         |0033Y00002uNQ4OQAW|\n",
      "|    25%|              null|                     null|                           null|              null|         1.0197567E7|              null|                        null|                                 null|            1954.0|     null|              null|                null|                                   null|                            null|              null|                    null|                    null|              null|                     null|              null|\n",
      "|    50%|              null|                     null|                           null|              null|         1.0692439E7|              null|                        null|                                 null|            1965.0|     null|              null|                null|                                   null|                            null|              null|                    null|                    null|              null|                     null|              null|\n",
      "|    75%|              null|                     null|                           null|              null|         1.1310707E7|              null|                        null|                                 null|            1976.0|     null|              null|                null|                                   null|                            null|              null|                    null|                    null|              null|                     null|              null|\n",
      "|    max|a093Y00001g8pnRQAQ|                      n/a|             a1y3Y00000B89bBQAR|               n/a|             9999999|0033Y00003lhScpQAE|                      Yearly|                   7013Y0000022cxcQAA|              2023|    Other|0033Y00003lhScpQAE|  7013Y0000022cxcQAA|                     7013Y0000022cxcQAA|              7013Y0000022cxcQAA|a1y3Y00000B89bBQAR|      a093Y00001g8pnRQAQ|      7013Y0000022cxcQAA|          Teléfono|                   Yearly|0033Y00003lhScpQAE|\n",
      "+-------+------------------+-------------------------+-------------------------------+------------------+--------------------+------------------+----------------------------+-------------------------------------+------------------+---------+------------------+--------------------+---------------------------------------+--------------------------------+------------------+------------------------+------------------------+------------------+-------------------------+------------------+\n"
     ]
    }
   ],
   "source": [
    "tipos_de_columnas = df_merge.dtypes\n",
    "\n",
    "# Hacemos dos listas para almacenar las columnas numéricas y string: \n",
    "columnas_numericas = []\n",
    "columnas_string = []\n",
    "\n",
    "for columna, tipo in tipos_de_columnas:\n",
    "    if tipo == 'double':\n",
    "        columnas_numericas.append(columna)\n",
    "    elif tipo == 'string':\n",
    "        columnas_string.append(columna)\n",
    "       \n",
    "if columnas_numericas:\n",
    "    print(\"Estadísticas para columnas numéricas:\")\n",
    "    df_merge.select(columnas_numericas).describe().show()\n",
    "else:\n",
    "    print(\"No hay columnas numéricas en el DataFrame.\")\n",
    "\n",
    "# Hacer el summary para las columnas de tipo 'string'\n",
    "if columnas_string:\n",
    "    print(\"Estadísticas para columnas de tipo 'string':\")\n",
    "    df_merge.select(columnas_string).summary().show()\n",
    "else:\n",
    "    print(\"No hay columnas de tipo 'string' en el DataFrame.\")"
   ]
  },
  {
   "cell_type": "code",
   "execution_count": 27,
   "id": "4fcfbfa2-976a-4970-bd4f-f49224f41f21",
   "metadata": {
    "tags": []
   },
   "outputs": [
    {
     "name": "stdout",
     "output_type": "stream",
     "text": [
      "root\n",
      " |-- rec_id: string (nullable = true)\n",
      " |-- msf_annualizedquota__c: double (nullable = true)\n",
      " |-- msf_cancelationdate__c: date (nullable = true)\n",
      " |-- msf_currentleadsource1__c: string (nullable = true)\n",
      " |-- msf_currentquotamodification__c: string (nullable = true)\n",
      " |-- msf_leadsource1__c: string (nullable = true)\n",
      " |-- msf_memberid__c: string (nullable = true)\n",
      " |-- npe03__contact__c: string (nullable = true)\n",
      " |-- npe03__date_established__c: date (nullable = true)\n",
      " |-- npe03__installment_period__c: string (nullable = true)\n",
      " |-- npe03__recurring_donation_campaign__c: string (nullable = true)\n",
      " |-- msf_birthyear__c: string (nullable = true)\n",
      " |-- Gender__c: string (nullable = true)\n",
      " |-- msf_LTVCont__c: double (nullable = true)\n",
      " |-- msf_PressureComplaint__c: boolean (nullable = true)\n",
      " |-- msf_ScoringRFVRecurringDonor__c: double (nullable = true)\n",
      " |-- msf_AverageDonorValue__c: double (nullable = true)\n",
      " |-- con_id: string (nullable = true)\n",
      " |-- msf_EntryCampaign__c: string (nullable = true)\n",
      " |-- msf_FirstCampaignEntryRecurringDonor__c: string (nullable = true)\n",
      " |-- msf_FirstCampaingColaboration__c: string (nullable = true)\n",
      " |-- quo_id: string (nullable = true)\n",
      " |-- isdeleted: boolean (nullable = true)\n",
      " |-- msf_recurringdonation__c: string (nullable = true)\n",
      " |-- msf_campaigninfluence__c: string (nullable = true)\n",
      " |-- msf_changeannualizedquota__c: double (nullable = true)\n",
      " |-- msf_leadsource3__c: string (nullable = true)\n",
      " |-- msf_newannualizedquota__c: double (nullable = true)\n",
      " |-- msf_newrecurringperiod__c: string (nullable = true)\n",
      " |-- msf_contactid__c: string (nullable = true)\n",
      " |-- msf_changedate__c: date (nullable = true)\n",
      " |-- age: double (nullable = true)\n"
     ]
    }
   ],
   "source": [
    "df_merge.printSchema()"
   ]
  },
  {
   "cell_type": "code",
   "execution_count": null,
   "id": "185f85af-c79b-4086-b03d-666228f6f497",
   "metadata": {},
   "outputs": [],
   "source": []
  },
  {
   "cell_type": "code",
   "execution_count": 60,
   "id": "08c35ca1-d83c-4917-9f96-5441ca46d9af",
   "metadata": {
    "tags": []
   },
   "outputs": [
    {
     "name": "stdout",
     "output_type": "stream",
     "text": [
      "df_2015\n",
      "df_2016\n",
      "df_2017\n",
      "df_2018\n",
      "df_2019\n",
      "df_2020\n",
      "df_2021\n"
     ]
    }
   ],
   "source": [
    "from pyspark.sql import SparkSession\n",
    "from pyspark.sql.functions import col, lit, when\n",
    "from pyspark.sql.types import StructType, StructField, IntegerType\n",
    "from pyspark.sql.functions import to_date\n",
    "\n",
    "dataframes_to_union = []\n",
    "\n",
    "# Definir una lista de fechas límite que te interesan, el 2022 sólo lo usamos para ver si incrementa cuota en ese año pero no para analizarlo dado que el 2023 no está comepleto\n",
    "fechas_limite = ['2015-12-31', '2016-12-31', '2017-12-31', '2018-12-31', '2019-12-31', '2020-12-31', '2021-12-31', '2022-12-31']\n",
    "\n",
    "# Iterar para cada año y crear las tablas respectivas\n",
    "for i in range(len(fechas_limite) -1):\n",
    "    # Filtrar registros activos para el año correspondiente\n",
    "    fecha_inicial = fechas_limite[i].split('-')[0] + '-01-01'\n",
    "    fecha_inicial_col = lit(int(fecha_inicial.split('-')[0]))  # Obtener el año como un valor numérico\n",
    "    fecha_baja_1Y = fechas_limite[i + 1]\n",
    "\n",
    "    filas_activos_ano = df_merge.filter(\n",
    "        (col(\"npe03__date_established__c\") <= fechas_limite[i]) &\n",
    "        (col(\"npe03__date_established__c\") >= fecha_inicial) &\n",
    "        ((col(\"msf_CancelationDate__c\") > fechas_limite[i]) | col(\"msf_CancelationDate__c\").isNull())\n",
    "    )\n",
    "\n",
    "    # Crear la columna 'flag_aumento' basada en 'msf_changetype__c'\n",
    "\n",
    "    df_resultado = filas_activos_ano.withColumn(\n",
    "        'flag_aumento',\n",
    "        when(\n",
    "            (filas_activos_ano['msf_changetype__c'] == 'Increase') &\n",
    "            ((filas_activos_ano[\"msf_changedate__c\"] <= fecha_baja_1Y) & (filas_activos_ano[\"msf_changedate__c\"] > fechas_limite[i])),\n",
    "            lit(1)\n",
    "        ).otherwise(lit(0))\n",
    "    )\n",
    "    # Crea el campo year_activo para saber en que año estmos mirando\n",
    "    df_resultado = df_resultado.withColumn('year_activo', fecha_inicial_col)\n",
    "\n",
    "    # Crear el nombre de la tabla para el año correspondiente\n",
    "    nombre_tabla = 'df_' + fecha_inicial.split('-')[0]\n",
    "   \n",
    "    # Crear la tabla correspondiente\n",
    "    globals()[nombre_tabla] = df_resultado\n",
    "\n",
    "    # Añadir el DataFrame resultante a la lista\n",
    "    dataframes_to_union.append(globals()[nombre_tabla])\n",
    "    print(nombre_tabla)\n",
    "\n",
    "# Unir todos los DataFrames en la lista\n",
    "df_union = dataframes_to_union[0]  # Tomar el primer DataFrame\n",
    "\n",
    "for df in dataframes_to_union[1:]:\n",
    "    df_union = df_union.unionAll(df)"
   ]
  },
  {
   "cell_type": "code",
   "execution_count": null,
   "id": "c9846e89-2e4b-4008-8b53-f2289fcb3bdc",
   "metadata": {},
   "outputs": [],
   "source": []
  },
  {
   "cell_type": "code",
   "execution_count": 61,
   "id": "473af892-7615-4c7a-bdfb-48480f37abc0",
   "metadata": {
    "tags": []
   },
   "outputs": [
    {
     "name": "stdout",
     "output_type": "stream",
     "text": [
      "Cantidad de filas originales: 127353\n",
      "Cantidad de filas después de eliminar duplicados: 127353\n",
      "Filas duplicadas encontradas: 0\n"
     ]
    }
   ],
   "source": [
    "# Veo con cuantos registros me he quedado:\n",
    "original_count = df_2015.count()\n",
    "no_duplicates_count = df_2015.dropDuplicates().count()\n",
    "print(\"Cantidad de filas originales:\", original_count)\n",
    "print(\"Cantidad de filas después de eliminar duplicados:\", no_duplicates_count)\n",
    "print(\"Filas duplicadas encontradas:\", original_count - no_duplicates_count)"
   ]
  },
  {
   "cell_type": "code",
   "execution_count": 62,
   "id": "8297f598-a732-4bae-9a41-b4cbdab58286",
   "metadata": {
    "tags": []
   },
   "outputs": [
    {
     "name": "stdout",
     "output_type": "stream",
     "text": [
      "Cantidad de filas originales: 117742\n",
      "Cantidad de filas después de eliminar duplicados: 117742\n",
      "Filas duplicadas encontradas: 0\n"
     ]
    }
   ],
   "source": [
    "# Veo con cuantos registros me he quedado:\n",
    "original_count = df_2016.count()\n",
    "no_duplicates_count = df_2016.dropDuplicates().count()\n",
    "print(\"Cantidad de filas originales:\", original_count)\n",
    "print(\"Cantidad de filas después de eliminar duplicados:\", no_duplicates_count)\n",
    "print(\"Filas duplicadas encontradas:\", original_count - no_duplicates_count)"
   ]
  },
  {
   "cell_type": "code",
   "execution_count": 63,
   "id": "4854fc8d-dd6b-4aad-93f6-25e9ccbfc14a",
   "metadata": {
    "tags": []
   },
   "outputs": [
    {
     "name": "stdout",
     "output_type": "stream",
     "text": [
      "Cantidad de filas originales: 108021\n",
      "Cantidad de filas después de eliminar duplicados: 108021\n",
      "Filas duplicadas encontradas: 0\n"
     ]
    }
   ],
   "source": [
    "# Veo con cuantos registros me he quedado por año activo:\n",
    "original_count = df_2017.count()\n",
    "no_duplicates_count = df_2017.dropDuplicates().count()\n",
    "print(\"Cantidad de filas originales:\", original_count)\n",
    "print(\"Cantidad de filas después de eliminar duplicados:\", no_duplicates_count)\n",
    "print(\"Filas duplicadas encontradas:\", original_count - no_duplicates_count)"
   ]
  },
  {
   "cell_type": "code",
   "execution_count": 64,
   "id": "20108719-a95f-4327-88df-c69c5d1c1b02",
   "metadata": {
    "tags": []
   },
   "outputs": [
    {
     "name": "stdout",
     "output_type": "stream",
     "text": [
      "Cantidad de filas originales: 77277\n",
      "Cantidad de filas después de eliminar duplicados: 77277\n",
      "Filas duplicadas encontradas: 0\n"
     ]
    }
   ],
   "source": [
    "# Veo con cuantos registros me he quedado:\n",
    "original_count = df_2018.count()\n",
    "no_duplicates_count = df_2018.dropDuplicates().count()\n",
    "print(\"Cantidad de filas originales:\", original_count)\n",
    "print(\"Cantidad de filas después de eliminar duplicados:\", no_duplicates_count)\n",
    "print(\"Filas duplicadas encontradas:\", original_count - no_duplicates_count)"
   ]
  },
  {
   "cell_type": "code",
   "execution_count": 65,
   "id": "629672b0-9215-463e-b76c-51579670a109",
   "metadata": {
    "tags": []
   },
   "outputs": [
    {
     "name": "stdout",
     "output_type": "stream",
     "text": [
      "Cantidad de filas originales: 65402\n",
      "Cantidad de filas después de eliminar duplicados: 65402\n",
      "Filas duplicadas encontradas: 0\n"
     ]
    }
   ],
   "source": [
    "# Veo con cuantos registros me he quedado:\n",
    "original_count = df_2019.count()\n",
    "no_duplicates_count = df_2019.dropDuplicates().count()\n",
    "print(\"Cantidad de filas originales:\", original_count)\n",
    "print(\"Cantidad de filas después de eliminar duplicados:\", no_duplicates_count)\n",
    "print(\"Filas duplicadas encontradas:\", original_count - no_duplicates_count)"
   ]
  },
  {
   "cell_type": "code",
   "execution_count": 66,
   "id": "f1101b7b-9bb2-4dd9-8386-2671b4b3fab3",
   "metadata": {
    "tags": []
   },
   "outputs": [
    {
     "name": "stdout",
     "output_type": "stream",
     "text": [
      "Cantidad de filas originales: 53060\n",
      "Cantidad de filas después de eliminar duplicados: 53060\n",
      "Filas duplicadas encontradas: 0\n"
     ]
    }
   ],
   "source": [
    "# Veo con cuantos registros me he quedado:\n",
    "original_count = df_2020.count()\n",
    "no_duplicates_count = df_2020.dropDuplicates().count()\n",
    "print(\"Cantidad de filas originales:\", original_count)\n",
    "print(\"Cantidad de filas después de eliminar duplicados:\", no_duplicates_count)\n",
    "print(\"Filas duplicadas encontradas:\", original_count - no_duplicates_count)"
   ]
  },
  {
   "cell_type": "code",
   "execution_count": 67,
   "id": "e0fe67f3-b66a-4db6-886f-89749cfc0324",
   "metadata": {
    "tags": []
   },
   "outputs": [
    {
     "name": "stdout",
     "output_type": "stream",
     "text": [
      "Cantidad de filas originales: 48998\n",
      "Cantidad de filas después de eliminar duplicados: 48998\n",
      "Filas duplicadas encontradas: 0\n"
     ]
    }
   ],
   "source": [
    "# Veo con cuantos registros me he quedado:\n",
    "original_count = df_2021.count()\n",
    "no_duplicates_count = df_2021.dropDuplicates().count()\n",
    "print(\"Cantidad de filas originales:\", original_count)\n",
    "print(\"Cantidad de filas después de eliminar duplicados:\", no_duplicates_count)\n",
    "print(\"Filas duplicadas encontradas:\", original_count - no_duplicates_count)"
   ]
  },
  {
   "cell_type": "code",
   "execution_count": 68,
   "id": "3d4f7d22-e7f3-4978-a608-ddbd956e586a",
   "metadata": {
    "tags": []
   },
   "outputs": [
    {
     "name": "stdout",
     "output_type": "stream",
     "text": [
      "Cantidad de filas originales: 597853\n",
      "Cantidad de filas después de eliminar duplicados: 597853\n",
      "Filas duplicadas encontradas: 0\n"
     ]
    }
   ],
   "source": [
    "# Veo con cuantos registros me he quedado (suma total) OK:\n",
    "original_count = df_union.count()\n",
    "no_duplicates_count = df_union.dropDuplicates().count()\n",
    "print(\"Cantidad de filas originales:\", original_count)\n",
    "print(\"Cantidad de filas después de eliminar duplicados:\", no_duplicates_count)\n",
    "print(\"Filas duplicadas encontradas:\", original_count - no_duplicates_count)"
   ]
  },
  {
   "cell_type": "markdown",
   "id": "5c7d94db-62e6-4efa-b201-9e703ff37028",
   "metadata": {},
   "source": [
    "### Guardamos la tabla df_union en S3 en formato parquet y en formto csv para llevarlo a local"
   ]
  },
  {
   "cell_type": "code",
   "execution_count": null,
   "id": "ecb165e5-2216-4ac2-ac15-bc862b241574",
   "metadata": {
    "tags": []
   },
   "outputs": [],
   "source": [
    "(\n",
    "  df_union.write\n",
    "        .format(\"parquet\")\n",
    "        .mode(\"overwrite\")\n",
    "        .save(f\"s3://{BUCKET_NAME}/output/df_union\")\n",
    ")"
   ]
  },
  {
   "cell_type": "code",
   "execution_count": null,
   "id": "5396eb32-f32a-4d36-a66c-0e68d97f27d8",
   "metadata": {},
   "outputs": [],
   "source": [
    "(\n",
    "  df_union.coalesce(1).write\n",
    "    .format(\"csv\")\n",
    "    .option(\"compression\", \"gzip\")\n",
    "    .option(\"header\", True)\n",
    "    .mode(\"overwrite\")\n",
    "    .save(f\"s3://{BUCKET_NAME}/output/df_union_csv\")\n",
    ")"
   ]
  },
  {
   "cell_type": "code",
   "execution_count": 2,
   "id": "9d040f81-9138-4a96-80b0-cd8a86e32ceb",
   "metadata": {
    "tags": []
   },
   "outputs": [
    {
     "name": "stdout",
     "output_type": "stream",
     "text": [
      "\n"
     ]
    }
   ],
   "source": [
    "df_union = (\n",
    "  spark.read\n",
    "    .option(\"header\", \"true\")\n",
    "    .option(\"quote\", \"\\\"\")\n",
    "    .option(\"escape\" , \"\\\"\")   \n",
    "    .format(\"parquet\")\n",
    "    .load(f\"s3://{BUCKET_NAME}/output/df_union\")\n",
    ")"
   ]
  },
  {
   "cell_type": "code",
   "execution_count": null,
   "id": "356d4781-987e-4be8-809d-45a784d817e6",
   "metadata": {},
   "outputs": [],
   "source": []
  },
  {
   "cell_type": "code",
   "execution_count": null,
   "id": "655f96c2-6617-4cf8-9fb8-3ce7d1845b4f",
   "metadata": {},
   "outputs": [],
   "source": []
  },
  {
   "cell_type": "code",
   "execution_count": 3,
   "id": "5f2f7f45-4a18-4b05-b939-f621628af1cf",
   "metadata": {
    "tags": []
   },
   "outputs": [
    {
     "name": "stdout",
     "output_type": "stream",
     "text": [
      "+------------------+----------------------+----------------------+-------------------------+-------------------------------+------------------+---------------+------------------+--------------------------+----------------------------+-------------------------------------+----------------+---------+--------------+------------------------+-------------------------------+------------------------+------------------+--------------------+---------------------------------------+--------------------------------+------------------+---------+------------------------+------------------------+----------------------------+-----------------+------------------+-------------------------+-------------------------+------------------+-----------------+------------+-----------+\n",
      "|            rec_id|msf_annualizedquota__c|msf_cancelationdate__c|msf_currentleadsource1__c|msf_currentquotamodification__c|msf_leadsource1__c|msf_memberid__c| npe03__contact__c|npe03__date_established__c|npe03__installment_period__c|npe03__recurring_donation_campaign__c|msf_birthyear__c|Gender__c|msf_LTVCont__c|msf_PressureComplaint__c|msf_ScoringRFVRecurringDonor__c|msf_AverageDonorValue__c|            con_id|msf_EntryCampaign__c|msf_FirstCampaignEntryRecurringDonor__c|msf_FirstCampaingColaboration__c|            quo_id|isdeleted|msf_recurringdonation__c|msf_campaigninfluence__c|msf_changeannualizedquota__c|msf_changetype__c|msf_leadsource3__c|msf_newannualizedquota__c|msf_newrecurringperiod__c|  msf_contactid__c|msf_changedate__c|flag_aumento|year_activo|\n",
      "+------------------+----------------------+----------------------+-------------------------+-------------------------------+------------------+---------------+------------------+--------------------------+----------------------------+-------------------------------------+----------------+---------+--------------+------------------------+-------------------------------+------------------------+------------------+--------------------+---------------------------------------+--------------------------------+------------------+---------+------------------------+------------------------+----------------------------+-----------------+------------------+-------------------------+-------------------------+------------------+-----------------+------------+-----------+\n",
      "|a093Y00001ReiWeQAJ|                 288.0|                  null|            Telemarketing|             a1y3Y000009fObAQAU|           Web MSF|       11414440|0033Y00002uogQBQAY|                2016-12-31|                     Monthly|                   7013Y000001mrBSQAY|            1966|     Male|       2244.16|                   false|                            5.0|                   53.04|0033Y00002uogQBQAY|  7013Y000001mrBSQAY|                     7013Y000001mrBSQAY|              7013Y000001mrBSQAY|a1y3Y000002Qsv9QAC|    false|      a093Y00001ReiWeQAJ|      7013Y000001mqtMQAQ|                        60.0|         Increase|          Teléfono|                    300.0|                  Monthly|0033Y00002uogQBQAY|       2017-12-04|           1|       2016|\n",
      "|a093Y00001ReiWeQAJ|                 288.0|                  null|            Telemarketing|             a1y3Y000009fObAQAU|           Web MSF|       11414440|0033Y00002uogQBQAY|                2016-12-31|                     Monthly|                   7013Y000001mrBSQAY|            1966|     Male|       2244.16|                   false|                            5.0|                   53.04|0033Y00002uogQBQAY|  7013Y000001mrBSQAY|                     7013Y000001mrBSQAY|              7013Y000001mrBSQAY|a1y3Y000002QsvAQAS|    false|      a093Y00001ReiWeQAJ|      7013Y000001mqtMQAQ|                        60.0|         Increase|          Teléfono|                    360.0|                  Monthly|0033Y00002uogQBQAY|       2018-12-03|           0|       2016|\n",
      "|a093Y00001ReiWeQAJ|                 288.0|                  null|            Telemarketing|             a1y3Y000009fObAQAU|           Web MSF|       11414440|0033Y00002uogQBQAY|                2016-12-31|                     Monthly|                   7013Y000001mrBSQAY|            1966|     Male|       2244.16|                   false|                            5.0|                   53.04|0033Y00002uogQBQAY|  7013Y000001mrBSQAY|                     7013Y000001mrBSQAY|              7013Y000001mrBSQAY|a1y3Y000004u3ecQAA|    false|      a093Y00001ReiWeQAJ|      7013Y000001mrBSQAY|                       240.0|          Initial|            Online|                    240.0|                  Monthly|0033Y00002uogQBQAY|       2016-12-31|           0|       2016|\n",
      "|a093Y00001ReiWeQAJ|                 288.0|                  null|            Telemarketing|             a1y3Y000009fObAQAU|           Web MSF|       11414440|0033Y00002uogQBQAY|                2016-12-31|                     Monthly|                   7013Y000001mrBSQAY|            1966|     Male|       2244.16|                   false|                            5.0|                   53.04|0033Y00002uogQBQAY|  7013Y000001mrBSQAY|                     7013Y000001mrBSQAY|              7013Y000001mrBSQAY|a1y3Y0000051uiKQAQ|    false|      a093Y00001ReiWeQAJ|      7013Y000001mrBLQAY|                       120.0|         Decrease|            Online|                    240.0|                  Monthly|0033Y00002uogQBQAY|       2021-11-11|           0|       2016|\n",
      "|a093Y00001ReiWeQAJ|                 288.0|                  null|            Telemarketing|             a1y3Y000009fObAQAU|           Web MSF|       11414440|0033Y00002uogQBQAY|                2016-12-31|                     Monthly|                   7013Y000001mrBSQAY|            1966|     Male|       2244.16|                   false|                            5.0|                   53.04|0033Y00002uogQBQAY|  7013Y000001mrBSQAY|                     7013Y000001mrBSQAY|              7013Y000001mrBSQAY|a1y3Y000009fObAQAU|    false|      a093Y00001ReiWeQAJ|      7013Y000001vXGiQAM|                        48.0|         Increase|          Teléfono|                    288.0|                  Monthly|0033Y00002uogQBQAY|       2022-11-16|           0|       2016|\n",
      "+------------------+----------------------+----------------------+-------------------------+-------------------------------+------------------+---------------+------------------+--------------------------+----------------------------+-------------------------------------+----------------+---------+--------------+------------------------+-------------------------------+------------------------+------------------+--------------------+---------------------------------------+--------------------------------+------------------+---------+------------------------+------------------------+----------------------------+-----------------+------------------+-------------------------+-------------------------+------------------+-----------------+------------+-----------+\n"
     ]
    }
   ],
   "source": [
    "# Filtrar aquellos con flag_aumento igual a 1\n",
    "registros_flag_1 = df_union.filter(df_union['rec_id'] == 'a093Y00001ReiWeQAJ')\n",
    "\n",
    "# Mostrar los registros con flag_aumento igual a 1\n",
    "registros_flag_1.show()"
   ]
  },
  {
   "cell_type": "code",
   "execution_count": 4,
   "id": "6a15eb9f-cb48-4705-a628-42265e53d19b",
   "metadata": {
    "tags": []
   },
   "outputs": [
    {
     "name": "stdout",
     "output_type": "stream",
     "text": [
      "+------------------+----------------------+----------------------+-------------------------+-------------------------------+------------------+---------------+------------------+--------------------------+----------------------------+-------------------------------------+----------------+---------+--------------+------------------------+-------------------------------+------------------------+------------------+--------------------+---------------------------------------+--------------------------------+------------------+---------+------------------------+------------------------+----------------------------+-----------------+------------------+-------------------------+-------------------------+------------------+-----------------+------------+-----------+\n",
      "|            rec_id|msf_annualizedquota__c|msf_cancelationdate__c|msf_currentleadsource1__c|msf_currentquotamodification__c|msf_leadsource1__c|msf_memberid__c| npe03__contact__c|npe03__date_established__c|npe03__installment_period__c|npe03__recurring_donation_campaign__c|msf_birthyear__c|Gender__c|msf_LTVCont__c|msf_PressureComplaint__c|msf_ScoringRFVRecurringDonor__c|msf_AverageDonorValue__c|            con_id|msf_EntryCampaign__c|msf_FirstCampaignEntryRecurringDonor__c|msf_FirstCampaingColaboration__c|            quo_id|isdeleted|msf_recurringdonation__c|msf_campaigninfluence__c|msf_changeannualizedquota__c|msf_changetype__c|msf_leadsource3__c|msf_newannualizedquota__c|msf_newrecurringperiod__c|  msf_contactid__c|msf_changedate__c|flag_aumento|year_activo|\n",
      "+------------------+----------------------+----------------------+-------------------------+-------------------------------+------------------+---------------+------------------+--------------------------+----------------------------+-------------------------------------+----------------+---------+--------------+------------------------+-------------------------------+------------------------+------------------+--------------------+---------------------------------------+--------------------------------+------------------+---------+------------------------+------------------------+----------------------------+-----------------+------------------+-------------------------+-------------------------+------------------+-----------------+------------+-----------+\n",
      "|a093Y00001RZUJSQA5|                 180.0|            2022-10-17|                  Web MSF|             a1y3Y0000095JpPQAU|           Web MSF|       10749992|0033Y00002unsTSQAY|                2017-01-01|                     Monthly|                   7013Y000001mrBLQAY|                |   Female|        2070.0|                   false|                            2.2|                    null|0033Y00002unsTSQAY|  7013Y000001mr1MQAQ|                     7013Y000001mrBLQAY|              7013Y000001mrBLQAY|a1y3Y0000095JpPQAU|    false|      a093Y00001RZUJSQA5|      7013Y000001mrBLQAY|                       180.0|         Decrease|            Online|                    180.0|                  Monthly|0033Y00002unsTSQAY|       2022-08-11|           0|       2017|\n",
      "|a093Y00001RZmiMQAT|                  36.0|            2019-04-10|            Telemarketing|             a1y3Y000002QXsHQAW|     Telemarketing|       10991270|0033Y00002uo8yWQAQ|                2017-02-20|                     Monthly|                   7013Y000001mqtnQAA|            1946|     Male|         401.0|                   false|                            1.2|                    null|0033Y00002uo8yWQAQ|  7013Y000001mr34QAA|                     7013Y000001mr34QAA|              7013Y000001mr34QAA|a1y3Y000002QXsHQAW|    false|      a093Y00001RZmiMQAT|      7013Y000001mqtnQAA|                        60.0|         Decrease|          Teléfono|                     36.0|                  Monthly|0033Y00002uo8yWQAQ|       2018-11-02|           0|       2017|\n",
      "|a093Y00001RebiuQAB|                 120.0|            2021-01-08|                  Web MSF|             a1y3Y000002RaE5QAK| Persona a persona|       11570819|0033Y00002uouDOQAY|                2017-11-15|                     Monthly|                   7013Y000001mr1kQAA|            1997|     Male|         220.0|                   false|                            1.5|                    null|0033Y00002uouDOQAY|  7013Y000001mr1kQAA|                     7013Y000001mr1kQAA|              7013Y000001mr1kQAA|a1y3Y000002RaE5QAK|    false|      a093Y00001RebiuQAB|      7013Y000001mrBLQAY|                        60.0|         Decrease|            Online|                     60.0|                  Monthly|0033Y00002uouDOQAY|       2018-07-02|           0|       2017|\n",
      "|a093Y00001RecjAQAR|                  60.0|            2020-02-23|                  Web MSF|             a1y3Y000002QyITQA0| Persona a persona|       11535053|0033Y00002up9guQAA|                2017-07-04|                   Quarterly|                   7013Y000001mr4IQAQ|            1997|   Female|          55.0|                   false|                            1.2|                    null|0033Y00002up9guQAA|  7013Y000001mr4IQAQ|                     7013Y000001mr4IQAQ|              7013Y000001mr4IQAQ|a1y3Y000002QyITQA0|    false|      a093Y00001RecjAQAR|      7013Y000001mrBLQAY|                       164.0|         Decrease|            Online|                     16.0|                Quarterly|0033Y00002up9guQAA|       2017-11-02|           0|       2017|\n",
      "|a093Y00001RedgGQAR|                  10.0|            2020-01-13|         Teléfono campaña|             a1y3Y000002QzsWQAS| Persona a persona|       11535129|0033Y00002up9i4QAA|                2017-07-04|                      Yearly|                   7013Y000001mr3FQAQ|            1987|   Female|          70.0|                   false|                            0.9|                    null|0033Y00002up9i4QAA|  7013Y000001mr3FQAQ|                     7013Y000001mr3FQAQ|              7013Y000001mr3FQAQ|a1y3Y000002QzsWQAS|    false|      a093Y00001RedgGQAR|      7013Y000001mquNQAQ|                       110.0|         Decrease|          Teléfono|                     10.0|                   Yearly|0033Y00002up9i4QAA|       2019-01-02|           0|       2017|\n",
      "+------------------+----------------------+----------------------+-------------------------+-------------------------------+------------------+---------------+------------------+--------------------------+----------------------------+-------------------------------------+----------------+---------+--------------+------------------------+-------------------------------+------------------------+------------------+--------------------+---------------------------------------+--------------------------------+------------------+---------+------------------------+------------------------+----------------------------+-----------------+------------------+-------------------------+-------------------------+------------------+-----------------+------------+-----------+\n",
      "only showing top 5 rows\n"
     ]
    }
   ],
   "source": [
    "# Filtrar aquellos con flag_aumento igual a 1\n",
    "registros_flag_1 = df_union.filter((df_union['year_activo'] == 2017) & ( df_union['msf_changetype__c'] =='Decrease'))\n",
    "\n",
    "# Mostrar los registros con flag_aumento igual a 1\n",
    "registros_flag_1.show(5)"
   ]
  },
  {
   "cell_type": "code",
   "execution_count": null,
   "id": "68f1edf7-5a7b-46fc-b023-d58e5f906f5f",
   "metadata": {},
   "outputs": [],
   "source": []
  },
  {
   "cell_type": "code",
   "execution_count": null,
   "id": "15b183f5-50a4-4313-9f48-3dc9a61fa6e5",
   "metadata": {},
   "outputs": [],
   "source": []
  },
  {
   "cell_type": "code",
   "execution_count": null,
   "id": "a4f64202-9d80-453a-832b-0b778ce46ac6",
   "metadata": {},
   "outputs": [],
   "source": []
  },
  {
   "cell_type": "code",
   "execution_count": null,
   "id": "66cda9f5-9928-4217-9753-8579af096506",
   "metadata": {},
   "outputs": [],
   "source": []
  },
  {
   "cell_type": "code",
   "execution_count": null,
   "id": "b77f4377-7a12-4f84-9743-7125838569c9",
   "metadata": {},
   "outputs": [],
   "source": []
  },
  {
   "cell_type": "code",
   "execution_count": null,
   "id": "8503903d-c6f7-43eb-bf72-8aea3ed3e4b5",
   "metadata": {},
   "outputs": [],
   "source": []
  },
  {
   "cell_type": "code",
   "execution_count": null,
   "id": "d84000a7-07a0-4105-8c6f-e79180bb035a",
   "metadata": {},
   "outputs": [],
   "source": []
  },
  {
   "cell_type": "code",
   "execution_count": null,
   "id": "4c406233-c83a-411f-9bf2-f81bcc914626",
   "metadata": {},
   "outputs": [],
   "source": []
  },
  {
   "cell_type": "code",
   "execution_count": 28,
   "id": "f13f57ee-7a75-42d8-850f-61cb47333eb6",
   "metadata": {
    "tags": []
   },
   "outputs": [
    {
     "name": "stdout",
     "output_type": "stream",
     "text": [
      "+------------------+----------------------+----------------------+-------------------------+-------------------------------+------------------+---------------+------------------+--------------------------+----------------------------+-------------------------------------+----------------+---------+--------------+------------------------+-------------------------------+------------------------+------------------+--------------------+---------------------------------------+--------------------------------+------------------+---------+------------------------+------------------------+----------------------------+-----------------+------------------+-------------------------+-------------------------+------------------+-----------------+------------+\n",
      "|            rec_id|msf_annualizedquota__c|msf_cancelationdate__c|msf_currentleadsource1__c|msf_currentquotamodification__c|msf_leadsource1__c|msf_memberid__c| npe03__contact__c|npe03__date_established__c|npe03__installment_period__c|npe03__recurring_donation_campaign__c|msf_birthyear__c|Gender__c|msf_LTVCont__c|msf_PressureComplaint__c|msf_ScoringRFVRecurringDonor__c|msf_AverageDonorValue__c|            con_id|msf_EntryCampaign__c|msf_FirstCampaignEntryRecurringDonor__c|msf_FirstCampaingColaboration__c|            quo_id|isdeleted|msf_recurringdonation__c|msf_campaigninfluence__c|msf_changeannualizedquota__c|msf_changetype__c|msf_leadsource3__c|msf_newannualizedquota__c|msf_newrecurringperiod__c|  msf_contactid__c|msf_changedate__c|flag_aumento|\n",
      "+------------------+----------------------+----------------------+-------------------------+-------------------------------+------------------+---------------+------------------+--------------------------+----------------------------+-------------------------------------+----------------+---------+--------------+------------------------+-------------------------------+------------------------+------------------+--------------------+---------------------------------------+--------------------------------+------------------+---------+------------------------+------------------------+----------------------------+-----------------+------------------+-------------------------+-------------------------+------------------+-----------------+------------+\n",
      "|a093Y00001ReiWeQAJ|                 288.0|                  null|            Telemarketing|             a1y3Y000009fObAQAU|           Web MSF|       11414440|0033Y00002uogQBQAY|                2016-12-31|                     Monthly|                   7013Y000001mrBSQAY|            1966|     Male|       2244.16|                   false|                            5.0|                   53.04|0033Y00002uogQBQAY|  7013Y000001mrBSQAY|                     7013Y000001mrBSQAY|              7013Y000001mrBSQAY|a1y3Y000002Qsv9QAC|    false|      a093Y00001ReiWeQAJ|      7013Y000001mqtMQAQ|                        60.0|         Increase|          Teléfono|                    300.0|                  Monthly|0033Y00002uogQBQAY|       2017-12-04|           1|\n",
      "|a093Y00001ReiWOQAZ|                 120.0|            2022-05-25|                  Web MSF|             a1y3Y000001sJaDQAU|           Web MSF|       11414386|0033Y00002uogPvQAI|                2016-12-31|                   Quarterly|                   7013Y000001mrBSQAY|                |     Male|         960.0|                   false|                            2.0|                    null|0033Y00002uogPvQAI|  7013Y000001mrBSQAY|                     7013Y000001mrBSQAY|              7013Y000001mrBSQAY|a1y3Y000002QsurQAC|    false|      a093Y00001ReiWOQAZ|      7013Y000001mrBLQAY|                         0.0|         Increase|            Online|                    120.0|                Quarterly|0033Y00002uogPvQAI|       2018-07-02|           1|\n",
      "|a093Y00001ReiWOQAZ|                 120.0|            2022-05-25|                  Web MSF|             a1y3Y000001sJaDQAU|           Web MSF|       11414386|0033Y00002uogPvQAI|                2016-12-31|                   Quarterly|                   7013Y000001mrBSQAY|                |     Male|         960.0|                   false|                            2.0|                    null|0033Y00002uogPvQAI|  7013Y000001mrBSQAY|                     7013Y000001mrBSQAY|              7013Y000001mrBSQAY|a1y3Y000004ra3OQAQ|    false|      a093Y00001ReiWOQAZ|      7013Y000001mrBLQAY|                       240.0|         Increase|            Online|                    360.0|                  Monthly|0033Y00002uogPvQAI|       2018-09-03|           1|\n",
      "|a093Y00001ReiWeQAJ|                 288.0|                  null|            Telemarketing|             a1y3Y000009fObAQAU|           Web MSF|       11414440|0033Y00002uogQBQAY|                2016-12-31|                     Monthly|                   7013Y000001mrBSQAY|            1966|     Male|       2244.16|                   false|                            5.0|                   53.04|0033Y00002uogQBQAY|  7013Y000001mrBSQAY|                     7013Y000001mrBSQAY|              7013Y000001mrBSQAY|a1y3Y000002QsvAQAS|    false|      a093Y00001ReiWeQAJ|      7013Y000001mqtMQAQ|                        60.0|         Increase|          Teléfono|                    360.0|                  Monthly|0033Y00002uogQBQAY|       2018-12-03|           1|\n",
      "|a093Y00001ReiWAQAZ|                 200.0|                  null|            Telemarketing|             a1y3Y000002QsuZQAS|           Web MSF|       11414357|0033Y00002uogPfQAI|                2016-12-31|                   Quarterly|                   7013Y000001mrBSQAY|                |   Female|        1170.0|                   false|                            5.0|                    null|0033Y00002uogPfQAI|  7013Y000001mrBSQAY|                     7013Y000001mrBSQAY|              7013Y000001mrBSQAY|a1y3Y000002QsuYQAS|    false|      a093Y00001ReiWAQAZ|      7013Y000001mqtMQAQ|                        40.0|         Increase|          Teléfono|                    160.0|                Quarterly|0033Y00002uogPfQAI|       2018-10-02|           1|\n",
      "+------------------+----------------------+----------------------+-------------------------+-------------------------------+------------------+---------------+------------------+--------------------------+----------------------------+-------------------------------------+----------------+---------+--------------+------------------------+-------------------------------+------------------------+------------------+--------------------+---------------------------------------+--------------------------------+------------------+---------+------------------------+------------------------+----------------------------+-----------------+------------------+-------------------------+-------------------------+------------------+-----------------+------------+\n",
      "only showing top 5 rows\n"
     ]
    }
   ],
   "source": [
    "# Filtrar aquellos con flag_aumento igual a 1\n",
    "registros_flag_1 = df_resultado_final.filter((df_resultado_final['flag_aumento'] == 1) & (df_resultado_final[\"msf_changedate__c\"] >= '2017-01-01') & (df_resultado_final[\"npe03__date_established__c\"] == '2016-12-31'))\n",
    "\n",
    "# Mostrar los registros con flag_aumento igual a 1\n",
    "registros_flag_1.show(5)\n"
   ]
  },
  {
   "cell_type": "code",
   "execution_count": 8,
   "id": "9eb50738-a403-4aa0-89a9-e4d68bc212c7",
   "metadata": {
    "tags": []
   },
   "outputs": [
    {
     "name": "stdout",
     "output_type": "stream",
     "text": [
      "Cantidad de filas originales: 3152277\n",
      "Cantidad de filas después de eliminar duplicados: 1382092\n",
      "Filas duplicadas encontradas: 1770185\n"
     ]
    }
   ],
   "source": [
    "# Veo con cuantos registros me he quedado:\n",
    "original_count = df_resultado_final.count()\n",
    "no_duplicates_count = df_resultado_final.dropDuplicates().count()\n",
    "print(\"Cantidad de filas originales:\", original_count)\n",
    "print(\"Cantidad de filas después de eliminar duplicados:\", no_duplicates_count)\n",
    "print(\"Filas duplicadas encontradas:\", original_count - no_duplicates_count)"
   ]
  },
  {
   "cell_type": "code",
   "execution_count": null,
   "id": "65649585-f35a-41f1-8a5d-d98b72aa99e9",
   "metadata": {},
   "outputs": [],
   "source": []
  }
 ],
 "metadata": {
  "kernelspec": {
   "display_name": "Python 3 (ipykernel)",
   "language": "python",
   "name": "python3"
  },
  "language_info": {
   "codemirror_mode": {
    "name": "ipython",
    "version": 3
   },
   "file_extension": ".py",
   "mimetype": "text/x-python",
   "name": "python",
   "nbconvert_exporter": "python",
   "pygments_lexer": "ipython3",
   "version": "3.11.1"
  }
 },
 "nbformat": 4,
 "nbformat_minor": 5
}
