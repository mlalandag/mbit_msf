{
 "cells": [
  {
   "cell_type": "code",
   "execution_count": null,
   "id": "3abbb43a-450e-4dcb-840e-d9611cb59204",
   "metadata": {},
   "outputs": [],
   "source": [
    "# %%cleanup -f"
   ]
  },
  {
   "cell_type": "code",
   "execution_count": null,
   "id": "fd487038-513d-4036-a8ec-051516294eaf",
   "metadata": {},
   "outputs": [],
   "source": [
    "# spark"
   ]
  },
  {
   "cell_type": "code",
   "execution_count": null,
   "id": "83783501-2590-4829-b443-3026128d1d8f",
   "metadata": {},
   "outputs": [],
   "source": [
    "# %stop_session"
   ]
  },
  {
   "cell_type": "markdown",
   "id": "e9bb5460-95cf-4218-aee3-3fdc333a8a60",
   "metadata": {},
   "source": [
    "#### Importamos todas las funciones de pyspark que vamos a necesitar "
   ]
  },
  {
   "cell_type": "code",
   "execution_count": 3,
   "id": "6a354ba5-4080-4bb2-ad49-39f5a38678b6",
   "metadata": {
    "tags": []
   },
   "outputs": [
    {
     "name": "stdout",
     "output_type": "stream",
     "text": [
      "\n"
     ]
    }
   ],
   "source": [
    "from pyspark.sql.window import Window\n",
    "from pyspark.sql.functions import col, lag, datediff, last, when, date_add, udf, lit, desc, row_number, mean, sum\n",
    "from pyspark.sql.types import IntegerType\n",
    "from pyspark.ml.feature import OneHotEncoder, StringIndexer\n",
    "\n",
    "BUCKET_NAME = \"marcial-tmf-oct22-msf-data\""
   ]
  },
  {
   "cell_type": "markdown",
   "id": "30da7f5a-679c-41e9-a49f-c9fdb74c352a",
   "metadata": {},
   "source": [
    "### Contacts"
   ]
  },
  {
   "cell_type": "markdown",
   "id": "9a7a6c3d-189a-4317-8cc5-91633a765c36",
   "metadata": {},
   "source": [
    "#### Cargamos en un dataframe de Spark el fichero de Contactos de MSF"
   ]
  },
  {
   "cell_type": "code",
   "execution_count": 3,
   "id": "acba6f8b-bc52-4f87-aad2-9d9dd9dd37e3",
   "metadata": {
    "tags": []
   },
   "outputs": [
    {
     "name": "stdout",
     "output_type": "stream",
     "text": [
      "\n"
     ]
    }
   ],
   "source": [
    "df_con = (\n",
    "  spark.read\n",
    "    .option(\"header\", \"true\")\n",
    "    .option(\"quote\", \"\\\"\")\n",
    "    .option(\"escape\" , \"\\\"\")   \n",
    "    .format(\"parquet\")\n",
    "    .load(f\"s3://{BUCKET_NAME}/contact/MSF_Contact.parquet\")\n",
    ")"
   ]
  },
  {
   "cell_type": "markdown",
   "id": "84b394df-1a7a-42f3-9e00-e9d8d97ea6e7",
   "metadata": {},
   "source": [
    "#### Renombramos la columna id a con_id para que no haya ambiguedades en los merges"
   ]
  },
  {
   "cell_type": "code",
   "execution_count": 4,
   "id": "5bdc383e-8970-4584-8035-ee07df0d42da",
   "metadata": {
    "tags": []
   },
   "outputs": [
    {
     "name": "stdout",
     "output_type": "stream",
     "text": [
      "\n"
     ]
    }
   ],
   "source": [
    "df_con = df_con.withColumnRenamed(\"id\",\"con_id\")"
   ]
  },
  {
   "cell_type": "markdown",
   "id": "47797443-0b45-4a4a-8b52-8e678b3e0c1f",
   "metadata": {},
   "source": [
    "### Tasks"
   ]
  },
  {
   "cell_type": "markdown",
   "id": "d2b3dd41-8f91-4758-832b-43402701c822",
   "metadata": {},
   "source": [
    "#### Cargamos en un dataframe de Spark el fichero de Tareas de MSF"
   ]
  },
  {
   "cell_type": "code",
   "execution_count": 5,
   "id": "bb3c0896-6a3e-4e4a-8b3d-4b43c203d7ce",
   "metadata": {
    "tags": []
   },
   "outputs": [
    {
     "name": "stdout",
     "output_type": "stream",
     "text": [
      "\n"
     ]
    }
   ],
   "source": [
    "df_tasks = (\n",
    "  spark.read\n",
    "    .option(\"header\", \"true\")\n",
    "    .option(\"quote\", \"\\\"\")\n",
    "    .option(\"escape\" , \"\\\"\")   \n",
    "    .format(\"parquet\")\n",
    "    .load(f\"s3://{BUCKET_NAME}/task/MSF_Task.parquet\")\n",
    ")"
   ]
  },
  {
   "cell_type": "markdown",
   "id": "d4efa98a-dde9-4348-8af7-f2a71fd52598",
   "metadata": {},
   "source": [
    "#### Renombramos la columna id a task_id para que no haya ambiguedades en los merges"
   ]
  },
  {
   "cell_type": "code",
   "execution_count": 6,
   "id": "06204afe-f403-4336-a5a2-f74ddb1d156a",
   "metadata": {
    "tags": []
   },
   "outputs": [
    {
     "name": "stdout",
     "output_type": "stream",
     "text": [
      "\n"
     ]
    }
   ],
   "source": [
    "df_tasks = df_tasks.withColumnRenamed(\"id\",\"task_id\")"
   ]
  },
  {
   "cell_type": "code",
   "execution_count": 9,
   "id": "999858d4-58d5-4cc2-a72d-448ee1d5f86e",
   "metadata": {
    "tags": []
   },
   "outputs": [
    {
     "name": "stdout",
     "output_type": "stream",
     "text": [
      "root\n",
      " |-- task_id: string (nullable = true)\n",
      " |-- activitydate: date (nullable = true)\n",
      " |-- isarchived: boolean (nullable = true)\n",
      " |-- isdeleted: boolean (nullable = true)\n",
      " |-- lastmodifieddate: timestamp (nullable = true)\n",
      " |-- msf_attributefive__c: string (nullable = true)\n",
      " |-- msf_attributefour__c: string (nullable = true)\n",
      " |-- msf_attributeone__c: string (nullable = true)\n",
      " |-- msf_attributesix__c: string (nullable = true)\n",
      " |-- msf_attributethree__c: string (nullable = true)\n",
      " |-- msf_attributetwo__c: string (nullable = true)\n",
      " |-- msf_campaign__c: string (nullable = true)\n",
      " |-- msf_channel__c: string (nullable = true)\n",
      " |-- msf_closedescription__c: string (nullable = true)\n",
      " |-- msf_closetype__c: string (nullable = true)\n",
      " |-- msf_inboundoutbound__c: string (nullable = true)\n",
      " |-- msf_leadsource__c: string (nullable = true)\n",
      " |-- msf_objective__c: string (nullable = true)\n",
      " |-- msf_owner__c: string (nullable = true)\n",
      " |-- msf_proactivereactive__c: string (nullable = true)\n",
      " |-- msf_productprogram__c: string (nullable = true)\n",
      " |-- msf_startdate__c: date (nullable = true)\n",
      " |-- msf_taskmarketingid__c: string (nullable = true)\n",
      " |-- msf_thematic__c: string (nullable = true)\n",
      " |-- msf_thematic2__c: string (nullable = true)\n",
      " |-- msf_typetemplate__c: string (nullable = true)\n",
      " |-- msf_typetemplatetext__c: string (nullable = true)\n",
      " |-- ownerid: string (nullable = true)\n",
      " |-- priority: string (nullable = true)\n",
      " |-- status: string (nullable = true)\n",
      " |-- subject: string (nullable = true)\n",
      " |-- type: string (nullable = true)\n",
      " |-- whoid: string (nullable = true)\n",
      " |-- whatid: string (nullable = true)\n"
     ]
    }
   ],
   "source": [
    "df_tasks.printSchema()"
   ]
  },
  {
   "cell_type": "markdown",
   "id": "fc26bccb-3428-4110-8997-6a3d97cc4356",
   "metadata": {},
   "source": [
    "#### MERGE CON CONTACTS"
   ]
  },
  {
   "cell_type": "markdown",
   "id": "2210a792-0996-4818-a8e5-d05b890eeaba",
   "metadata": {},
   "source": [
    "#### Mergeamos las tablas de contactos y tareas por el id de contacto para tener en un mismos dataframe los datos de ambos ficheros. Seleccionamos las columnas que consideramos apropiadas para llevar a cabo con ellas un posterior análisis"
   ]
  },
  {
   "cell_type": "code",
   "execution_count": 38,
   "id": "60868556-5990-436b-9005-7ff1a4fa4262",
   "metadata": {
    "tags": []
   },
   "outputs": [
    {
     "name": "stdout",
     "output_type": "stream",
     "text": [
      "\n"
     ]
    }
   ],
   "source": [
    "df_tasks_cons = (\n",
    "        df_con\n",
    "        .join(df_tasks, df_con.con_id == df_tasks.whoid, 'inner')\n",
    "    .select(\n",
    "        df_con.msf_seniority__c, df_con.msf_birthyear__c, df_con.msf_entrycampaign__c, df_con.npo02__best_gift_year__c, df_con.npo02__averageamount__c,\n",
    "        df_con.msf_begindatemsf__c, df_con.msf_datefirstrecurringdonorquota__c, df_con.gender__c, df_con.msf_ltvcont__c,\n",
    "        df_con.msf_ltvdesc__c, df_con.msf_recencyrecurringdonorcont__c, df_con.msf_recencytotalcont__c, df_con.msf_recencytotalscore__c, df_con.msf_rfvrecurringdonor__c, \n",
    "        df_con.npo02__totaloppamount__c, df_con.msf_valuetotalcont__c, df_con.msf_valuetotaldesc__c, df_con.msf_lifetime__c, df_con.msf_pressurecomplaint__c, \n",
    "        df_con.msf_scoringrfvrecurringdonor__c, df_con.msf_scoringrvtotal__c, df_con.msf_averagedonorvalue__c, df_con.msf_percomssummary__c,\n",
    "        df_con.msf_totalfiscaloppamount__c, df_con.msf_lastannualizedquota__c, df_con.msf_maximumdonorvalue__c,\n",
    "        df_tasks.whoid, df_tasks.activitydate, df_tasks.msf_channel__c, df_tasks.msf_inboundoutbound__c, df_tasks.msf_closetype__c\n",
    "    ).where((df_con.con_id == df_tasks.whoid) &\n",
    "            (df_con.msf_isactiverecurringdonor__c == 'Socio') &\n",
    "            (df_con.msf_percomssummary__c.isin(['Todo','Varios'])) &\n",
    "            (df_tasks.subject == \"MSF Aumento de Cuota\") &\n",
    "            (df_tasks.isdeleted == False))\n",
    ")"
   ]
  },
  {
   "cell_type": "markdown",
   "id": "bec01d41-fa61-429d-b06d-2772a5f4fafd",
   "metadata": {},
   "source": [
    "#### Creamos una columna nueva en la que computamos los días que han pasado respecto a la tarea anterior basándonos en la columna activitydate de la tabla de tareas. Lo hacemos así porque pensamos que es interesante disponer de una columna que nos indique los días transcurridos desde la última interacción con el socio."
   ]
  },
  {
   "cell_type": "code",
   "execution_count": 39,
   "id": "8b546384-f905-4cd2-a9d6-9f04dec5d319",
   "metadata": {
    "tags": []
   },
   "outputs": [
    {
     "name": "stdout",
     "output_type": "stream",
     "text": [
      "\n"
     ]
    }
   ],
   "source": [
    "windowSpec = Window.partitionBy(\"whoid\").orderBy(\"activitydate\")\n",
    "  \n",
    "df_tasks_cons = df_tasks_cons.withColumn(\"previous_modification_date\", lag(\"activitydate\").over(windowSpec)) \\\n",
    "    .withColumn(\"days_elapsed_since_previous_modification\", datediff(col(\"activitydate\"), col(\"previous_modification_date\")))"
   ]
  },
  {
   "cell_type": "markdown",
   "id": "b873c085-56aa-4366-8c71-c73aecedbe97",
   "metadata": {},
   "source": [
    "-----------------------------------------------------------------------------------"
   ]
  },
  {
   "cell_type": "markdown",
   "id": "0d51fe51-28c7-4488-ba12-feaf7c5e79ba",
   "metadata": {},
   "source": [
    "### Recurring Donations"
   ]
  },
  {
   "cell_type": "markdown",
   "id": "1933e13c-1ac6-4ae9-a82f-a828e95706ac",
   "metadata": {},
   "source": [
    "#### Cargamos en un dataframe de Spark la tabla de donaciones periódicas"
   ]
  },
  {
   "cell_type": "code",
   "execution_count": 14,
   "id": "d0b932d3-18b2-49ca-ae7b-dad1cee0f3f3",
   "metadata": {
    "tags": []
   },
   "outputs": [
    {
     "name": "stdout",
     "output_type": "stream",
     "text": [
      "\n"
     ]
    }
   ],
   "source": [
    "df_rec = (\n",
    "  spark.read\n",
    "    .option(\"header\", \"true\")\n",
    "    .option(\"quote\", \"\\\"\")\n",
    "    .option(\"escape\" , \"\\\"\")   \n",
    "    .format(\"parquet\")\n",
    "    .load(f\"s3://{BUCKET_NAME}/recurringdonation/MSF_RecurringDonation.parquet\")\n",
    ")"
   ]
  },
  {
   "cell_type": "markdown",
   "id": "fb08102b-3f4b-46b8-9f81-e0cf36a154aa",
   "metadata": {},
   "source": [
    "#### Renombramos el id como en los casos anteriores"
   ]
  },
  {
   "cell_type": "code",
   "execution_count": 15,
   "id": "800b8300-faa7-45d1-b506-6e619d589327",
   "metadata": {
    "tags": []
   },
   "outputs": [
    {
     "name": "stdout",
     "output_type": "stream",
     "text": [
      "\n"
     ]
    }
   ],
   "source": [
    "df_rec = df_rec.withColumnRenamed(\"id\",\"rec_id\")"
   ]
  },
  {
   "cell_type": "markdown",
   "id": "b8750b9a-1632-4a07-8300-201aec4c922c",
   "metadata": {},
   "source": [
    "#### Cargamos en un dataframe de Spark la tabla de modificaciones de cuota por parte de los socios"
   ]
  },
  {
   "cell_type": "code",
   "execution_count": 16,
   "id": "f13669d3-3b77-49cc-b96e-4476e0d029fe",
   "metadata": {
    "tags": []
   },
   "outputs": [
    {
     "name": "stdout",
     "output_type": "stream",
     "text": [
      "\n"
     ]
    }
   ],
   "source": [
    "df_quo = (\n",
    "  spark.read\n",
    "    .option(\"header\", \"true\")\n",
    "    .option(\"quote\", \"\\\"\")\n",
    "    .option(\"escape\" , \"\\\"\")   \n",
    "    .format(\"parquet\")\n",
    "    .load(f\"s3://{BUCKET_NAME}/quotamodification/MSF_QuotaModification.parquet\")\n",
    ")"
   ]
  },
  {
   "cell_type": "markdown",
   "id": "96678da9-31d1-49c0-add8-43869ddf867e",
   "metadata": {},
   "source": [
    "#### Renombramos el id como en los casos anteriores"
   ]
  },
  {
   "cell_type": "code",
   "execution_count": 17,
   "id": "5f73d5fb-0f97-4ad5-a016-2548c68dd4dc",
   "metadata": {
    "tags": []
   },
   "outputs": [
    {
     "name": "stdout",
     "output_type": "stream",
     "text": [
      "\n"
     ]
    }
   ],
   "source": [
    "df_quo = df_quo.withColumnRenamed(\"id\",\"quo_id\")"
   ]
  },
  {
   "cell_type": "markdown",
   "id": "ff4b7bd6-dd9c-4f4f-b4b5-83f26b8c1d33",
   "metadata": {},
   "source": [
    "#### Hacemos el merge entre las tablas de donaciones periódicas, la de modificaciones de cuotas y la de contactos (para asociar el id del socio) Seleccionamos las columnas que consideramos apropiadas para el posterior análisis"
   ]
  },
  {
   "cell_type": "code",
   "execution_count": 18,
   "id": "66721731-bc48-4949-9ada-27bbcaaa4a12",
   "metadata": {
    "tags": []
   },
   "outputs": [
    {
     "name": "stdout",
     "output_type": "stream",
     "text": [
      "\n"
     ]
    }
   ],
   "source": [
    "df_rec_quo = (\n",
    "        df_con\n",
    "        .join(df_rec, df_con.con_id == df_rec.npe03__contact__c, 'inner')\n",
    "        .join(df_quo, df_con.con_id == df_quo.msf_contactid__c, 'inner')\n",
    "    .select(\n",
    "        df_con.con_id, \n",
    "        df_rec.msf_annualizedquota__c, df_rec.npe03__total_paid_installments__c, df_rec.npe03__installment_period__c,\n",
    "        df_quo.msf_changedate__c, df_quo.msf_changetype__c, df_quo.msf_leadsource3__c, \n",
    "        df_quo.msf_newamount__c, df_quo.msf_newannualizedquota__c, df_quo.msf_newrecurringperiod__c\n",
    "    ).where((df_con.con_id == df_rec.npe03__contact__c) & \n",
    "            (df_con.con_id == df_quo.msf_contactid__c) &\n",
    "            (df_rec.rec_id == df_quo.msf_recurringdonation__c) &\n",
    "            (df_con.msf_percomssummary__c.isin(['Todo','Varios'])) &      \n",
    "            (df_rec.npe03__open_ended_status__c == 'Open') &\n",
    "            (df_rec.isdeleted == False) &\n",
    "            (df_quo.isdeleted == False))\n",
    ")"
   ]
  },
  {
   "cell_type": "markdown",
   "id": "e95088a2-aad5-4e1e-8358-cab5732d1dfe",
   "metadata": {},
   "source": [
    "#### A continuación utilizamos las funciones lag y datediff para meter en cada registro una columna con la fecha del cambio de cuota anterior y los datos con la cuota del anterior cambio. La justificación es que parece interesante tener esta información en todos los registros para luego rellenar información en campos que se hayan quedado en blanco al hacer el siguiente merge que queremos hacer."
   ]
  },
  {
   "cell_type": "code",
   "execution_count": 21,
   "id": "a4454f3b-41e4-4601-9a34-c8f7692b1918",
   "metadata": {
    "tags": []
   },
   "outputs": [
    {
     "name": "stdout",
     "output_type": "stream",
     "text": [
      "\n"
     ]
    }
   ],
   "source": [
    "windowSpec = Window.partitionBy(\"con_id\").orderBy(col(\"msf_changedate__c\"))\n",
    "\n",
    "df_rec_quo = df_rec_quo.withColumn(\"previous_change_date\", lag(\"msf_changedate__c\").over(windowSpec)) \\\n",
    "    .withColumn(\"days_elapsed_since_previous_change\", datediff(col(\"msf_changedate__c\"), col(\"previous_change_date\"))) \\\n",
    "    .withColumn(\"msf_oldamount__c\", lag(col(\"msf_newamount__c\")).over(windowSpec))  \\\n",
    "    .withColumn(\"msf_oldannualizedquota__c\", lag(col(\"msf_newannualizedquota__c\")).over(windowSpec))  \\\n",
    "    .withColumn(\"msf_oldrecurringperiod__c\", lag(col(\"msf_newrecurringperiod__c\")).over(windowSpec))"
   ]
  },
  {
   "cell_type": "markdown",
   "id": "39532095-9539-424e-a8ff-dd018f279089",
   "metadata": {},
   "source": [
    "#### Dado que no hay forma de cruzar directamente el fichero de tareas con el de modificaciones de cuota lo que hacemos es crear un left join desde tareas en el que el cruce se hace por id de cliente (por supuesto) y de forma que la diferencia de fechas entre la de la tarea y la siguiente modificación de cuota en la línea temporal sea menor de 60 días. Esto lo hacemos así porque la fechas de una tarea que resulta positiva en la apmpliación de cuota no tiene repercusión en la propia tabla de modificaciones de cuota hasta unos días después, dependiendo de la periodicidad de la cuota. Obviamente para periodicidades superiores a la mensual puede que los registros no se asocien correctamente. Por lo que hemos visto el fichero de Tareas comenzó a rellenarse sobre el año 2014 con posterioridad al de donaciones periódicas. Esto hace que en el siguiente merge se pierdan registros, pero es preferible que sea así porque dichos registros corresponderían únicamente a interacciones positivas (incrementos de cuota) y haría que la muestra final no estuviera balanceada"
   ]
  },
  {
   "cell_type": "code",
   "execution_count": 40,
   "id": "6996ad01-6e97-4174-881e-892e9c09be48",
   "metadata": {
    "tags": []
   },
   "outputs": [
    {
     "name": "stdout",
     "output_type": "stream",
     "text": [
      "\n"
     ]
    }
   ],
   "source": [
    "df_merge = (\n",
    "        df_tasks_cons\n",
    "        .join(df_rec_quo, (df_rec_quo.msf_changedate__c > df_tasks_cons.activitydate) &\n",
    "                          (df_rec_quo.msf_changedate__c <= date_add(df_tasks_cons.activitydate, 60)) &\n",
    "                          (df_rec_quo.con_id == df_tasks_cons.whoid)\n",
    "             , 'left')\n",
    ")"
   ]
  },
  {
   "cell_type": "code",
   "execution_count": 41,
   "id": "4ae52650-cff6-4e6e-954e-f26879e8b667",
   "metadata": {
    "tags": []
   },
   "outputs": [
    {
     "name": "stdout",
     "output_type": "stream",
     "text": [
      "\n"
     ]
    }
   ],
   "source": [
    "(\n",
    "  df_merge.coalesce(1).write\n",
    "        .format(\"parquet\")\n",
    "        .mode(\"overwrite\")\n",
    "        .save(f\"s3://{BUCKET_NAME}/z_output/merge_3\")\n",
    ")"
   ]
  },
  {
   "cell_type": "markdown",
   "id": "0127032a-c1ed-47b6-b542-d9809e1a338d",
   "metadata": {},
   "source": [
    "#### Rellenamos determinadas columnas que hayan quedado a null con los datos del registro anterior que las tenga rellenas."
   ]
  },
  {
   "cell_type": "code",
   "execution_count": 42,
   "id": "11e939ac-ad1e-43ae-8320-9382d1f15e47",
   "metadata": {
    "tags": []
   },
   "outputs": [
    {
     "name": "stdout",
     "output_type": "stream",
     "text": [
      "\n"
     ]
    }
   ],
   "source": [
    "window_spec = Window.partitionBy(\"whoid\").orderBy(col(\"activitydate\"),col(\"previous_modification_date\"))\n",
    "\n",
    "columns_to_fill = [\"msf_newamount__c\", \"msf_newannualizedquota__c\", \"msf_newrecurringperiod__c\",\n",
    "                   \"previous_change_date\", \"msf_oldamount__c\", \"msf_oldannualizedquota__c\", \"msf_oldrecurringperiod__c\"]\n",
    "\n",
    "# Use the last function to fill null values with values from the previous row within the same ID\n",
    "for col in columns_to_fill:\n",
    "    df_merge = df_merge.withColumn(col, last(col, True).over(window_spec))"
   ]
  },
  {
   "cell_type": "markdown",
   "id": "7f84d9a6-88bc-41d3-821a-732659b4d6dd",
   "metadata": {},
   "source": [
    "#### Hacemos lo mismo pero esta vez en sentido inverso temporalmente."
   ]
  },
  {
   "cell_type": "code",
   "execution_count": 43,
   "id": "80c48ab5-d249-4792-a09d-fb9612382376",
   "metadata": {
    "tags": []
   },
   "outputs": [
    {
     "name": "stdout",
     "output_type": "stream",
     "text": [
      "\n"
     ]
    }
   ],
   "source": [
    "from pyspark.sql.functions import col\n",
    "window_spec = Window.partitionBy(\"whoid\").orderBy(col(\"activitydate\").desc())\n",
    "\n",
    "columns_to_fill = [\"previous_change_date\", \"msf_oldamount__c\", \"msf_oldannualizedquota__c\", \"msf_oldrecurringperiod__c\"]\n",
    "\n",
    "# Use the last function to fill null values with values from the previous row within the same ID\n",
    "for col in columns_to_fill:\n",
    "    df_merge = df_merge.withColumn(col, last(col, True).over(window_spec))"
   ]
  },
  {
   "cell_type": "markdown",
   "id": "75bff268-f127-4cfb-b09a-4a8cb4842674",
   "metadata": {},
   "source": [
    "#### Creamos una columna que nos indique los días transcurridos desde el último cambio de cuota."
   ]
  },
  {
   "cell_type": "code",
   "execution_count": 44,
   "id": "aaf01a29-bd30-4953-80cf-dd16bcbdffea",
   "metadata": {
    "tags": []
   },
   "outputs": [
    {
     "name": "stdout",
     "output_type": "stream",
     "text": [
      "\n"
     ]
    }
   ],
   "source": [
    "from pyspark.sql.functions import datediff, col\n",
    "\n",
    "df_merge = df_merge.withColumn(\"days_elapsed_since_previous_quota_change\", datediff(col(\"activitydate\"), col(\"previous_change_date\")))"
   ]
  },
  {
   "cell_type": "markdown",
   "id": "f78811c7-50ea-4046-ad67-4e21ec709070",
   "metadata": {},
   "source": [
    "#### Rellenamos también valores de columnas que hayan quedado en blanco para algunos de los campos que nos interesan"
   ]
  },
  {
   "cell_type": "code",
   "execution_count": 45,
   "id": "8ed2d0bd-e45a-47c1-9b78-123829408772",
   "metadata": {
    "tags": []
   },
   "outputs": [
    {
     "name": "stdout",
     "output_type": "stream",
     "text": [
      "\n"
     ]
    }
   ],
   "source": [
    "from pyspark.sql.functions import coalesce\n",
    "\n",
    "df_merge = df_merge.withColumn(\"days_elapsed_since_previous_modification\", coalesce(col(\"days_elapsed_since_previous_modification\"),col(\"days_elapsed_since_previous_quota_change\"))) \\\n",
    "                   .withColumn('msf_newamount__c', coalesce(col('msf_newamount__c'),col('msf_oldamount__c'))) \\\n",
    "                   .withColumn('msf_newannualizedquota__c', coalesce(col('msf_newannualizedquota__c'),col('msf_oldannualizedquota__c'))) \\\n",
    "                   .withColumn('msf_newrecurringperiod__c', coalesce(col('msf_newrecurringperiod__c'),col('msf_oldrecurringperiod__c')))                                "
   ]
  },
  {
   "cell_type": "markdown",
   "id": "904804b4-a837-4455-b5af-d57d2a0c0792",
   "metadata": {},
   "source": [
    "#### Guardamos en S3 este primer dataframe"
   ]
  },
  {
   "cell_type": "code",
   "execution_count": 46,
   "id": "bcaa298e-6da2-4482-95c1-f031a09e72cb",
   "metadata": {
    "tags": []
   },
   "outputs": [
    {
     "name": "stdout",
     "output_type": "stream",
     "text": [
      "\n"
     ]
    }
   ],
   "source": [
    "(\n",
    "  df_merge.coalesce(1).write\n",
    "        .format(\"parquet\")\n",
    "        .mode(\"overwrite\")\n",
    "        .save(f\"s3://{BUCKET_NAME}/z_output/merge_3_raw\")\n",
    ")"
   ]
  },
  {
   "cell_type": "markdown",
   "id": "8da9d2ba-f3cc-455b-8155-2de5f9d7c582",
   "metadata": {},
   "source": [
    "### --------------------------------------------------------------------------------"
   ]
  },
  {
   "cell_type": "markdown",
   "id": "ff0cf43d-c1d6-4eae-a138-f9602b9dd37b",
   "metadata": {},
   "source": [
    "#### Cargamos de nuevo desde S3 el dataframe"
   ]
  },
  {
   "cell_type": "code",
   "execution_count": 4,
   "id": "60e52aa9-f105-4eae-9f47-4e89864f2b49",
   "metadata": {
    "tags": []
   },
   "outputs": [
    {
     "name": "stdout",
     "output_type": "stream",
     "text": [
      "\n"
     ]
    }
   ],
   "source": [
    "df_merge_raw = (\n",
    "  spark.read\n",
    "    .option(\"header\", \"true\")\n",
    "    .option(\"quote\", \"\\\"\")\n",
    "    .option(\"escape\" , \"\\\"\")   \n",
    "    .format(\"parquet\")\n",
    "    .load(f\"s3://{BUCKET_NAME}/z_output/merge_3_raw\")\n",
    ")"
   ]
  },
  {
   "cell_type": "code",
   "execution_count": 5,
   "id": "0c8b74f9-164e-4b3a-a6d6-a117c05ffc78",
   "metadata": {
    "tags": []
   },
   "outputs": [
    {
     "name": "stdout",
     "output_type": "stream",
     "text": [
      "+----------------+----------------+--------------------+------------------------+-----------------------+-------------------+-----------------------------------+---------+--------------+------------------+--------------------------------+-----------------------+------------------------+------------------------+------------------------+---------------------+---------------------+---------------+------------------------+-------------------------------+---------------------+------------------------+---------------------+---------------------------+--------------------------+------------------------+------------------+------------+--------------+----------------------+----------------+--------------------------+----------------------------------------+------+----------------------+---------------------------------+----------------------------+-----------------+-----------------+------------------+----------------+-------------------------+-------------------------+--------------------+----------------------------------+----------------+-------------------------+-------------------------+----------------------------------------+\n",
      "|msf_seniority__c|msf_birthyear__c|msf_entrycampaign__c|npo02__best_gift_year__c|npo02__averageamount__c|msf_begindatemsf__c|msf_datefirstrecurringdonorquota__c|gender__c|msf_ltvcont__c|    msf_ltvdesc__c|msf_recencyrecurringdonorcont__c|msf_recencytotalcont__c|msf_recencytotalscore__c|msf_rfvrecurringdonor__c|npo02__totaloppamount__c|msf_valuetotalcont__c|msf_valuetotaldesc__c|msf_lifetime__c|msf_pressurecomplaint__c|msf_scoringrfvrecurringdonor__c|msf_scoringrvtotal__c|msf_averagedonorvalue__c|msf_percomssummary__c|msf_totalfiscaloppamount__c|msf_lastannualizedquota__c|msf_maximumdonorvalue__c|             whoid|activitydate|msf_channel__c|msf_inboundoutbound__c|msf_closetype__c|previous_modification_date|days_elapsed_since_previous_modification|con_id|msf_annualizedquota__c|npe03__total_paid_installments__c|npe03__installment_period__c|msf_changedate__c|msf_changetype__c|msf_leadsource3__c|msf_newamount__c|msf_newannualizedquota__c|msf_newrecurringperiod__c|previous_change_date|days_elapsed_since_previous_change|msf_oldamount__c|msf_oldannualizedquota__c|msf_oldrecurringperiod__c|days_elapsed_since_previous_quota_change|\n",
      "+----------------+----------------+--------------------+------------------------+-----------------------+-------------------+-----------------------------------+---------+--------------+------------------+--------------------------------+-----------------------+------------------------+------------------------+------------------------+---------------------+---------------------+---------------+------------------------+-------------------------------+---------------------+------------------------+---------------------+---------------------------+--------------------------+------------------------+------------------+------------+--------------+----------------------+----------------+--------------------------+----------------------------------------+------+----------------------+---------------------------------+----------------------------+-----------------+-----------------+------------------+----------------+-------------------------+-------------------------+--------------------+----------------------------------+----------------+-------------------------+-------------------------+----------------------------------------+\n",
      "|            22.0|            1966|  7013Y000001mrV1QAI|                    2021|                    0.0|         2001-02-26|                         2001-03-01|   Female|       2628.38|Alto 1.000 - 3.000|                             4.0|                    4.0|                     5.0|                     554|                 2628.38|                160.0|                 Bajo|           22.0|                   false|                            4.5|                  4.2|                    30.0|                 Todo|                    2628.38|                     120.0|                    40.0|0033Y00002uNQ5qQAG|  2019-07-30|       Llamada|              Saliente|         No util|                2018-07-12|                                     383|  null|                  null|                             null|                        null|             null|             null|              null|            null|                     null|                     null|                null|                              null|            null|                     null|                     null|                                    null|\n",
      "+----------------+----------------+--------------------+------------------------+-----------------------+-------------------+-----------------------------------+---------+--------------+------------------+--------------------------------+-----------------------+------------------------+------------------------+------------------------+---------------------+---------------------+---------------+------------------------+-------------------------------+---------------------+------------------------+---------------------+---------------------------+--------------------------+------------------------+------------------+------------+--------------+----------------------+----------------+--------------------------+----------------------------------------+------+----------------------+---------------------------------+----------------------------+-----------------+-----------------+------------------+----------------+-------------------------+-------------------------+--------------------+----------------------------------+----------------+-------------------------+-------------------------+----------------------------------------+\n",
      "only showing top 1 row\n"
     ]
    }
   ],
   "source": [
    "df_merge_raw.show(1)"
   ]
  },
  {
   "cell_type": "markdown",
   "id": "809ed77d-cb79-426b-9400-7f45897b5ba9",
   "metadata": {},
   "source": [
    "#### Transformamos el año de nacimiento en la edad del socio"
   ]
  },
  {
   "cell_type": "code",
   "execution_count": 6,
   "id": "38af4088-939a-4b6a-b03c-ec96cad2bd04",
   "metadata": {
    "tags": []
   },
   "outputs": [
    {
     "name": "stdout",
     "output_type": "stream",
     "text": [
      "\n"
     ]
    }
   ],
   "source": [
    "# Calculate average birth year excluding zeros\n",
    "avg_birthyear = df_merge_raw.filter(col(\"msf_birthyear__c\") != 0).agg(mean(\"msf_birthyear__c\")).collect()[0][0]\n",
    "\n",
    "# Replace 0 with average birth year\n",
    "df_merge_raw = df_merge_raw.withColumn(\"msf_birthyear__c\", when(col(\"msf_birthyear__c\") == 0, avg_birthyear).otherwise(col(\"msf_birthyear__c\")))\n",
    "\n",
    "# Calculate age\n",
    "currentYear = 2023\n",
    "df_merge_raw = df_merge_raw.withColumn(\"age\", lit(currentYear) - col(\"msf_birthyear__c\"))"
   ]
  },
  {
   "cell_type": "markdown",
   "id": "f8d44b51-5ffe-4d50-9e0a-b73b78dc63c7",
   "metadata": {},
   "source": [
    "#### Eliminamos columnas que entendemos no deben formar parte de las features"
   ]
  },
  {
   "cell_type": "code",
   "execution_count": 7,
   "id": "ae4efcef-c78b-4d08-804a-2ec508cb5e62",
   "metadata": {
    "tags": []
   },
   "outputs": [
    {
     "name": "stdout",
     "output_type": "stream",
     "text": [
      "\n"
     ]
    }
   ],
   "source": [
    "# Eliminamos campos que no deben estar entre las features\n",
    "columnsToDrop = [\"msf_birthyear__c\", \"msf_entrycampaign__c\", \"msf_begindatemsf__c\", \"msf_datefirstrecurringdonorquota__c\", \n",
    "                 \"msf_inboundoutbound__c\", \"previous_purchase_date\",\"con_id\", \"msf_changedate__c\", \"msf_leadsource3__c\",\n",
    "                 \"msf_ltvdesc__c\",\"msf_changedate__c\",\"previous_change_date\", \"msf_annualizedquota__c\", \n",
    "                 \"days_elapsed_since_previous_change\",\"npe03__installment_period__c\"]\n",
    "df_merge_raw = df_merge_raw.drop(*columnsToDrop)"
   ]
  },
  {
   "cell_type": "code",
   "execution_count": 11,
   "id": "3924b007-97c5-421e-b2e4-916eb9ae3374",
   "metadata": {
    "tags": []
   },
   "outputs": [
    {
     "name": "stdout",
     "output_type": "stream",
     "text": [
      "\n"
     ]
    }
   ],
   "source": [
    "desired_column_order = ['whoid', 'activitydate', 'msf_seniority__c', 'npo02__best_gift_year__c','npo02__averageamount__c', 'gender__c', 'msf_ltvcont__c', 'msf_recencyrecurringdonorcont__c', \n",
    "                        'msf_rfvrecurringdonor__c', 'npo02__totaloppamount__c', 'msf_valuetotalcont__c', 'msf_valuetotaldesc__c', 'msf_lifetime__c', 'msf_pressurecomplaint__c', \n",
    "                        'msf_scoringrfvrecurringdonor__c', 'msf_averagedonorvalue__c', 'msf_percomssummary__c', 'msf_channel__c', 'days_elapsed_since_previous_modification', \n",
    "                        'msf_recencytotalcont__c', 'msf_recencytotalscore__c', 'msf_scoringrvtotal__c', 'npe03__total_paid_installments__c', 'msf_newamount__c', \n",
    "                        'msf_newannualizedquota__c', 'msf_newrecurringperiod__c', 'msf_oldamount__c', 'msf_oldannualizedquota__c',\n",
    "                        'msf_totalfiscaloppamount__c', 'msf_lastannualizedquota__c', 'msf_maximumdonorvalue__c',\n",
    "                        'msf_oldrecurringperiod__c', 'days_elapsed_since_previous_quota_change', 'age', 'msf_closetype__c']  # Replace with your desired column order\n",
    "df_merge_raw = df_merge_raw.select(*desired_column_order)"
   ]
  },
  {
   "cell_type": "code",
   "execution_count": 9,
   "id": "4df69256-e0ef-40ea-ae72-26cc21c50816",
   "metadata": {
    "tags": []
   },
   "outputs": [
    {
     "name": "stdout",
     "output_type": "stream",
     "text": [
      "+------------------+------------+----------------+------------------------+-----------------------+---------+--------------+--------------------------------+------------------------+------------------------+---------------------+---------------------+---------------+------------------------+-------------------------------+------------------------+---------------------+--------------+----------------------------------------+-----------------------+------------------------+---------------------+---------------------------------+----------------+-------------------------+-------------------------+----------------+-------------------------+------------------------+---------------------------+--------------------------+---------------------+------------------------+-------------------------+----------------------------------------+----+----------------+\n",
      "|             whoid|activitydate|msf_seniority__c|npo02__best_gift_year__c|npo02__averageamount__c|gender__c|msf_ltvcont__c|msf_recencyrecurringdonorcont__c|msf_rfvrecurringdonor__c|npo02__totaloppamount__c|msf_valuetotalcont__c|msf_valuetotaldesc__c|msf_lifetime__c|msf_pressurecomplaint__c|msf_scoringrfvrecurringdonor__c|msf_averagedonorvalue__c|msf_percomssummary__c|msf_channel__c|days_elapsed_since_previous_modification|msf_recencytotalcont__c|msf_recencytotalscore__c|msf_scoringrvtotal__c|npe03__total_paid_installments__c|msf_newamount__c|msf_newannualizedquota__c|msf_newrecurringperiod__c|msf_oldamount__c|msf_oldannualizedquota__c|msf_averagedonorvalue__c|msf_totalfiscaloppamount__c|msf_lastannualizedquota__c|msf_valuetotalcont__c|msf_maximumdonorvalue__c|msf_oldrecurringperiod__c|days_elapsed_since_previous_quota_change| age|msf_closetype__c|\n",
      "+------------------+------------+----------------+------------------------+-----------------------+---------+--------------+--------------------------------+------------------------+------------------------+---------------------+---------------------+---------------+------------------------+-------------------------------+------------------------+---------------------+--------------+----------------------------------------+-----------------------+------------------------+---------------------+---------------------------------+----------------+-------------------------+-------------------------+----------------+-------------------------+------------------------+---------------------------+--------------------------+---------------------+------------------------+-------------------------+----------------------------------------+----+----------------+\n",
      "|0033Y00002uNQ5qQAG|  2019-07-30|            22.0|                    2021|                    0.0|   Female|       2628.38|                             4.0|                     554|                 2628.38|                160.0|                 Bajo|           22.0|                   false|                            4.5|                    30.0|                 Todo|       Llamada|                                     383|                    4.0|                     5.0|                  4.2|                             null|            null|                     null|                     null|            null|                     null|                    30.0|                    2628.38|                     120.0|                160.0|                    40.0|                     null|                                    null|57.0|         No util|\n",
      "+------------------+------------+----------------+------------------------+-----------------------+---------+--------------+--------------------------------+------------------------+------------------------+---------------------+---------------------+---------------+------------------------+-------------------------------+------------------------+---------------------+--------------+----------------------------------------+-----------------------+------------------------+---------------------+---------------------------------+----------------+-------------------------+-------------------------+----------------+-------------------------+------------------------+---------------------------+--------------------------+---------------------+------------------------+-------------------------+----------------------------------------+----+----------------+\n",
      "only showing top 1 row\n"
     ]
    }
   ],
   "source": [
    "df_merge_raw.show(1)"
   ]
  },
  {
   "cell_type": "code",
   "execution_count": null,
   "id": "d7890051-171c-45d1-a483-e8bfc6b32cdc",
   "metadata": {
    "tags": []
   },
   "outputs": [],
   "source": [
    "(\n",
    "  df_merge_raw.coalesce(1).write\n",
    "        .format(\"parquet\")\n",
    "        .mode(\"overwrite\")\n",
    "        .save(f\"s3://{BUCKET_NAME}/z_output/merge_3_selection\")\n",
    ")"
   ]
  },
  {
   "cell_type": "markdown",
   "id": "dcd62563-4021-488e-8805-f126ff72bcf8",
   "metadata": {},
   "source": [
    "#### Transformamos la columna gender a numérico"
   ]
  },
  {
   "cell_type": "raw",
   "id": "d25bd2e5-09ca-4f52-8492-3ff7d8c3c7e3",
   "metadata": {
    "tags": []
   },
   "source": [
    "# gender__c >> [\"Female\",\"Male\",\"Other\",\"\",\"M\",\"H\"]\n",
    "\n",
    "# Define a mapping from categories to integers\n",
    "gender_mapping = {'Female': 0, 'Male': 1, 'Other': 2, 'M': 0, 'H': 1, '': 2}\n",
    "\n",
    "# Define a udf to map categories to integers using the dictionary\n",
    "mapping_udf = udf(lambda gender: gender_mapping[gender], IntegerType())\n",
    "\n",
    "# Apply the udf to the DataFrame\n",
    "df_merge_raw = df_merge_raw.withColumn('gender__c', mapping_udf(df_merge_raw['gender__c']))"
   ]
  },
  {
   "cell_type": "code",
   "execution_count": 52,
   "id": "d9a81569-7608-4323-8f08-3b42112384b9",
   "metadata": {
    "tags": []
   },
   "outputs": [
    {
     "name": "stdout",
     "output_type": "stream",
     "text": [
      "\n"
     ]
    }
   ],
   "source": [
    "df_merge_raw = df_merge_raw.withColumn(\n",
    "    \"gender__c\",\n",
    "    when(col(\"gender__c\") == \"H\", \"Male\")\n",
    "    .when(col(\"gender__c\") == \"M\", \"Female\")\n",
    "    .when(col(\"gender__c\") == \"\", \"Other\")\n",
    ")"
   ]
  },
  {
   "cell_type": "code",
   "execution_count": 65,
   "id": "f3bdb3f9-3593-460c-a3ab-f0c198d4ec84",
   "metadata": {
    "tags": []
   },
   "outputs": [
    {
     "name": "stdout",
     "output_type": "stream",
     "text": [
      "+-----+------------+----------------+-----------------------+---------+--------------+--------------------------------+------------------------+------------------------+---------------------+---------------------+---------------+------------------------+-------------------------------+------------------------+---------------------+--------------+----------------------------------------+----------------------+---------------------------------+----------------------------+----------------+-------------------------+-------------------------+----------------------------------+----------------+-------------------------+-------------------------+----------------------------------------+------+----------------+\n",
      "|whoid|activitydate|msf_seniority__c|npo02__averageamount__c|gender__c|msf_ltvcont__c|msf_recencyrecurringdonorcont__c|msf_rfvrecurringdonor__c|npo02__totaloppamount__c|msf_valuetotalcont__c|msf_valuetotaldesc__c|msf_lifetime__c|msf_pressurecomplaint__c|msf_scoringrfvrecurringdonor__c|msf_averagedonorvalue__c|msf_percomssummary__c|msf_channel__c|days_elapsed_since_previous_modification|msf_annualizedquota__c|npe03__total_paid_installments__c|npe03__installment_period__c|msf_newamount__c|msf_newannualizedquota__c|msf_newrecurringperiod__c|days_elapsed_since_previous_change|msf_oldamount__c|msf_oldannualizedquota__c|msf_oldrecurringperiod__c|days_elapsed_since_previous_quota_change|   age|msf_closetype__c|\n",
      "+-----+------------+----------------+-----------------------+---------+--------------+--------------------------------+------------------------+------------------------+---------------------+---------------------+---------------+------------------------+-------------------------------+------------------------+---------------------+--------------+----------------------------------------+----------------------+---------------------------------+----------------------------+----------------+-------------------------+-------------------------+----------------------------------+----------------+-------------------------+-------------------------+----------------------------------------+------+----------------+\n",
      "| null|        null|            null|                   null|  2080900|          null|                               1|                    null|                    null|                 null|                 null|           null|                    null|                           null|                 1182061|                 null|          null|                                  213051|               1759706|                          1759782|                     1759706|          969802|                   969802|                   969802|                           1762090|          975025|                   975025|                   975025|                                  975032|387958|           61960|\n",
      "+-----+------------+----------------+-----------------------+---------+--------------+--------------------------------+------------------------+------------------------+---------------------+---------------------+---------------+------------------------+-------------------------------+------------------------+---------------------+--------------+----------------------------------------+----------------------+---------------------------------+----------------------------+----------------+-------------------------+-------------------------+----------------------------------+----------------+-------------------------+-------------------------+----------------------------------------+------+----------------+\n"
     ]
    }
   ],
   "source": [
    "df_merge_raw.select([sum(when(col(c).isNull(), 1)).alias(c) for c in df_merge_raw.columns]).show()"
   ]
  },
  {
   "cell_type": "markdown",
   "id": "c07b3eae-b84b-4821-9745-184429d3efbb",
   "metadata": {},
   "source": [
    "#### Transformamos la valor del socio a numérico"
   ]
  },
  {
   "cell_type": "code",
   "execution_count": 33,
   "id": "445c951b-0613-4146-abc8-87e2d231a3fe",
   "metadata": {
    "tags": []
   },
   "outputs": [
    {
     "name": "stdout",
     "output_type": "stream",
     "text": [
      "\n"
     ]
    }
   ],
   "source": [
    "#msf_valuetotaldesc__c >> [\"Muy bajo\",\"Nulo\",\"Medio\",\"Bajo\",\"Alto\",\"Muy Alto\"]\n",
    "\n",
    "# Define a mapping from categories to integers\n",
    "value_mapping = {'Nulo': 0, 'Muy bajo': 1, 'Bajo': 2, 'Medio': 3, 'Alto': 4, 'Muy Alto': 5}\n",
    "\n",
    "# Define a udf to map categories to integers using the dictionary\n",
    "mapping_udf = udf(lambda value: value_mapping[value], IntegerType())\n",
    "\n",
    "# Apply the udf to the DataFrame\n",
    "df_task_merge = df_task_merge.withColumn('msf_valuetotaldesc__c', mapping_udf(df_task_merge['msf_valuetotaldesc__c']))"
   ]
  },
  {
   "cell_type": "markdown",
   "id": "92735a3d-8b2b-4bc8-9741-669a5b264806",
   "metadata": {},
   "source": [
    "#### Transformamos la periodicidad de la cuota de socio a numérico"
   ]
  },
  {
   "cell_type": "code",
   "execution_count": 34,
   "id": "fb9abffa-63f4-4f51-a8cd-ca0a4f63b181",
   "metadata": {
    "tags": []
   },
   "outputs": [
    {
     "name": "stdout",
     "output_type": "stream",
     "text": [
      "\n"
     ]
    }
   ],
   "source": [
    "#msf_newrecurringperiod__c >> [\"Monthly\",\"Yearly\",\"Quarterly\",\"Semestral\",\"Bimensual\",\"\"]\n",
    "df_task_merge = df_task_merge.fillna({\"msf_newrecurringperiod__c\": '1'})\n",
    "\n",
    "# Define a mapping from categories to integers\n",
    "period_mapping = {'': 1, 'Monthly': 1, 'Bimensual': 2, 'Quarterly': 3, 'Semestral': 4, 'Yearly': 5}\n",
    "\n",
    "# Define a udf to map categories to integers using the dictionary\n",
    "mapping_udf = udf(lambda period: period_mapping[period], IntegerType())\n",
    "\n",
    "# Apply the udf to the DataFrame\n",
    "df_task_merge = df_task_merge.withColumn('msf_newrecurringperiod__c', mapping_udf(df_task_merge['msf_newrecurringperiod__c']))"
   ]
  },
  {
   "cell_type": "markdown",
   "id": "36bad114-a116-4b33-81d5-30dbd23df4ac",
   "metadata": {},
   "source": [
    "#### Nos quedamos con los canales que consideramos relevantes y al resto les ponemos un valor genérico"
   ]
  },
  {
   "cell_type": "code",
   "execution_count": 35,
   "id": "2946b1af-775c-4f32-a0d7-77f7a9ebc6e2",
   "metadata": {
    "tags": []
   },
   "outputs": [
    {
     "name": "stdout",
     "output_type": "stream",
     "text": [
      "\n"
     ]
    }
   ],
   "source": [
    "# msf_channel__c >> [\"Correo Postal\",\"Llamada\",\"E-mail\",\"Online\",\"SMS\",\"Formularios Web\",\"Presencial\",\"Mi Perfil\",\"n/a\",\"Interno\",\"Mensajería Instantánea\",\"Generación Aplicación\",\"Fichero Informático\",\"Fax\"]\n",
    "\n",
    "# Define the condition and replacement values\n",
    "condition = ~df_task_merge[\"msf_channel__c\"].isin([\"Correo Postal\",\"Llamada\",\"E-mail\",\"Online\",\"SMS\",\"Formularios Web\"])\n",
    "replacement_value = \"Otros\"\n",
    "\n",
    "# Use the 'when' function to replace values based on the condition\n",
    "df_task_merge = df_task_merge.withColumn(\"msf_channel__c\", when(condition, replacement_value).otherwise(df_task_merge[\"msf_channel__c\"]))"
   ]
  },
  {
   "cell_type": "markdown",
   "id": "bbae4ea2-3c9b-4c43-a0bb-61755d5c3eba",
   "metadata": {},
   "source": [
    "#### Transformamos el canal a numérico aunque entiendo que deberíamos usar one hot encoder"
   ]
  },
  {
   "cell_type": "raw",
   "id": "2216464f-59ac-4d85-85e9-3833a5d9d92b",
   "metadata": {
    "tags": []
   },
   "source": [
    "#msf_channel__c >> [\"Correo Postal\",\"Llamada\",\"E-mail\",\"Online\",\"SMS\",\"Formularios Web\",\"Presencial\",\"Mi Perfil\",\"n/a\",\"Interno\",\"Mensajería Instantánea\",\"Generación Aplicación\",\"Fichero Informático\",\"Fax\"]\n",
    "\n",
    "# Define a mapping from categories to integers\n",
    "chennel_mapping = {'Correo Postal': 0, 'Llamada': 1, 'E-mail': 2, 'Online': 3, 'SMS': 4, 'Formularios Web': 5, 'Otros': 6}\n",
    "\n",
    "# Define a udf to map categories to integers using the dictionary\n",
    "mapping_udf = udf(lambda channel: chennel_mapping[channel], IntegerType())\n",
    "\n",
    "# Apply the udf to the DataFrame\n",
    "df_task_merge = df_task_merge.withColumn('msf_channel__c', mapping_udf(df_task_merge['msf_channel__c']))"
   ]
  },
  {
   "cell_type": "markdown",
   "id": "88021025-eb2e-430a-8d66-355880f1b2d8",
   "metadata": {},
   "source": [
    "#### Consideramos negativas todas las interacciones que no son expresamente positivas"
   ]
  },
  {
   "cell_type": "code",
   "execution_count": 37,
   "id": "c5a438f8-a607-40c5-afa0-12d3d9920b93",
   "metadata": {
    "tags": []
   },
   "outputs": [
    {
     "name": "stdout",
     "output_type": "stream",
     "text": [
      "\n"
     ]
    }
   ],
   "source": [
    "# Define the condition and replacement values\n",
    "condition = df_task_merge[\"msf_closetype__c\"] != \"Positivo\"\n",
    "replacement_value = \"Negativo\"\n",
    "\n",
    "# Use the 'when' function to replace values based on the condition\n",
    "df_task_merge = df_task_merge.withColumn(\"msf_closetype__c\", when(condition, replacement_value).otherwise(df_task_merge[\"msf_closetype__c\"]))"
   ]
  },
  {
   "cell_type": "markdown",
   "id": "fd202a26-af05-44f3-b89f-305287ffb83b",
   "metadata": {},
   "source": [
    "#### Configuramos el orden en el que queremos las columnas en el dataset"
   ]
  },
  {
   "cell_type": "code",
   "execution_count": null,
   "id": "17076e77-92ed-4b2f-83aa-8f424c21fa5f",
   "metadata": {
    "tags": []
   },
   "outputs": [],
   "source": [
    "desired_column_order = ['whoid', 'activitydate', 'msf_seniority__c', 'npo02__averageamount__c', 'msf_datefirstrecurringdonorquota__c', \n",
    "                        'gender__c', 'msf_ltvcont__c', 'msf_recencyrecurringdonorcont__c', 'msf_rfvrecurringdonor__c', 'npo02__totaloppamount__c', \n",
    "                        'msf_valuetotalcont__c', 'msf_valuetotaldesc__c', 'msf_lifetime__c', 'msf_pressurecomplaint__c', 'msf_scoringrfvrecurringdonor__c', \n",
    "                        'msf_averagedonorvalue__c', 'msf_percomssummary__c', 'msf_channel__c', 'days_elapsed_since_previous_modification', 'con_id', 'msf_annualizedquota__c', 'npe03__total_paid_installments__c', 'npe03__installment_period__c', 'msf_changedate__c', 'msf_changetype__c', 'msf_leadsource3__c', 'msf_newamount__c', \n",
    "                        'msf_newannualizedquota__c', 'msf_newrecurringperiod__c', 'days_elapsed_since_previous_change', 'msf_oldamount__c', 'msf_oldannualizedquota__c',\n",
    "                        'msf_oldrecurringperiod__c', 'days_elapsed_since_previous_quota_change', 'age', 'msf_closetype__c']  # Replace with your desired column order\n",
    "df_task_merge = df_task_merge.select(*desired_column_order)"
   ]
  },
  {
   "cell_type": "code",
   "execution_count": 24,
   "id": "834dd57c-69f0-4dd6-add2-2d39eb2fa91a",
   "metadata": {
    "tags": []
   },
   "outputs": [
    {
     "name": "stdout",
     "output_type": "stream",
     "text": [
      "2098989\n"
     ]
    }
   ],
   "source": [
    "df_task_merge.count()"
   ]
  },
  {
   "cell_type": "code",
   "execution_count": 25,
   "id": "c8bd7ea4-899a-4e75-a521-1cfd85de866e",
   "metadata": {
    "tags": []
   },
   "outputs": [
    {
     "name": "stdout",
     "output_type": "stream",
     "text": [
      "1124975\n"
     ]
    }
   ],
   "source": [
    "df_task_merge.where(df_task_merge.msf_newrecurringperiod__c!=0).count()"
   ]
  },
  {
   "cell_type": "markdown",
   "id": "a6d0e27c-29b3-40a5-81ba-b71ffccd5a38",
   "metadata": {},
   "source": [
    "#### Vemos que hay numerosos registros que no tienen periodicidad asociada. En principio prescindimos de ellos."
   ]
  },
  {
   "cell_type": "code",
   "execution_count": 39,
   "id": "12a3dc5e-5b52-4435-b999-b1047f98a4f9",
   "metadata": {
    "tags": []
   },
   "outputs": [
    {
     "name": "stdout",
     "output_type": "stream",
     "text": [
      "\n"
     ]
    }
   ],
   "source": [
    "df_task_merge = df_task_merge.where(df_task_merge.msf_newrecurringperiod__c != 0)"
   ]
  },
  {
   "cell_type": "markdown",
   "id": "7001e84c-3080-4d0c-a7ef-d1e6e5dad764",
   "metadata": {},
   "source": [
    "#### Grabamos en S3 el fichero resultante, en el que tenemos las features, el id del contacto y la fecha de la tarea"
   ]
  },
  {
   "cell_type": "code",
   "execution_count": 40,
   "id": "3378587a-8717-48f2-8e3d-c07589ddf7a5",
   "metadata": {
    "tags": []
   },
   "outputs": [
    {
     "name": "stdout",
     "output_type": "stream",
     "text": [
      "\n"
     ]
    }
   ],
   "source": [
    "(\n",
    "  df_task_merge.write\n",
    "        .format(\"parquet\")\n",
    "        .mode(\"overwrite\")\n",
    "        .save(f\"s3://{BUCKET_NAME}/output/task_merge_id_date\")\n",
    ")"
   ]
  },
  {
   "cell_type": "markdown",
   "id": "b0f21554-7141-4e87-857d-56a32dfd7299",
   "metadata": {},
   "source": [
    "También en csv"
   ]
  },
  {
   "cell_type": "code",
   "execution_count": 41,
   "id": "8579aaca-23c4-4f53-882a-65e38fd917d5",
   "metadata": {
    "tags": []
   },
   "outputs": [
    {
     "name": "stdout",
     "output_type": "stream",
     "text": [
      "\n"
     ]
    }
   ],
   "source": [
    "(\n",
    "  df_task_merge.coalesce(1).write\n",
    "    .format(\"csv\")\n",
    "    .option(\"compression\", \"gzip\")\n",
    "    .option(\"header\", True)\n",
    "    .mode(\"overwrite\")\n",
    "    .save(f\"s3://{BUCKET_NAME}/output/task_merge_id_date_csv\")\n",
    ")"
   ]
  },
  {
   "cell_type": "markdown",
   "id": "52c73231-e5bc-4a4a-aac2-8e8d2374b6e9",
   "metadata": {},
   "source": [
    "### --------------------------------------------------------------------------------"
   ]
  },
  {
   "cell_type": "markdown",
   "id": "ed1825c5-a605-44ef-a22d-0519c68e44e4",
   "metadata": {},
   "source": [
    "#### Cargamos de nuevo el fichero"
   ]
  },
  {
   "cell_type": "code",
   "execution_count": 6,
   "id": "ff99ee75-611f-4e75-bfd0-5bdcc88bac5b",
   "metadata": {
    "tags": []
   },
   "outputs": [
    {
     "name": "stdout",
     "output_type": "stream",
     "text": [
      "\n"
     ]
    }
   ],
   "source": [
    "df_feature_store = (\n",
    "  spark.read\n",
    "    .option(\"header\", \"true\")\n",
    "    .option(\"quote\", \"\\\"\")\n",
    "    .option(\"escape\" , \"\\\"\")   \n",
    "    .format(\"parquet\")\n",
    "    .load(f\"s3://{BUCKET_NAME}/output/task_merge_id_date\")\n",
    ")"
   ]
  },
  {
   "cell_type": "markdown",
   "id": "c7f30968-0c94-463a-83f5-de64750a9f83",
   "metadata": {},
   "source": [
    "#### Para crear un fichero de features o feature store nos quedamos con el registro más reciente para cada contacto"
   ]
  },
  {
   "cell_type": "code",
   "execution_count": 7,
   "id": "cdd4a9dd-ac00-403f-86cb-6e5ede8dd02f",
   "metadata": {
    "tags": []
   },
   "outputs": [
    {
     "name": "stdout",
     "output_type": "stream",
     "text": [
      "\n"
     ]
    }
   ],
   "source": [
    "# Define a window spec\n",
    "windowSpec = Window.partitionBy(\"whoid\").orderBy(desc(\"activityDate\"))\n",
    "\n",
    "# Use the row_number function to assign a row number to each record in the window\n",
    "df_feature_store = df_feature_store.withColumn(\"row_num\", row_number().over(windowSpec))\n",
    "\n",
    "# Filter for the most recent record for each customerId\n",
    "df_feature_store = df_feature_store.filter(col(\"row_num\") == 1).drop(\"row_num\")"
   ]
  },
  {
   "cell_type": "markdown",
   "id": "8793f8b0-1c69-4153-863c-d8e5476d9a24",
   "metadata": {},
   "source": [
    "#### Y lo guardamos también"
   ]
  },
  {
   "cell_type": "code",
   "execution_count": 9,
   "id": "22b55ca4-8d57-40ea-ae20-e9091eccb39e",
   "metadata": {
    "tags": []
   },
   "outputs": [
    {
     "name": "stdout",
     "output_type": "stream",
     "text": [
      "\n"
     ]
    }
   ],
   "source": [
    "(\n",
    "  df_feature_store.coalesce(1).write\n",
    "    .format(\"csv\")\n",
    "    .option(\"compression\", \"gzip\")\n",
    "    .option(\"header\", True)\n",
    "    .mode(\"overwrite\")\n",
    "    .save(f\"s3://{BUCKET_NAME}/output/feature_store_csv\")\n",
    ")"
   ]
  },
  {
   "cell_type": "markdown",
   "id": "9688ba9b-95d7-40c9-b2d5-70b50cf63143",
   "metadata": {},
   "source": [
    "### --------------------------------------------------------------------------------"
   ]
  },
  {
   "cell_type": "markdown",
   "id": "05757774-0b75-42fa-90c2-c9927a9f47b0",
   "metadata": {},
   "source": [
    "#### Obtenemos otro data frame pero esta vez sólo con las features que utilizaremos en el modelo. "
   ]
  },
  {
   "cell_type": "code",
   "execution_count": 42,
   "id": "02693550-756a-4f0a-92c9-b5937f8f9765",
   "metadata": {
    "tags": []
   },
   "outputs": [
    {
     "name": "stdout",
     "output_type": "stream",
     "text": [
      "\n"
     ]
    }
   ],
   "source": [
    "# Eliminamos id y date\n",
    "columnsToDrop = [\"whoid\", \"activitydate\"]\n",
    "df_task_merge_clean = df_task_merge.drop(*columnsToDrop)"
   ]
  },
  {
   "cell_type": "markdown",
   "id": "df3d57e4-c5ab-4305-b90e-7eaeb769a0c3",
   "metadata": {},
   "source": [
    "#### Y lo salvamos para su uso posterior"
   ]
  },
  {
   "cell_type": "code",
   "execution_count": 43,
   "id": "f30f3629-9766-4df7-9d09-5951fc2385d6",
   "metadata": {
    "tags": []
   },
   "outputs": [
    {
     "name": "stdout",
     "output_type": "stream",
     "text": [
      "\n"
     ]
    }
   ],
   "source": [
    "(\n",
    "  df_task_merge_clean.write\n",
    "        .format(\"parquet\")\n",
    "        .mode(\"overwrite\")\n",
    "        .save(f\"s3://{BUCKET_NAME}/output/task_merge_clean\")\n",
    ")"
   ]
  },
  {
   "cell_type": "code",
   "execution_count": 44,
   "id": "831ceb72-0f25-44bc-a430-384ca3909da2",
   "metadata": {
    "tags": []
   },
   "outputs": [
    {
     "name": "stdout",
     "output_type": "stream",
     "text": [
      "\n"
     ]
    }
   ],
   "source": [
    "(\n",
    "  df_task_merge_clean.coalesce(1).write\n",
    "    .format(\"csv\")\n",
    "    .option(\"compression\", \"gzip\")\n",
    "    .option(\"header\", True)\n",
    "    .mode(\"overwrite\")\n",
    "    .save(f\"s3://{BUCKET_NAME}/output/task_merge_clean_csv\")\n",
    ")"
   ]
  }
 ],
 "metadata": {
  "kernelspec": {
   "display_name": "Python 3 (ipykernel)",
   "language": "python",
   "name": "python3"
  },
  "language_info": {
   "codemirror_mode": {
    "name": "ipython",
    "version": 3
   },
   "file_extension": ".py",
   "mimetype": "text/x-python",
   "name": "python",
   "nbconvert_exporter": "python",
   "pygments_lexer": "ipython3",
   "version": "3.10.10"
  }
 },
 "nbformat": 4,
 "nbformat_minor": 5
}
