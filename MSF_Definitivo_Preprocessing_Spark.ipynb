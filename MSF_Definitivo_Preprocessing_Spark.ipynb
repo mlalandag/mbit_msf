{
	"metadata": {
		"kernelspec": {
			"name": "glue_pyspark",
			"display_name": "Glue PySpark",
			"language": "python"
		},
		"language_info": {
			"name": "Python_Glue_Session",
			"mimetype": "text/x-python",
			"codemirror_mode": {
				"name": "python",
				"version": 3
			},
			"pygments_lexer": "python3",
			"file_extension": ".py"
		}
	},
	"nbformat_minor": 5,
	"nbformat": 4,
	"cells": [
		{
			"cell_type": "code",
			"source": "# %%cleanup -f",
			"metadata": {},
			"execution_count": null,
			"outputs": [],
			"id": "3abbb43a-450e-4dcb-840e-d9611cb59204"
		},
		{
			"cell_type": "code",
			"source": "# spark",
			"metadata": {},
			"execution_count": null,
			"outputs": [],
			"id": "fd487038-513d-4036-a8ec-051516294eaf"
		},
		{
			"cell_type": "code",
			"source": "# %stop_session",
			"metadata": {},
			"execution_count": null,
			"outputs": [],
			"id": "83783501-2590-4829-b443-3026128d1d8f"
		},
		{
			"cell_type": "markdown",
			"source": "##### Importamos todas las funciones de pyspark que vamos a necesitar ",
			"metadata": {},
			"id": "e9bb5460-95cf-4218-aee3-3fdc333a8a60"
		},
		{
			"cell_type": "code",
			"source": "from pyspark.sql.window import Window\nfrom pyspark.sql.functions import col, lag, datediff, last, when, date_add, udf, lit, desc, row_number, mean, sum\nfrom pyspark.sql.types import IntegerType\nfrom pyspark.ml.feature import OneHotEncoder, StringIndexer\n\nBUCKET_NAME = \"marcial-tmf-oct22-msf-data\"",
			"metadata": {
				"trusted": true,
				"tags": []
			},
			"execution_count": 3,
			"outputs": [
				{
					"name": "stdout",
					"text": "\n",
					"output_type": "stream"
				}
			],
			"id": "6a354ba5-4080-4bb2-ad49-39f5a38678b6"
		},
		{
			"cell_type": "markdown",
			"source": "#### Contacts",
			"metadata": {},
			"id": "30da7f5a-679c-41e9-a49f-c9fdb74c352a"
		},
		{
			"cell_type": "markdown",
			"source": "##### Cargamos en un dataframe de Spark el fichero de Contactos de MSF",
			"metadata": {},
			"id": "9a7a6c3d-189a-4317-8cc5-91633a765c36"
		},
		{
			"cell_type": "code",
			"source": "df_con = (\n  spark.read\n    .option(\"header\", \"true\")\n    .option(\"quote\", \"\\\"\")\n    .option(\"escape\" , \"\\\"\")   \n    .format(\"parquet\")\n    .load(f\"s3://{BUCKET_NAME}/contact/MSF_Contact.parquet\")\n)",
			"metadata": {
				"trusted": true,
				"tags": []
			},
			"execution_count": 3,
			"outputs": [
				{
					"name": "stdout",
					"text": "\n",
					"output_type": "stream"
				}
			],
			"id": "acba6f8b-bc52-4f87-aad2-9d9dd9dd37e3"
		},
		{
			"cell_type": "markdown",
			"source": "##### Renombramos la columna id a con_id para que no haya ambiguedades en los merges",
			"metadata": {},
			"id": "84b394df-1a7a-42f3-9e00-e9d8d97ea6e7"
		},
		{
			"cell_type": "code",
			"source": "df_con = df_con.withColumnRenamed(\"id\",\"con_id\")",
			"metadata": {
				"trusted": true,
				"tags": []
			},
			"execution_count": 4,
			"outputs": [
				{
					"name": "stdout",
					"text": "\n",
					"output_type": "stream"
				}
			],
			"id": "5bdc383e-8970-4584-8035-ee07df0d42da"
		},
		{
			"cell_type": "markdown",
			"source": "#### Tasks",
			"metadata": {},
			"id": "47797443-0b45-4a4a-8b52-8e678b3e0c1f"
		},
		{
			"cell_type": "markdown",
			"source": "##### Cargamos en un dataframe de Spark el fichero de Tareas de MSF",
			"metadata": {},
			"id": "d2b3dd41-8f91-4758-832b-43402701c822"
		},
		{
			"cell_type": "code",
			"source": "df_tasks = (\n  spark.read\n    .option(\"header\", \"true\")\n    .option(\"quote\", \"\\\"\")\n    .option(\"escape\" , \"\\\"\")   \n    .format(\"parquet\")\n    .load(f\"s3://{BUCKET_NAME}/task/MSF_Task.parquet\")\n)",
			"metadata": {
				"trusted": true,
				"tags": []
			},
			"execution_count": 5,
			"outputs": [
				{
					"name": "stdout",
					"text": "\n",
					"output_type": "stream"
				}
			],
			"id": "bb3c0896-6a3e-4e4a-8b3d-4b43c203d7ce"
		},
		{
			"cell_type": "markdown",
			"source": "##### Renombramos la columna id a task_id para que no haya ambiguedades en los merges",
			"metadata": {},
			"id": "d4efa98a-dde9-4348-8af7-f2a71fd52598"
		},
		{
			"cell_type": "code",
			"source": "df_tasks = df_tasks.withColumnRenamed(\"id\",\"task_id\")",
			"metadata": {
				"trusted": true,
				"tags": []
			},
			"execution_count": 6,
			"outputs": [
				{
					"name": "stdout",
					"text": "\n",
					"output_type": "stream"
				}
			],
			"id": "06204afe-f403-4336-a5a2-f74ddb1d156a"
		},
		{
			"cell_type": "code",
			"source": "df_tasks.printSchema()",
			"metadata": {
				"trusted": true,
				"tags": []
			},
			"execution_count": 9,
			"outputs": [
				{
					"name": "stdout",
					"text": "root\n |-- task_id: string (nullable = true)\n |-- activitydate: date (nullable = true)\n |-- isarchived: boolean (nullable = true)\n |-- isdeleted: boolean (nullable = true)\n |-- lastmodifieddate: timestamp (nullable = true)\n |-- msf_attributefive__c: string (nullable = true)\n |-- msf_attributefour__c: string (nullable = true)\n |-- msf_attributeone__c: string (nullable = true)\n |-- msf_attributesix__c: string (nullable = true)\n |-- msf_attributethree__c: string (nullable = true)\n |-- msf_attributetwo__c: string (nullable = true)\n |-- msf_campaign__c: string (nullable = true)\n |-- msf_channel__c: string (nullable = true)\n |-- msf_closedescription__c: string (nullable = true)\n |-- msf_closetype__c: string (nullable = true)\n |-- msf_inboundoutbound__c: string (nullable = true)\n |-- msf_leadsource__c: string (nullable = true)\n |-- msf_objective__c: string (nullable = true)\n |-- msf_owner__c: string (nullable = true)\n |-- msf_proactivereactive__c: string (nullable = true)\n |-- msf_productprogram__c: string (nullable = true)\n |-- msf_startdate__c: date (nullable = true)\n |-- msf_taskmarketingid__c: string (nullable = true)\n |-- msf_thematic__c: string (nullable = true)\n |-- msf_thematic2__c: string (nullable = true)\n |-- msf_typetemplate__c: string (nullable = true)\n |-- msf_typetemplatetext__c: string (nullable = true)\n |-- ownerid: string (nullable = true)\n |-- priority: string (nullable = true)\n |-- status: string (nullable = true)\n |-- subject: string (nullable = true)\n |-- type: string (nullable = true)\n |-- whoid: string (nullable = true)\n |-- whatid: string (nullable = true)\n",
					"output_type": "stream"
				}
			],
			"id": "999858d4-58d5-4cc2-a72d-448ee1d5f86e"
		},
		{
			"cell_type": "markdown",
			"source": "#### MERGE CON CONTACTS",
			"metadata": {},
			"id": "fc26bccb-3428-4110-8997-6a3d97cc4356"
		},
		{
			"cell_type": "markdown",
			"source": "##### Mergeamos las tablas de contactos y tareas por el id de contacto para tener en un mismos dataframe los datos de ambos ficheros. Seleccionamos las columnas que consideramos apropiadas para llevar a cabo con ellas un posterior análisis",
			"metadata": {},
			"id": "2210a792-0996-4818-a8e5-d05b890eeaba"
		},
		{
			"cell_type": "code",
			"source": "df_tasks_cons = (\n        df_con\n        .join(df_tasks, df_con.con_id == df_tasks.whoid, 'inner')\n    .select(\n        df_con.msf_seniority__c, df_con.msf_birthyear__c, df_con.msf_entrycampaign__c, df_con.npo02__best_gift_year__c, df_con.npo02__averageamount__c,\n        df_con.msf_begindatemsf__c, df_con.msf_datefirstrecurringdonorquota__c, df_con.gender__c, df_con.msf_ltvcont__c,\n        df_con.msf_ltvdesc__c, df_con.msf_recencyrecurringdonorcont__c, df_con.msf_recencytotalcont__c, df_con.msf_recencytotalscore__c, df_con.msf_rfvrecurringdonor__c, \n        df_con.npo02__totaloppamount__c, df_con.msf_valuetotalcont__c, df_con.msf_valuetotaldesc__c, df_con.msf_lifetime__c, df_con.msf_pressurecomplaint__c, \n        df_con.msf_scoringrfvrecurringdonor__c, df_con.msf_scoringrvtotal__c, df_con.msf_averagedonorvalue__c, df_con.msf_percomssummary__c,\n        df_con.msf_totalfiscaloppamount__c, df_con.msf_lastannualizedquota__c, df_con.msf_maximumdonorvalue__c,\n        df_tasks.whoid, df_tasks.activitydate, df_tasks.msf_channel__c, df_tasks.msf_inboundoutbound__c, df_tasks.msf_closetype__c\n    ).where((df_con.con_id == df_tasks.whoid) &\n            (df_con.msf_isactiverecurringdonor__c == 'Socio') &\n            (df_con.msf_percomssummary__c.isin(['Todo','Varios'])) &\n            (df_tasks.subject == \"MSF Aumento de Cuota\") &\n            (df_tasks.isdeleted == False))\n)",
			"metadata": {
				"trusted": true,
				"tags": []
			},
			"execution_count": 38,
			"outputs": [
				{
					"name": "stdout",
					"text": "\n",
					"output_type": "stream"
				}
			],
			"id": "60868556-5990-436b-9005-7ff1a4fa4262"
		},
		{
			"cell_type": "markdown",
			"source": "##### Creamos una columna nueva en la que computamos los días que han pasado respecto a la tarea anterior basándonos en la columna activitydate de la tabla de tareas. Lo hacemos así porque pensamos que es interesante disponer de una columna que nos indique los días transcurridos desde la última interacción con el socio.",
			"metadata": {},
			"id": "bec01d41-fa61-429d-b06d-2772a5f4fafd"
		},
		{
			"cell_type": "code",
			"source": "windowSpec = Window.partitionBy(\"whoid\").orderBy(\"activitydate\")\n  \ndf_tasks_cons = df_tasks_cons.withColumn(\"previous_modification_date\", lag(\"activitydate\").over(windowSpec)) \\\n    .withColumn(\"days_elapsed_since_previous_modification\", datediff(col(\"activitydate\"), col(\"previous_modification_date\")))",
			"metadata": {
				"trusted": true,
				"tags": []
			},
			"execution_count": 39,
			"outputs": [
				{
					"name": "stdout",
					"text": "\n",
					"output_type": "stream"
				}
			],
			"id": "8b546384-f905-4cd2-a9d6-9f04dec5d319"
		},
		{
			"cell_type": "markdown",
			"source": "-----------------------------------------------------------------------------------",
			"metadata": {},
			"id": "b873c085-56aa-4366-8c71-c73aecedbe97"
		},
		{
			"cell_type": "markdown",
			"source": "#### Recurring Donations",
			"metadata": {},
			"id": "0d51fe51-28c7-4488-ba12-feaf7c5e79ba"
		},
		{
			"cell_type": "markdown",
			"source": "##### Cargamos en un dataframe de Spark la tabla de donaciones periódicas",
			"metadata": {},
			"id": "1933e13c-1ac6-4ae9-a82f-a828e95706ac"
		},
		{
			"cell_type": "code",
			"source": "df_rec = (\n  spark.read\n    .option(\"header\", \"true\")\n    .option(\"quote\", \"\\\"\")\n    .option(\"escape\" , \"\\\"\")   \n    .format(\"parquet\")\n    .load(f\"s3://{BUCKET_NAME}/recurringdonation/MSF_RecurringDonation.parquet\")\n)",
			"metadata": {
				"trusted": true,
				"tags": []
			},
			"execution_count": 14,
			"outputs": [
				{
					"name": "stdout",
					"text": "\n",
					"output_type": "stream"
				}
			],
			"id": "d0b932d3-18b2-49ca-ae7b-dad1cee0f3f3"
		},
		{
			"cell_type": "markdown",
			"source": "##### Renombramos el id como en los casos anteriores",
			"metadata": {},
			"id": "fb08102b-3f4b-46b8-9f81-e0cf36a154aa"
		},
		{
			"cell_type": "code",
			"source": "df_rec = df_rec.withColumnRenamed(\"id\",\"rec_id\")",
			"metadata": {
				"trusted": true,
				"tags": []
			},
			"execution_count": 15,
			"outputs": [
				{
					"name": "stdout",
					"text": "\n",
					"output_type": "stream"
				}
			],
			"id": "800b8300-faa7-45d1-b506-6e619d589327"
		},
		{
			"cell_type": "markdown",
			"source": "##### Cargamos en un dataframe de Spark la tabla de modificaciones de cuota por parte de los socios",
			"metadata": {},
			"id": "b8750b9a-1632-4a07-8300-201aec4c922c"
		},
		{
			"cell_type": "code",
			"source": "df_quo = (\n  spark.read\n    .option(\"header\", \"true\")\n    .option(\"quote\", \"\\\"\")\n    .option(\"escape\" , \"\\\"\")   \n    .format(\"parquet\")\n    .load(f\"s3://{BUCKET_NAME}/quotamodification/MSF_QuotaModification.parquet\")\n)",
			"metadata": {
				"trusted": true,
				"tags": []
			},
			"execution_count": 16,
			"outputs": [
				{
					"name": "stdout",
					"text": "\n",
					"output_type": "stream"
				}
			],
			"id": "f13669d3-3b77-49cc-b96e-4476e0d029fe"
		},
		{
			"cell_type": "markdown",
			"source": "##### Renombramos el id como en los casos anteriores",
			"metadata": {},
			"id": "96678da9-31d1-49c0-add8-43869ddf867e"
		},
		{
			"cell_type": "code",
			"source": "df_quo = df_quo.withColumnRenamed(\"id\",\"quo_id\")",
			"metadata": {
				"trusted": true,
				"tags": []
			},
			"execution_count": 17,
			"outputs": [
				{
					"name": "stdout",
					"text": "\n",
					"output_type": "stream"
				}
			],
			"id": "5f73d5fb-0f97-4ad5-a016-2548c68dd4dc"
		},
		{
			"cell_type": "markdown",
			"source": "##### Hacemos el merge entre las tablas de donaciones periódicas, la de modificaciones de cuotas y la de contactos (para asociar el id del socio) Seleccionamos las columnas que consideramos apropiadas para el posterior análisis",
			"metadata": {},
			"id": "ff4b7bd6-dd9c-4f4f-b4b5-83f26b8c1d33"
		},
		{
			"cell_type": "code",
			"source": "df_rec_quo = (\n        df_con\n        .join(df_rec, df_con.con_id == df_rec.npe03__contact__c, 'inner')\n        .join(df_quo, df_con.con_id == df_quo.msf_contactid__c, 'inner')\n    .select(\n        df_con.con_id, \n        df_rec.msf_annualizedquota__c, df_rec.npe03__total_paid_installments__c, df_rec.npe03__installment_period__c,\n        df_quo.msf_changedate__c, df_quo.msf_changetype__c, df_quo.msf_leadsource3__c, \n        df_quo.msf_newamount__c, df_quo.msf_newannualizedquota__c, df_quo.msf_newrecurringperiod__c\n    ).where((df_con.con_id == df_rec.npe03__contact__c) & \n            (df_con.con_id == df_quo.msf_contactid__c) &\n            (df_rec.rec_id == df_quo.msf_recurringdonation__c) &\n            (df_con.msf_percomssummary__c.isin(['Todo','Varios'])) &      \n            (df_rec.npe03__open_ended_status__c == 'Open') &\n            (df_rec.isdeleted == False) &\n            (df_quo.isdeleted == False))\n)",
			"metadata": {
				"trusted": true,
				"tags": []
			},
			"execution_count": 18,
			"outputs": [
				{
					"name": "stdout",
					"text": "\n",
					"output_type": "stream"
				}
			],
			"id": "66721731-bc48-4949-9ada-27bbcaaa4a12"
		},
		{
			"cell_type": "markdown",
			"source": "##### A continuación utilizamos las funciones lag y datediff para meter en cada registro una columna con la fecha del cambio de cuota anterior y los datos con la cuota del anterior cambio. La justificación es que parece interesante tener esta información en todos los registros para luego rellenar información en campos que se hayan quedado en blanco al hacer el siguiente merge que queremos hacer.",
			"metadata": {},
			"id": "e95088a2-aad5-4e1e-8358-cab5732d1dfe"
		},
		{
			"cell_type": "code",
			"source": "windowSpec = Window.partitionBy(\"con_id\").orderBy(col(\"msf_changedate__c\"))\n\ndf_rec_quo = df_rec_quo.withColumn(\"previous_change_date\", lag(\"msf_changedate__c\").over(windowSpec)) \\\n    .withColumn(\"days_elapsed_since_previous_change\", datediff(col(\"msf_changedate__c\"), col(\"previous_change_date\"))) \\\n    .withColumn(\"msf_oldamount__c\", lag(col(\"msf_newamount__c\")).over(windowSpec))  \\\n    .withColumn(\"msf_oldannualizedquota__c\", lag(col(\"msf_newannualizedquota__c\")).over(windowSpec))  \\\n    .withColumn(\"msf_oldrecurringperiod__c\", lag(col(\"msf_newrecurringperiod__c\")).over(windowSpec))",
			"metadata": {
				"trusted": true,
				"tags": []
			},
			"execution_count": 21,
			"outputs": [
				{
					"name": "stdout",
					"text": "\n",
					"output_type": "stream"
				}
			],
			"id": "a4454f3b-41e4-4601-9a34-c8f7692b1918"
		},
		{
			"cell_type": "markdown",
			"source": "##### Dado que no hay forma de cruzar directamente el fichero de tareas con el de modificaciones de cuota lo que hacemos es crear un left join desde tareas en el que el cruce se hace por id de cliente (por supuesto) y de forma que la diferencia de fechas entre la de la tarea y la siguiente modificación de cuota en la línea temporal sea menor de 60 días. Esto lo hacemos así porque la fechas de una tarea que resulta positiva en la apmpliación de cuota no tiene repercusión en la propia tabla de modificaciones de cuota hasta unos días después, dependiendo de la periodicidad de la cuota. Obviamente para periodicidades superiores a la mensual puede que los registros no se asocien correctamente. Por lo que hemos visto el fichero de Tareas comenzó a rellenarse sobre el año 2014 con posterioridad al de donaciones periódicas. Esto hace que en el siguiente merge se pierdan registros, pero es preferible que sea así porque dichos registros corresponderían únicamente a interacciones positivas (incrementos de cuota) y haría que la muestra final no estuviera balanceada",
			"metadata": {},
			"id": "39532095-9539-424e-a8ff-dd018f279089"
		},
		{
			"cell_type": "code",
			"source": "df_merge = (\n        df_tasks_cons\n        .join(df_rec_quo, (df_rec_quo.msf_changedate__c > df_tasks_cons.activitydate) &\n                          (df_rec_quo.msf_changedate__c <= date_add(df_tasks_cons.activitydate, 60)) &\n                          (df_rec_quo.con_id == df_tasks_cons.whoid)\n             , 'left')\n)",
			"metadata": {
				"trusted": true,
				"tags": []
			},
			"execution_count": 40,
			"outputs": [
				{
					"name": "stdout",
					"text": "\n",
					"output_type": "stream"
				}
			],
			"id": "6996ad01-6e97-4174-881e-892e9c09be48"
		},
		{
			"cell_type": "code",
			"source": "(\n  df_merge.coalesce(1).write\n        .format(\"parquet\")\n        .mode(\"overwrite\")\n        .save(f\"s3://{BUCKET_NAME}/z_output/merge_3\")\n)",
			"metadata": {
				"trusted": true,
				"tags": []
			},
			"execution_count": 41,
			"outputs": [
				{
					"name": "stdout",
					"text": "\n",
					"output_type": "stream"
				}
			],
			"id": "4ae52650-cff6-4e6e-954e-f26879e8b667"
		},
		{
			"cell_type": "markdown",
			"source": "##### Rellenamos determinadas columnas que hayan quedado a null con los datos del registro anterior que las tenga rellenas.",
			"metadata": {},
			"id": "0127032a-c1ed-47b6-b542-d9809e1a338d"
		},
		{
			"cell_type": "code",
			"source": "window_spec = Window.partitionBy(\"whoid\").orderBy(col(\"activitydate\"),col(\"previous_modification_date\"))\n\ncolumns_to_fill = [\"msf_newamount__c\", \"msf_newannualizedquota__c\", \"msf_newrecurringperiod__c\",\n                   \"previous_change_date\", \"msf_oldamount__c\", \"msf_oldannualizedquota__c\", \"msf_oldrecurringperiod__c\"]\n\n# Use the last function to fill null values with values from the previous row within the same ID\nfor col in columns_to_fill:\n    df_merge = df_merge.withColumn(col, last(col, True).over(window_spec))",
			"metadata": {
				"trusted": true,
				"tags": []
			},
			"execution_count": 42,
			"outputs": [
				{
					"name": "stdout",
					"text": "\n",
					"output_type": "stream"
				}
			],
			"id": "11e939ac-ad1e-43ae-8320-9382d1f15e47"
		},
		{
			"cell_type": "markdown",
			"source": "##### Hacemos lo mismo pero esta vez en sentido inverso temporalmente.",
			"metadata": {},
			"id": "7f84d9a6-88bc-41d3-821a-732659b4d6dd"
		},
		{
			"cell_type": "code",
			"source": "from pyspark.sql.functions import col\nwindow_spec = Window.partitionBy(\"whoid\").orderBy(col(\"activitydate\").desc())\n\ncolumns_to_fill = [\"previous_change_date\", \"msf_oldamount__c\", \"msf_oldannualizedquota__c\", \"msf_oldrecurringperiod__c\"]\n\n# Use the last function to fill null values with values from the previous row within the same ID\nfor col in columns_to_fill:\n    df_merge = df_merge.withColumn(col, last(col, True).over(window_spec))",
			"metadata": {
				"trusted": true,
				"tags": []
			},
			"execution_count": 43,
			"outputs": [
				{
					"name": "stdout",
					"text": "\n",
					"output_type": "stream"
				}
			],
			"id": "80c48ab5-d249-4792-a09d-fb9612382376"
		},
		{
			"cell_type": "markdown",
			"source": "##### Creamos una columna que nos indique los días transcurridos desde el último cambio de cuota.",
			"metadata": {},
			"id": "75bff268-f127-4cfb-b09a-4a8cb4842674"
		},
		{
			"cell_type": "code",
			"source": "from pyspark.sql.functions import datediff, col\n\ndf_merge = df_merge.withColumn(\"days_elapsed_since_previous_quota_change\", datediff(col(\"activitydate\"), col(\"previous_change_date\")))",
			"metadata": {
				"trusted": true,
				"tags": []
			},
			"execution_count": 44,
			"outputs": [
				{
					"name": "stdout",
					"text": "\n",
					"output_type": "stream"
				}
			],
			"id": "aaf01a29-bd30-4953-80cf-dd16bcbdffea"
		},
		{
			"cell_type": "markdown",
			"source": "##### Rellenamos también valores de columnas que hayan quedado en blanco para algunos de los campos que nos interesan",
			"metadata": {},
			"id": "f78811c7-50ea-4046-ad67-4e21ec709070"
		},
		{
			"cell_type": "code",
			"source": "from pyspark.sql.functions import coalesce\n\ndf_merge = df_merge.withColumn(\"days_elapsed_since_previous_modification\", coalesce(col(\"days_elapsed_since_previous_modification\"),col(\"days_elapsed_since_previous_quota_change\"))) \\\n                   .withColumn('msf_newamount__c', coalesce(col('msf_newamount__c'),col('msf_oldamount__c'))) \\\n                   .withColumn('msf_newannualizedquota__c', coalesce(col('msf_newannualizedquota__c'),col('msf_oldannualizedquota__c'))) \\\n                   .withColumn('msf_newrecurringperiod__c', coalesce(col('msf_newrecurringperiod__c'),col('msf_oldrecurringperiod__c')))                                ",
			"metadata": {
				"trusted": true,
				"tags": []
			},
			"execution_count": 45,
			"outputs": [
				{
					"name": "stdout",
					"text": "\n",
					"output_type": "stream"
				}
			],
			"id": "8ed2d0bd-e45a-47c1-9b78-123829408772"
		},
		{
			"cell_type": "markdown",
			"source": "##### Guardamos en S3 este primer dataframe",
			"metadata": {},
			"id": "904804b4-a837-4455-b5af-d57d2a0c0792"
		},
		{
			"cell_type": "code",
			"source": "(\n  df_merge.coalesce(1).write\n        .format(\"parquet\")\n        .mode(\"overwrite\")\n        .save(f\"s3://{BUCKET_NAME}/z_output/merge_3_raw\")\n)",
			"metadata": {
				"trusted": true,
				"tags": []
			},
			"execution_count": 46,
			"outputs": [
				{
					"name": "stdout",
					"text": "\n",
					"output_type": "stream"
				}
			],
			"id": "bcaa298e-6da2-4482-95c1-f031a09e72cb"
		},
		{
			"cell_type": "markdown",
			"source": "### --------------------------------------------------------------------------------",
			"metadata": {},
			"id": "8da9d2ba-f3cc-455b-8155-2de5f9d7c582"
		},
		{
			"cell_type": "markdown",
			"source": "##### Cargamos de nuevo desde S3 el dataframe",
			"metadata": {},
			"id": "ff0cf43d-c1d6-4eae-a138-f9602b9dd37b"
		},
		{
			"cell_type": "code",
			"source": "df_merge_raw = (\n  spark.read\n    .option(\"header\", \"true\")\n    .option(\"quote\", \"\\\"\")\n    .option(\"escape\" , \"\\\"\")   \n    .format(\"parquet\")\n    .load(f\"s3://{BUCKET_NAME}/z_output/merge_3_raw\")\n)",
			"metadata": {
				"trusted": true,
				"tags": []
			},
			"execution_count": 4,
			"outputs": [
				{
					"name": "stdout",
					"text": "\n",
					"output_type": "stream"
				}
			],
			"id": "60e52aa9-f105-4eae-9f47-4e89864f2b49"
		},
		{
			"cell_type": "code",
			"source": "df_merge_raw.show(1)",
			"metadata": {
				"trusted": true,
				"tags": []
			},
			"execution_count": 5,
			"outputs": [
				{
					"name": "stdout",
					"text": "+----------------+----------------+--------------------+------------------------+-----------------------+-------------------+-----------------------------------+---------+--------------+------------------+--------------------------------+-----------------------+------------------------+------------------------+------------------------+---------------------+---------------------+---------------+------------------------+-------------------------------+---------------------+------------------------+---------------------+---------------------------+--------------------------+------------------------+------------------+------------+--------------+----------------------+----------------+--------------------------+----------------------------------------+------+----------------------+---------------------------------+----------------------------+-----------------+-----------------+------------------+----------------+-------------------------+-------------------------+--------------------+----------------------------------+----------------+-------------------------+-------------------------+----------------------------------------+\n|msf_seniority__c|msf_birthyear__c|msf_entrycampaign__c|npo02__best_gift_year__c|npo02__averageamount__c|msf_begindatemsf__c|msf_datefirstrecurringdonorquota__c|gender__c|msf_ltvcont__c|    msf_ltvdesc__c|msf_recencyrecurringdonorcont__c|msf_recencytotalcont__c|msf_recencytotalscore__c|msf_rfvrecurringdonor__c|npo02__totaloppamount__c|msf_valuetotalcont__c|msf_valuetotaldesc__c|msf_lifetime__c|msf_pressurecomplaint__c|msf_scoringrfvrecurringdonor__c|msf_scoringrvtotal__c|msf_averagedonorvalue__c|msf_percomssummary__c|msf_totalfiscaloppamount__c|msf_lastannualizedquota__c|msf_maximumdonorvalue__c|             whoid|activitydate|msf_channel__c|msf_inboundoutbound__c|msf_closetype__c|previous_modification_date|days_elapsed_since_previous_modification|con_id|msf_annualizedquota__c|npe03__total_paid_installments__c|npe03__installment_period__c|msf_changedate__c|msf_changetype__c|msf_leadsource3__c|msf_newamount__c|msf_newannualizedquota__c|msf_newrecurringperiod__c|previous_change_date|days_elapsed_since_previous_change|msf_oldamount__c|msf_oldannualizedquota__c|msf_oldrecurringperiod__c|days_elapsed_since_previous_quota_change|\n+----------------+----------------+--------------------+------------------------+-----------------------+-------------------+-----------------------------------+---------+--------------+------------------+--------------------------------+-----------------------+------------------------+------------------------+------------------------+---------------------+---------------------+---------------+------------------------+-------------------------------+---------------------+------------------------+---------------------+---------------------------+--------------------------+------------------------+------------------+------------+--------------+----------------------+----------------+--------------------------+----------------------------------------+------+----------------------+---------------------------------+----------------------------+-----------------+-----------------+------------------+----------------+-------------------------+-------------------------+--------------------+----------------------------------+----------------+-------------------------+-------------------------+----------------------------------------+\n|            22.0|            1966|  7013Y000001mrV1QAI|                    2021|                    0.0|         2001-02-26|                         2001-03-01|   Female|       2628.38|Alto 1.000 - 3.000|                             4.0|                    4.0|                     5.0|                     554|                 2628.38|                160.0|                 Bajo|           22.0|                   false|                            4.5|                  4.2|                    30.0|                 Todo|                    2628.38|                     120.0|                    40.0|0033Y00002uNQ5qQAG|  2019-07-30|       Llamada|              Saliente|         No util|                2018-07-12|                                     383|  null|                  null|                             null|                        null|             null|             null|              null|            null|                     null|                     null|                null|                              null|            null|                     null|                     null|                                    null|\n+----------------+----------------+--------------------+------------------------+-----------------------+-------------------+-----------------------------------+---------+--------------+------------------+--------------------------------+-----------------------+------------------------+------------------------+------------------------+---------------------+---------------------+---------------+------------------------+-------------------------------+---------------------+------------------------+---------------------+---------------------------+--------------------------+------------------------+------------------+------------+--------------+----------------------+----------------+--------------------------+----------------------------------------+------+----------------------+---------------------------------+----------------------------+-----------------+-----------------+------------------+----------------+-------------------------+-------------------------+--------------------+----------------------------------+----------------+-------------------------+-------------------------+----------------------------------------+\nonly showing top 1 row\n",
					"output_type": "stream"
				}
			],
			"id": "0c8b74f9-164e-4b3a-a6d6-a117c05ffc78"
		},
		{
			"cell_type": "markdown",
			"source": "##### Transformamos el año de nacimiento en la edad del socio",
			"metadata": {},
			"id": "809ed77d-cb79-426b-9400-7f45897b5ba9"
		},
		{
			"cell_type": "code",
			"source": "# Calculate average birth year excluding zeros\navg_birthyear = df_merge_raw.filter(col(\"msf_birthyear__c\") != 0).agg(mean(\"msf_birthyear__c\")).collect()[0][0]\n\n# Replace 0 with average birth year\ndf_merge_raw = df_merge_raw.withColumn(\"msf_birthyear__c\", when(col(\"msf_birthyear__c\") == 0, avg_birthyear).otherwise(col(\"msf_birthyear__c\")))\n\n# Calculate age\ncurrentYear = 2023\ndf_merge_raw = df_merge_raw.withColumn(\"age\", lit(currentYear) - col(\"msf_birthyear__c\"))",
			"metadata": {
				"trusted": true,
				"tags": []
			},
			"execution_count": 6,
			"outputs": [
				{
					"name": "stdout",
					"text": "\n",
					"output_type": "stream"
				}
			],
			"id": "38af4088-939a-4b6a-b03c-ec96cad2bd04"
		},
		{
			"cell_type": "markdown",
			"source": "##### Eliminamos columnas que entendemos no deben formar parte de las features",
			"metadata": {},
			"id": "f8d44b51-5ffe-4d50-9e0a-b73b78dc63c7"
		},
		{
			"cell_type": "code",
			"source": "# Eliminamos campos que no deben estar entre las features\ncolumnsToDrop = [\"msf_birthyear__c\", \"msf_entrycampaign__c\", \"msf_begindatemsf__c\", \"msf_datefirstrecurringdonorquota__c\", \n                 \"msf_inboundoutbound__c\", \"previous_purchase_date\",\"con_id\", \"msf_changedate__c\", \"msf_leadsource3__c\",\n                 \"msf_ltvdesc__c\",\"msf_changedate__c\",\"previous_change_date\", \"msf_annualizedquota__c\", \n                 \"days_elapsed_since_previous_change\",\"npe03__installment_period__c\"]\ndf_merge_raw = df_merge_raw.drop(*columnsToDrop)",
			"metadata": {
				"trusted": true,
				"tags": []
			},
			"execution_count": 7,
			"outputs": [
				{
					"name": "stdout",
					"text": "\n",
					"output_type": "stream"
				}
			],
			"id": "ae4efcef-c78b-4d08-804a-2ec508cb5e62"
		},
		{
			"cell_type": "code",
			"source": "desired_column_order = ['whoid', 'activitydate', 'msf_seniority__c', 'npo02__best_gift_year__c','npo02__averageamount__c', 'gender__c', 'msf_ltvcont__c', 'msf_recencyrecurringdonorcont__c', \n                        'msf_rfvrecurringdonor__c', 'npo02__totaloppamount__c', 'msf_valuetotalcont__c', 'msf_valuetotaldesc__c', 'msf_lifetime__c', 'msf_pressurecomplaint__c', \n                        'msf_scoringrfvrecurringdonor__c', 'msf_averagedonorvalue__c', 'msf_percomssummary__c', 'msf_channel__c', 'days_elapsed_since_previous_modification', \n                        'msf_recencytotalcont__c', 'msf_recencytotalscore__c', 'msf_scoringrvtotal__c', 'npe03__total_paid_installments__c', 'msf_newamount__c', \n                        'msf_newannualizedquota__c', 'msf_newrecurringperiod__c', 'msf_oldamount__c', 'msf_oldannualizedquota__c',\n                        'msf_totalfiscaloppamount__c', 'msf_lastannualizedquota__c', 'msf_maximumdonorvalue__c',\n                        'msf_oldrecurringperiod__c', 'days_elapsed_since_previous_quota_change', 'age', 'msf_closetype__c']  # Replace with your desired column order\ndf_merge_raw = df_merge_raw.select(*desired_column_order)",
			"metadata": {
				"trusted": true,
				"tags": []
			},
			"execution_count": 11,
			"outputs": [
				{
					"name": "stdout",
					"text": "\n",
					"output_type": "stream"
				}
			],
			"id": "3924b007-97c5-421e-b2e4-916eb9ae3374"
		},
		{
			"cell_type": "code",
			"source": "df_merge_raw.show(1)",
			"metadata": {
				"trusted": true,
				"tags": []
			},
			"execution_count": 9,
			"outputs": [
				{
					"name": "stdout",
					"text": "+------------------+------------+----------------+------------------------+-----------------------+---------+--------------+--------------------------------+------------------------+------------------------+---------------------+---------------------+---------------+------------------------+-------------------------------+------------------------+---------------------+--------------+----------------------------------------+-----------------------+------------------------+---------------------+---------------------------------+----------------+-------------------------+-------------------------+----------------+-------------------------+------------------------+---------------------------+--------------------------+---------------------+------------------------+-------------------------+----------------------------------------+----+----------------+\n|             whoid|activitydate|msf_seniority__c|npo02__best_gift_year__c|npo02__averageamount__c|gender__c|msf_ltvcont__c|msf_recencyrecurringdonorcont__c|msf_rfvrecurringdonor__c|npo02__totaloppamount__c|msf_valuetotalcont__c|msf_valuetotaldesc__c|msf_lifetime__c|msf_pressurecomplaint__c|msf_scoringrfvrecurringdonor__c|msf_averagedonorvalue__c|msf_percomssummary__c|msf_channel__c|days_elapsed_since_previous_modification|msf_recencytotalcont__c|msf_recencytotalscore__c|msf_scoringrvtotal__c|npe03__total_paid_installments__c|msf_newamount__c|msf_newannualizedquota__c|msf_newrecurringperiod__c|msf_oldamount__c|msf_oldannualizedquota__c|msf_averagedonorvalue__c|msf_totalfiscaloppamount__c|msf_lastannualizedquota__c|msf_valuetotalcont__c|msf_maximumdonorvalue__c|msf_oldrecurringperiod__c|days_elapsed_since_previous_quota_change| age|msf_closetype__c|\n+------------------+------------+----------------+------------------------+-----------------------+---------+--------------+--------------------------------+------------------------+------------------------+---------------------+---------------------+---------------+------------------------+-------------------------------+------------------------+---------------------+--------------+----------------------------------------+-----------------------+------------------------+---------------------+---------------------------------+----------------+-------------------------+-------------------------+----------------+-------------------------+------------------------+---------------------------+--------------------------+---------------------+------------------------+-------------------------+----------------------------------------+----+----------------+\n|0033Y00002uNQ5qQAG|  2019-07-30|            22.0|                    2021|                    0.0|   Female|       2628.38|                             4.0|                     554|                 2628.38|                160.0|                 Bajo|           22.0|                   false|                            4.5|                    30.0|                 Todo|       Llamada|                                     383|                    4.0|                     5.0|                  4.2|                             null|            null|                     null|                     null|            null|                     null|                    30.0|                    2628.38|                     120.0|                160.0|                    40.0|                     null|                                    null|57.0|         No util|\n+------------------+------------+----------------+------------------------+-----------------------+---------+--------------+--------------------------------+------------------------+------------------------+---------------------+---------------------+---------------+------------------------+-------------------------------+------------------------+---------------------+--------------+----------------------------------------+-----------------------+------------------------+---------------------+---------------------------------+----------------+-------------------------+-------------------------+----------------+-------------------------+------------------------+---------------------------+--------------------------+---------------------+------------------------+-------------------------+----------------------------------------+----+----------------+\nonly showing top 1 row\n",
					"output_type": "stream"
				}
			],
			"id": "4df69256-e0ef-40ea-ae72-26cc21c50816"
		},
		{
			"cell_type": "code",
			"source": "(\n  df_merge_raw.coalesce(1).write\n        .format(\"parquet\")\n        .mode(\"overwrite\")\n        .save(f\"s3://{BUCKET_NAME}/z_output/merge_3_selection\")\n)",
			"metadata": {
				"trusted": true,
				"tags": []
			},
			"execution_count": null,
			"outputs": [],
			"id": "d7890051-171c-45d1-a483-e8bfc6b32cdc"
		},
		{
			"cell_type": "markdown",
			"source": "##### Transformamos la columna gender a numérico",
			"metadata": {},
			"id": "dcd62563-4021-488e-8805-f126ff72bcf8"
		},
		{
			"cell_type": "raw",
			"source": "# gender__c >> [\"Female\",\"Male\",\"Other\",\"\",\"M\",\"H\"]\n\n# Define a mapping from categories to integers\ngender_mapping = {'Female': 0, 'Male': 1, 'Other': 2, 'M': 0, 'H': 1, '': 2}\n\n# Define a udf to map categories to integers using the dictionary\nmapping_udf = udf(lambda gender: gender_mapping[gender], IntegerType())\n\n# Apply the udf to the DataFrame\ndf_merge_raw = df_merge_raw.withColumn('gender__c', mapping_udf(df_merge_raw['gender__c']))",
			"metadata": {
				"tags": []
			},
			"id": "d25bd2e5-09ca-4f52-8492-3ff7d8c3c7e3"
		},
		{
			"cell_type": "code",
			"source": "df_merge_raw = df_merge_raw.withColumn(\n    \"gender__c\",\n    when(col(\"gender__c\") == \"H\", \"Male\")\n    .when(col(\"gender__c\") == \"M\", \"Female\")\n    .when(col(\"gender__c\") == \"\", \"Other\")\n)",
			"metadata": {
				"trusted": true,
				"tags": []
			},
			"execution_count": 52,
			"outputs": [
				{
					"name": "stdout",
					"text": "\n",
					"output_type": "stream"
				}
			],
			"id": "d9a81569-7608-4323-8f08-3b42112384b9"
		},
		{
			"cell_type": "code",
			"source": "df_merge_raw.select([sum(when(col(c).isNull(), 1)).alias(c) for c in df_merge_raw.columns]).show()",
			"metadata": {
				"trusted": true,
				"tags": []
			},
			"execution_count": 65,
			"outputs": [
				{
					"name": "stdout",
					"text": "+-----+------------+----------------+-----------------------+---------+--------------+--------------------------------+------------------------+------------------------+---------------------+---------------------+---------------+------------------------+-------------------------------+------------------------+---------------------+--------------+----------------------------------------+----------------------+---------------------------------+----------------------------+----------------+-------------------------+-------------------------+----------------------------------+----------------+-------------------------+-------------------------+----------------------------------------+------+----------------+\n|whoid|activitydate|msf_seniority__c|npo02__averageamount__c|gender__c|msf_ltvcont__c|msf_recencyrecurringdonorcont__c|msf_rfvrecurringdonor__c|npo02__totaloppamount__c|msf_valuetotalcont__c|msf_valuetotaldesc__c|msf_lifetime__c|msf_pressurecomplaint__c|msf_scoringrfvrecurringdonor__c|msf_averagedonorvalue__c|msf_percomssummary__c|msf_channel__c|days_elapsed_since_previous_modification|msf_annualizedquota__c|npe03__total_paid_installments__c|npe03__installment_period__c|msf_newamount__c|msf_newannualizedquota__c|msf_newrecurringperiod__c|days_elapsed_since_previous_change|msf_oldamount__c|msf_oldannualizedquota__c|msf_oldrecurringperiod__c|days_elapsed_since_previous_quota_change|   age|msf_closetype__c|\n+-----+------------+----------------+-----------------------+---------+--------------+--------------------------------+------------------------+------------------------+---------------------+---------------------+---------------+------------------------+-------------------------------+------------------------+---------------------+--------------+----------------------------------------+----------------------+---------------------------------+----------------------------+----------------+-------------------------+-------------------------+----------------------------------+----------------+-------------------------+-------------------------+----------------------------------------+------+----------------+\n| null|        null|            null|                   null|  2080900|          null|                               1|                    null|                    null|                 null|                 null|           null|                    null|                           null|                 1182061|                 null|          null|                                  213051|               1759706|                          1759782|                     1759706|          969802|                   969802|                   969802|                           1762090|          975025|                   975025|                   975025|                                  975032|387958|           61960|\n+-----+------------+----------------+-----------------------+---------+--------------+--------------------------------+------------------------+------------------------+---------------------+---------------------+---------------+------------------------+-------------------------------+------------------------+---------------------+--------------+----------------------------------------+----------------------+---------------------------------+----------------------------+----------------+-------------------------+-------------------------+----------------------------------+----------------+-------------------------+-------------------------+----------------------------------------+------+----------------+\n",
					"output_type": "stream"
				}
			],
			"id": "f3bdb3f9-3593-460c-a3ab-f0c198d4ec84"
		},
		{
			"cell_type": "markdown",
			"source": "##### Transformamos la valor del socio a numérico",
			"metadata": {},
			"id": "c07b3eae-b84b-4821-9745-184429d3efbb"
		},
		{
			"cell_type": "code",
			"source": "#msf_valuetotaldesc__c >> [\"Muy bajo\",\"Nulo\",\"Medio\",\"Bajo\",\"Alto\",\"Muy Alto\"]\n\n# Define a mapping from categories to integers\nvalue_mapping = {'Nulo': 0, 'Muy bajo': 1, 'Bajo': 2, 'Medio': 3, 'Alto': 4, 'Muy Alto': 5}\n\n# Define a udf to map categories to integers using the dictionary\nmapping_udf = udf(lambda value: value_mapping[value], IntegerType())\n\n# Apply the udf to the DataFrame\ndf_task_merge = df_task_merge.withColumn('msf_valuetotaldesc__c', mapping_udf(df_task_merge['msf_valuetotaldesc__c']))",
			"metadata": {
				"tags": []
			},
			"execution_count": 33,
			"outputs": [
				{
					"name": "stdout",
					"output_type": "stream",
					"text": "\n"
				}
			],
			"id": "445c951b-0613-4146-abc8-87e2d231a3fe"
		},
		{
			"cell_type": "markdown",
			"source": "##### Transformamos la periodicidad de la cuota de socio a numérico",
			"metadata": {},
			"id": "92735a3d-8b2b-4bc8-9741-669a5b264806"
		},
		{
			"cell_type": "code",
			"source": "#msf_newrecurringperiod__c >> [\"Monthly\",\"Yearly\",\"Quarterly\",\"Semestral\",\"Bimensual\",\"\"]\ndf_task_merge = df_task_merge.fillna({\"msf_newrecurringperiod__c\": '1'})\n\n# Define a mapping from categories to integers\nperiod_mapping = {'': 1, 'Monthly': 1, 'Bimensual': 2, 'Quarterly': 3, 'Semestral': 4, 'Yearly': 5}\n\n# Define a udf to map categories to integers using the dictionary\nmapping_udf = udf(lambda period: period_mapping[period], IntegerType())\n\n# Apply the udf to the DataFrame\ndf_task_merge = df_task_merge.withColumn('msf_newrecurringperiod__c', mapping_udf(df_task_merge['msf_newrecurringperiod__c']))",
			"metadata": {
				"tags": []
			},
			"execution_count": 34,
			"outputs": [
				{
					"name": "stdout",
					"output_type": "stream",
					"text": "\n"
				}
			],
			"id": "fb9abffa-63f4-4f51-a8cd-ca0a4f63b181"
		},
		{
			"cell_type": "markdown",
			"source": "##### Nos quedamos con los canales que consideramos relevantes y al resto les ponemos un valor genérico",
			"metadata": {},
			"id": "36bad114-a116-4b33-81d5-30dbd23df4ac"
		},
		{
			"cell_type": "code",
			"source": "# msf_channel__c >> [\"Correo Postal\",\"Llamada\",\"E-mail\",\"Online\",\"SMS\",\"Formularios Web\",\"Presencial\",\"Mi Perfil\",\"n/a\",\"Interno\",\"Mensajería Instantánea\",\"Generación Aplicación\",\"Fichero Informático\",\"Fax\"]\n\n# Define the condition and replacement values\ncondition = ~df_task_merge[\"msf_channel__c\"].isin([\"Correo Postal\",\"Llamada\",\"E-mail\",\"Online\",\"SMS\",\"Formularios Web\"])\nreplacement_value = \"Otros\"\n\n# Use the 'when' function to replace values based on the condition\ndf_task_merge = df_task_merge.withColumn(\"msf_channel__c\", when(condition, replacement_value).otherwise(df_task_merge[\"msf_channel__c\"]))",
			"metadata": {
				"tags": []
			},
			"execution_count": 35,
			"outputs": [
				{
					"name": "stdout",
					"output_type": "stream",
					"text": "\n"
				}
			],
			"id": "2946b1af-775c-4f32-a0d7-77f7a9ebc6e2"
		},
		{
			"cell_type": "markdown",
			"source": "##### Transformamos el canal a numérico aunque entiendo que deberíamos usar one hot encoder",
			"metadata": {},
			"id": "bbae4ea2-3c9b-4c43-a0bb-61755d5c3eba"
		},
		{
			"cell_type": "raw",
			"source": "#msf_channel__c >> [\"Correo Postal\",\"Llamada\",\"E-mail\",\"Online\",\"SMS\",\"Formularios Web\",\"Presencial\",\"Mi Perfil\",\"n/a\",\"Interno\",\"Mensajería Instantánea\",\"Generación Aplicación\",\"Fichero Informático\",\"Fax\"]\n\n# Define a mapping from categories to integers\nchennel_mapping = {'Correo Postal': 0, 'Llamada': 1, 'E-mail': 2, 'Online': 3, 'SMS': 4, 'Formularios Web': 5, 'Otros': 6}\n\n# Define a udf to map categories to integers using the dictionary\nmapping_udf = udf(lambda channel: chennel_mapping[channel], IntegerType())\n\n# Apply the udf to the DataFrame\ndf_task_merge = df_task_merge.withColumn('msf_channel__c', mapping_udf(df_task_merge['msf_channel__c']))",
			"metadata": {
				"tags": []
			},
			"id": "2216464f-59ac-4d85-85e9-3833a5d9d92b"
		},
		{
			"cell_type": "markdown",
			"source": "##### Consideramos negativas todas las interacciones que no son expresamente positivas",
			"metadata": {},
			"id": "88021025-eb2e-430a-8d66-355880f1b2d8"
		},
		{
			"cell_type": "code",
			"source": "# Define the condition and replacement values\ncondition = df_task_merge[\"msf_closetype__c\"] != \"Positivo\"\nreplacement_value = \"Negativo\"\n\n# Use the 'when' function to replace values based on the condition\ndf_task_merge = df_task_merge.withColumn(\"msf_closetype__c\", when(condition, replacement_value).otherwise(df_task_merge[\"msf_closetype__c\"]))",
			"metadata": {
				"tags": []
			},
			"execution_count": 37,
			"outputs": [
				{
					"name": "stdout",
					"output_type": "stream",
					"text": "\n"
				}
			],
			"id": "c5a438f8-a607-40c5-afa0-12d3d9920b93"
		},
		{
			"cell_type": "markdown",
			"source": "##### Configuramos el orden en el que queremos las columnas en el dataset",
			"metadata": {},
			"id": "fd202a26-af05-44f3-b89f-305287ffb83b"
		},
		{
			"cell_type": "code",
			"source": "desired_column_order = ['whoid', 'activitydate', 'msf_seniority__c', 'npo02__averageamount__c', 'msf_datefirstrecurringdonorquota__c', \n                        'gender__c', 'msf_ltvcont__c', 'msf_recencyrecurringdonorcont__c', 'msf_rfvrecurringdonor__c', 'npo02__totaloppamount__c', \n                        'msf_valuetotalcont__c', 'msf_valuetotaldesc__c', 'msf_lifetime__c', 'msf_pressurecomplaint__c', 'msf_scoringrfvrecurringdonor__c', \n                        'msf_averagedonorvalue__c', 'msf_percomssummary__c', 'msf_channel__c', 'days_elapsed_since_previous_modification', 'con_id', 'msf_annualizedquota__c', 'npe03__total_paid_installments__c', 'npe03__installment_period__c', 'msf_changedate__c', 'msf_changetype__c', 'msf_leadsource3__c', 'msf_newamount__c', \n                        'msf_newannualizedquota__c', 'msf_newrecurringperiod__c', 'days_elapsed_since_previous_change', 'msf_oldamount__c', 'msf_oldannualizedquota__c',\n                        'msf_oldrecurringperiod__c', 'days_elapsed_since_previous_quota_change', 'age', 'msf_closetype__c']  # Replace with your desired column order\ndf_task_merge = df_task_merge.select(*desired_column_order)",
			"metadata": {
				"tags": []
			},
			"execution_count": null,
			"outputs": [],
			"id": "17076e77-92ed-4b2f-83aa-8f424c21fa5f"
		},
		{
			"cell_type": "code",
			"source": "df_task_merge.count()",
			"metadata": {
				"tags": []
			},
			"execution_count": 24,
			"outputs": [
				{
					"name": "stdout",
					"output_type": "stream",
					"text": "2098989\n"
				}
			],
			"id": "834dd57c-69f0-4dd6-add2-2d39eb2fa91a"
		},
		{
			"cell_type": "code",
			"source": "df_task_merge.where(df_task_merge.msf_newrecurringperiod__c!=0).count()",
			"metadata": {
				"tags": []
			},
			"execution_count": 25,
			"outputs": [
				{
					"name": "stdout",
					"output_type": "stream",
					"text": "1124975\n"
				}
			],
			"id": "c8bd7ea4-899a-4e75-a521-1cfd85de866e"
		},
		{
			"cell_type": "markdown",
			"source": "##### Vemos que hay numerosos registros que no tienen periodicidad asociada. En principio prescindimos de ellos.",
			"metadata": {},
			"id": "a6d0e27c-29b3-40a5-81ba-b71ffccd5a38"
		},
		{
			"cell_type": "code",
			"source": "df_task_merge = df_task_merge.where(df_task_merge.msf_newrecurringperiod__c != 0)",
			"metadata": {
				"tags": []
			},
			"execution_count": 39,
			"outputs": [
				{
					"name": "stdout",
					"output_type": "stream",
					"text": "\n"
				}
			],
			"id": "12a3dc5e-5b52-4435-b999-b1047f98a4f9"
		},
		{
			"cell_type": "markdown",
			"source": "##### Grabamos en S3 el fichero resultante, en el que tenemos las features, el id del contacto y la fecha de la tarea",
			"metadata": {},
			"id": "7001e84c-3080-4d0c-a7ef-d1e6e5dad764"
		},
		{
			"cell_type": "code",
			"source": "(\n  df_task_merge.write\n        .format(\"parquet\")\n        .mode(\"overwrite\")\n        .save(f\"s3://{BUCKET_NAME}/output/task_merge_id_date\")\n)",
			"metadata": {
				"tags": []
			},
			"execution_count": 40,
			"outputs": [
				{
					"name": "stdout",
					"output_type": "stream",
					"text": "\n"
				}
			],
			"id": "3378587a-8717-48f2-8e3d-c07589ddf7a5"
		},
		{
			"cell_type": "markdown",
			"source": "También en csv",
			"metadata": {},
			"id": "b0f21554-7141-4e87-857d-56a32dfd7299"
		},
		{
			"cell_type": "code",
			"source": "(\n  df_task_merge.coalesce(1).write\n    .format(\"csv\")\n    .option(\"compression\", \"gzip\")\n    .option(\"header\", True)\n    .mode(\"overwrite\")\n    .save(f\"s3://{BUCKET_NAME}/output/task_merge_id_date_csv\")\n)",
			"metadata": {
				"tags": []
			},
			"execution_count": 41,
			"outputs": [
				{
					"name": "stdout",
					"output_type": "stream",
					"text": "\n"
				}
			],
			"id": "8579aaca-23c4-4f53-882a-65e38fd917d5"
		},
		{
			"cell_type": "markdown",
			"source": "### --------------------------------------------------------------------------------",
			"metadata": {},
			"id": "52c73231-e5bc-4a4a-aac2-8e8d2374b6e9"
		},
		{
			"cell_type": "markdown",
			"source": "##### Cargamos de nuevo el fichero",
			"metadata": {},
			"id": "ed1825c5-a605-44ef-a22d-0519c68e44e4"
		},
		{
			"cell_type": "code",
			"source": "df_feature_store = (\n  spark.read\n    .option(\"header\", \"true\")\n    .option(\"quote\", \"\\\"\")\n    .option(\"escape\" , \"\\\"\")   \n    .format(\"parquet\")\n    .load(f\"s3://{BUCKET_NAME}/output/task_merge_id_date\")\n)",
			"metadata": {
				"tags": []
			},
			"execution_count": 6,
			"outputs": [
				{
					"name": "stdout",
					"output_type": "stream",
					"text": "\n"
				}
			],
			"id": "ff99ee75-611f-4e75-bfd0-5bdcc88bac5b"
		},
		{
			"cell_type": "markdown",
			"source": "##### Para crear un fichero de features o feature store nos quedamos con el registro más reciente para cada contacto",
			"metadata": {},
			"id": "c7f30968-0c94-463a-83f5-de64750a9f83"
		},
		{
			"cell_type": "code",
			"source": "# Define a window spec\nwindowSpec = Window.partitionBy(\"whoid\").orderBy(desc(\"activityDate\"))\n\n# Use the row_number function to assign a row number to each record in the window\ndf_feature_store = df_feature_store.withColumn(\"row_num\", row_number().over(windowSpec))\n\n# Filter for the most recent record for each customerId\ndf_feature_store = df_feature_store.filter(col(\"row_num\") == 1).drop(\"row_num\")",
			"metadata": {
				"tags": []
			},
			"execution_count": 7,
			"outputs": [
				{
					"name": "stdout",
					"output_type": "stream",
					"text": "\n"
				}
			],
			"id": "cdd4a9dd-ac00-403f-86cb-6e5ede8dd02f"
		},
		{
			"cell_type": "markdown",
			"source": "##### Y lo guardamos también",
			"metadata": {},
			"id": "8793f8b0-1c69-4153-863c-d8e5476d9a24"
		},
		{
			"cell_type": "code",
			"source": "(\n  df_feature_store.coalesce(1).write\n    .format(\"csv\")\n    .option(\"compression\", \"gzip\")\n    .option(\"header\", True)\n    .mode(\"overwrite\")\n    .save(f\"s3://{BUCKET_NAME}/output/feature_store_csv\")\n)",
			"metadata": {
				"tags": []
			},
			"execution_count": 9,
			"outputs": [
				{
					"name": "stdout",
					"output_type": "stream",
					"text": "\n"
				}
			],
			"id": "22b55ca4-8d57-40ea-ae20-e9091eccb39e"
		},
		{
			"cell_type": "markdown",
			"source": "### --------------------------------------------------------------------------------",
			"metadata": {},
			"id": "9688ba9b-95d7-40c9-b2d5-70b50cf63143"
		},
		{
			"cell_type": "markdown",
			"source": "##### Obtenemos otro data frame pero esta vez sólo con las features que utilizaremos en el modelo. ",
			"metadata": {},
			"id": "05757774-0b75-42fa-90c2-c9927a9f47b0"
		},
		{
			"cell_type": "code",
			"source": "# Eliminamos id y date\ncolumnsToDrop = [\"whoid\", \"activitydate\"]\ndf_task_merge_clean = df_task_merge.drop(*columnsToDrop)",
			"metadata": {
				"tags": []
			},
			"execution_count": 42,
			"outputs": [
				{
					"name": "stdout",
					"output_type": "stream",
					"text": "\n"
				}
			],
			"id": "02693550-756a-4f0a-92c9-b5937f8f9765"
		},
		{
			"cell_type": "markdown",
			"source": "##### Y lo salvamos para su uso posterior",
			"metadata": {},
			"id": "df3d57e4-c5ab-4305-b90e-7eaeb769a0c3"
		},
		{
			"cell_type": "code",
			"source": "(\n  df_task_merge_clean.write\n        .format(\"parquet\")\n        .mode(\"overwrite\")\n        .save(f\"s3://{BUCKET_NAME}/output/task_merge_clean\")\n)",
			"metadata": {
				"tags": []
			},
			"execution_count": 43,
			"outputs": [
				{
					"name": "stdout",
					"output_type": "stream",
					"text": "\n"
				}
			],
			"id": "f30f3629-9766-4df7-9d09-5951fc2385d6"
		},
		{
			"cell_type": "code",
			"source": "(\n  df_task_merge_clean.coalesce(1).write\n    .format(\"csv\")\n    .option(\"compression\", \"gzip\")\n    .option(\"header\", True)\n    .mode(\"overwrite\")\n    .save(f\"s3://{BUCKET_NAME}/output/task_merge_clean_csv\")\n)",
			"metadata": {
				"tags": []
			},
			"execution_count": 44,
			"outputs": [
				{
					"name": "stdout",
					"output_type": "stream",
					"text": "\n"
				}
			],
			"id": "831ceb72-0f25-44bc-a430-384ca3909da2"
		}
	]
}