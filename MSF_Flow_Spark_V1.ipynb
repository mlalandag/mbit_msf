{
 "cells": [
  {
   "cell_type": "code",
   "execution_count": null,
   "id": "6a354ba5-4080-4bb2-ad49-39f5a38678b6",
   "metadata": {},
   "outputs": [],
   "source": [
    "from pyspark.sql.window import Window\n",
    "from pyspark.sql.functions import col, lag, datediff, last\n",
    "\n",
    "BUCKET_NAME = \"marcial-tmf-oct22-msf-data\""
   ]
  },
  {
   "cell_type": "markdown",
   "id": "e9bb5460-95cf-4218-aee3-3fdc333a8a60",
   "metadata": {},
   "source": [
    "Contacts"
   ]
  },
  {
   "cell_type": "code",
   "execution_count": null,
   "id": "acba6f8b-bc52-4f87-aad2-9d9dd9dd37e3",
   "metadata": {},
   "outputs": [],
   "source": [
    "df_con = (\n",
    "  spark.read\n",
    "    .option(\"header\", \"true\")\n",
    "    .option(\"quote\", \"\\\"\")\n",
    "    .option(\"escape\" , \"\\\"\")   \n",
    "    .format(\"parquet\")\n",
    "    .load(f\"s3://{BUCKET_NAME}/contacts/MSF_Contact.parquet\")\n",
    ")"
   ]
  },
  {
   "cell_type": "code",
   "execution_count": null,
   "id": "5bdc383e-8970-4584-8035-ee07df0d42da",
   "metadata": {},
   "outputs": [],
   "source": [
    "df_con = df_con.withColumnRenamed(\"id\",\"con_id\")"
   ]
  },
  {
   "cell_type": "markdown",
   "id": "84b394df-1a7a-42f3-9e00-e9d8d97ea6e7",
   "metadata": {},
   "source": [
    "Tasks"
   ]
  },
  {
   "cell_type": "code",
   "execution_count": null,
   "id": "bb3c0896-6a3e-4e4a-8b3d-4b43c203d7ce",
   "metadata": {},
   "outputs": [],
   "source": [
    "df_tasks = (\n",
    "  spark.read\n",
    "    .option(\"header\", \"true\")\n",
    "    .option(\"quote\", \"\\\"\")\n",
    "    .option(\"escape\" , \"\\\"\")   \n",
    "    .format(\"parquet\")\n",
    "    .load(f\"s3://{BUCKET_NAME}/tasks/MSF_Task.parquet\")\n",
    ")"
   ]
  },
  {
   "cell_type": "code",
   "execution_count": null,
   "id": "06204afe-f403-4336-a5a2-f74ddb1d156a",
   "metadata": {},
   "outputs": [],
   "source": [
    "df_tasks = df_tasks.withColumnRenamed(\"id\",\"task_id\")"
   ]
  },
  {
   "cell_type": "markdown",
   "id": "fc26bccb-3428-4110-8997-6a3d97cc4356",
   "metadata": {},
   "source": [
    "MERGE CON CONTACTS"
   ]
  },
  {
   "cell_type": "code",
   "execution_count": null,
   "id": "60868556-5990-436b-9005-7ff1a4fa4262",
   "metadata": {},
   "outputs": [],
   "source": [
    "df_tasks_cons = (\n",
    "        df_con\n",
    "        .join(df_tasks, df_con.con_id == df_tasks.whoid, 'inner')\n",
    "    .select(\n",
    "        df_con.msf_seniority__c, df_con.msf_birthyear__c, df_con.msf_entrycampaign__c, df_con.npo02__averageamount__c,\n",
    "        df_con.msf_begindatemsf__c, df_con.msf_datefirstrecurringdonorquota__c, df_con.gender__c, df_con.msf_ltvcont__c,\n",
    "        df_con.msf_ltvdesc__c, df_con.msf_recencyrecurringdonorcont__c, df_con.msf_rfvrecurringdonor__c, df_con.npo02__totaloppamount__c,\n",
    "        df_con.msf_valuetotalcont__c, df_con.msf_valuetotaldesc__c, df_con.msf_lifetime__c,\n",
    "        df_tasks.whoid, df_tasks.activitydate, df_tasks.msf_channel__c, df_tasks.msf_inboundoutbound__c, df_tasks.msf_closetype__c\n",
    "    ).where((df_con.con_id == df_tasks.whoid) &\n",
    "            (df_con.msf_isactiverecurringdonor__c == 'Socio') &\n",
    "            (df_tasks.subject == \"MSF Aumento de Cuota\"))\n",
    ")\n",
    "#.where((df_con.id == '0033Y00002unQGTQA2') & "
   ]
  },
  {
   "cell_type": "code",
   "execution_count": null,
   "id": "8b546384-f905-4cd2-a9d6-9f04dec5d319",
   "metadata": {},
   "outputs": [],
   "source": [
    "windowSpec = Window.partitionBy(\"whoid\").orderBy(\"activitydate\")\n",
    "  \n",
    "df_tasks_cons = df_tasks_cons.withColumn(\"previous_modification_date\", lag(\"activitydate\").over(windowSpec)) \\\n",
    "    .withColumn(\"days_elapsed_since_previous_modification\", datediff(col(\"activitydate\"), col(\"previous_modification_date\")))"
   ]
  },
  {
   "cell_type": "markdown",
   "id": "b873c085-56aa-4366-8c71-c73aecedbe97",
   "metadata": {},
   "source": [
    "-----------------------------------------------------------------------------------"
   ]
  },
  {
   "cell_type": "code",
   "execution_count": null,
   "id": "d0b932d3-18b2-49ca-ae7b-dad1cee0f3f3",
   "metadata": {},
   "outputs": [],
   "source": [
    "df_rec = (\n",
    "  spark.read\n",
    "    .option(\"header\", \"true\")\n",
    "    .option(\"quote\", \"\\\"\")\n",
    "    .option(\"escape\" , \"\\\"\")   \n",
    "    .format(\"parquet\")\n",
    "    .load(f\"s3://{BUCKET_NAME}/recurringdonations/MSF_RecurringDonation.parquet\")\n",
    ")"
   ]
  },
  {
   "cell_type": "code",
   "execution_count": null,
   "id": "800b8300-faa7-45d1-b506-6e619d589327",
   "metadata": {},
   "outputs": [],
   "source": [
    "df_rec = df_rec.withColumnRenamed(\"id\",\"rec_id\")"
   ]
  },
  {
   "cell_type": "code",
   "execution_count": null,
   "id": "f13669d3-3b77-49cc-b96e-4476e0d029fe",
   "metadata": {},
   "outputs": [],
   "source": [
    "df_quo = (\n",
    "  spark.read\n",
    "    .option(\"header\", \"true\")\n",
    "    .option(\"quote\", \"\\\"\")\n",
    "    .option(\"escape\" , \"\\\"\")   \n",
    "    .format(\"parquet\")\n",
    "    .load(f\"s3://{BUCKET_NAME}/quotamodifications/MSF_QuotaModification.parquet\")\n",
    ")"
   ]
  },
  {
   "cell_type": "code",
   "execution_count": null,
   "id": "5f73d5fb-0f97-4ad5-a016-2548c68dd4dc",
   "metadata": {},
   "outputs": [],
   "source": [
    "df_quo = df_quo.withColumnRenamed(\"id\",\"quo_id\")"
   ]
  },
  {
   "cell_type": "code",
   "execution_count": null,
   "id": "66721731-bc48-4949-9ada-27bbcaaa4a12",
   "metadata": {},
   "outputs": [],
   "source": [
    "df_rec_quo = (\n",
    "        df_con\n",
    "        .join(df_rec, df_con.con_id == df_rec.npe03__contact__c, 'inner')\n",
    "        .join(df_quo, df_con.con_id == df_quo.msf_contactid__c, 'inner')\n",
    "    .select(\n",
    "        df_con.con_id, \n",
    "        df_quo.msf_changedate__c, df_quo.msf_leadsource3__c, \n",
    "        df_quo.msf_newamount__c, df_quo.msf_newannualizedquota__c, df_quo.msf_newrecurringperiod__c\n",
    "    ).where((df_con.con_id == df_rec.npe03__contact__c) & \n",
    "            (df_con.con_id == df_quo.msf_contactid__c) &\n",
    "            (df_rec.rec_id == df_quo.msf_recurringdonation__c) &\n",
    "            (df_rec.npe03__open_ended_status__c == 'Open'))\n",
    ")"
   ]
  },
  {
   "cell_type": "code",
   "execution_count": null,
   "id": "a4454f3b-41e4-4601-9a34-c8f7692b1918",
   "metadata": {},
   "outputs": [],
   "source": [
    "windowSpec = Window.partitionBy(\"con_id\").orderBy(col(\"msf_changedate__c\"))\n",
    "\n",
    "df_rec_quo = df_rec_quo.withColumn(\"previous_change_date\", lag(\"msf_changedate__c\").over(windowSpec)) \\\n",
    "    .withColumn(\"days_elapsed_since_previous_change\", datediff(col(\"msf_changedate__c\"), col(\"previous_change_date\"))) \\\n",
    "    .withColumn(\"msf_oldamount__c\", lag(col(\"msf_newamount__c\")).over(windowSpec))  \\\n",
    "    .withColumn(\"msf_oldannualizedquota__c\", lag(col(\"msf_newannualizedquota__c\")).over(windowSpec))  \\\n",
    "    .withColumn(\"msf_oldrecurringperiod__c\", lag(col(\"msf_newrecurringperiod__c\")).over(windowSpec))"
   ]
  },
  {
   "cell_type": "code",
   "execution_count": null,
   "id": "6996ad01-6e97-4174-881e-892e9c09be48",
   "metadata": {},
   "outputs": [],
   "source": [
    "df_merge = (\n",
    "        df_tasks_cons\n",
    "        .join(df_rec_quo, (df_rec_quo.msf_changedate__c > df_tasks_cons.activitydate) &\n",
    "                          (df_rec_quo.msf_changedate__c <= df_tasks_cons.activitydate + 60) &\n",
    "                          (df_rec_quo.con_id == df_tasks_cons.whoid)\n",
    "             , 'left')\n",
    ")"
   ]
  },
  {
   "cell_type": "code",
   "execution_count": null,
   "id": "11e939ac-ad1e-43ae-8320-9382d1f15e47",
   "metadata": {},
   "outputs": [],
   "source": [
    "window_spec = Window.partitionBy(\"whoid\").orderBy(col(\"activitydate\"),col(\"previous_modification_date\"))\n",
    "\n",
    "columns_to_fill = [\"msf_newamount__c\", \"msf_newannualizedquota__c\", \"msf_newrecurringperiod__c\",\n",
    "                   \"previous_change_date\", \"msf_oldamount__c\", \"msf_oldannualizedquota__c\", \"msf_oldrecurringperiod__c\"]\n",
    "\n",
    "# Use the last function to fill null values with values from the previous row within the same ID\n",
    "for col in columns_to_fill:\n",
    "    df_merge = df_merge.withColumn(col, last(col, True).over(window_spec))"
   ]
  },
  {
   "cell_type": "code",
   "execution_count": null,
   "id": "80c48ab5-d249-4792-a09d-fb9612382376",
   "metadata": {},
   "outputs": [],
   "source": [
    "from pyspark.sql.functions import col\n",
    "window_spec = Window.partitionBy(\"whoid\").orderBy(col(\"activitydate\").desc())\n",
    "\n",
    "columns_to_fill = [\"previous_change_date\", \"msf_oldamount__c\", \"msf_oldannualizedquota__c\", \"msf_oldrecurringperiod__c\"]\n",
    "\n",
    "# Use the last function to fill null values with values from the previous row within the same ID\n",
    "for col in columns_to_fill:\n",
    "    df_merge = df_merge.withColumn(col, last(col, True).over(window_spec))"
   ]
  },
  {
   "cell_type": "code",
   "execution_count": null,
   "id": "aaf01a29-bd30-4953-80cf-dd16bcbdffea",
   "metadata": {},
   "outputs": [],
   "source": [
    "from pyspark.sql.functions import datediff, col\n",
    "\n",
    "df_merge = df_merge.withColumn(\"days_elapsed_since_previous_quota_change\", datediff(col(\"activitydate\"), col(\"previous_change_date\")))"
   ]
  },
  {
   "cell_type": "code",
   "execution_count": null,
   "id": "8ed2d0bd-e45a-47c1-9b78-123829408772",
   "metadata": {},
   "outputs": [],
   "source": [
    "from pyspark.sql.functions import coalesce\n",
    "\n",
    "df_merge = df_merge.withColumn(\"days_elapsed_since_previous_modification\", coalesce(col(\"days_elapsed_since_previous_modification\"),col(\"days_elapsed_since_previous_quota_change\"))) \\\n",
    "                   .withColumn('msf_newamount__c', coalesce(col('msf_newamount__c'),col('msf_oldamount__c'))) \\\n",
    "                   .withColumn('msf_newannualizedquota__c', coalesce(col('msf_newannualizedquota__c'),col('msf_oldannualizedquota__c'))) \\\n",
    "                   .withColumn('msf_newrecurringperiod__c', coalesce(col('msf_newrecurringperiod__c'),col('msf_oldrecurringperiod__c')))                                "
   ]
  },
  {
   "cell_type": "code",
   "execution_count": null,
   "id": "bcaa298e-6da2-4482-95c1-f031a09e72cb",
   "metadata": {},
   "outputs": [],
   "source": [
    "(\n",
    "  df_merge.write\n",
    "        .format(\"parquet\")\n",
    "        .mode(\"overwrite\")\n",
    "        .save(f\"s3://{BUCKET_NAME}/output/task_merge\")\n",
    ")"
   ]
  },
  {
   "cell_type": "code",
   "execution_count": null,
   "id": "60e52aa9-f105-4eae-9f47-4e89864f2b49",
   "metadata": {},
   "outputs": [],
   "source": [
    "df_task_merge = (\n",
    "  spark.read\n",
    "    .option(\"header\", \"true\")\n",
    "    .option(\"quote\", \"\\\"\")\n",
    "    .option(\"escape\" , \"\\\"\")   \n",
    "    .format(\"parquet\")\n",
    "    .load(f\"s3://{BUCKET_NAME}/output/task_merge\")\n",
    ")"
   ]
  },
  {
   "cell_type": "code",
   "execution_count": null,
   "id": "ebd7342a-37da-4971-bc27-40813301e154",
   "metadata": {},
   "outputs": [],
   "source": [
    "# Transformamos fecha de nacimiento en edad\n",
    "currentYear = 2023\n",
    "df_task_merge = df_task_merge.withColumn(\"age\", lit(currentYear) - col(\"msf_birthyear__c\"))"
   ]
  },
  {
   "cell_type": "code",
   "execution_count": null,
   "id": "ae4efcef-c78b-4d08-804a-2ec508cb5e62",
   "metadata": {},
   "outputs": [],
   "source": [
    "# Eliminamos campos que no deben estar entre las features\n",
    "columnsToDrop = [\"msf_birthyear__c\", \"msf_entrycampaign__c\", \"npo02__averageamount__c\",\n",
    "                       \"msf_begindatemsf__c\", \"msf_datefirstrecurringdonorquota__c\", \"msf_lifetime__c\",\n",
    "                       \"msf_inboundoutbound__c\", \"previous_purchase_date\",\n",
    "                       \"con_id\", \"msf_changedate__c\", \"msf_leadsource3__c\"]\n",
    "df_task_merge = df_task_merge.drop(*columnsToDrop)"
   ]
  },
  {
   "cell_type": "code",
   "execution_count": 1,
   "id": "f3f16993-ed6e-44c7-b4b6-00f059837b9d",
   "metadata": {},
   "outputs": [
    {
     "ename": "ModuleNotFoundError",
     "evalue": "No module named 'pyspark'",
     "output_type": "error",
     "traceback": [
      "\u001b[1;31m---------------------------------------------------------------------------\u001b[0m",
      "\u001b[1;31mModuleNotFoundError\u001b[0m                       Traceback (most recent call last)",
      "Cell \u001b[1;32mIn [1], line 1\u001b[0m\n\u001b[1;32m----> 1\u001b[0m \u001b[38;5;28;01mfrom\u001b[39;00m \u001b[38;5;21;01mpyspark\u001b[39;00m\u001b[38;5;21;01m.\u001b[39;00m\u001b[38;5;21;01mml\u001b[39;00m\u001b[38;5;21;01m.\u001b[39;00m\u001b[38;5;21;01mfeature\u001b[39;00m \u001b[38;5;28;01mimport\u001b[39;00m OneHotEncoder\n\u001b[0;32m      2\u001b[0m \u001b[38;5;28;01mfrom\u001b[39;00m \u001b[38;5;21;01mpyspark\u001b[39;00m\u001b[38;5;21;01m.\u001b[39;00m\u001b[38;5;21;01mml\u001b[39;00m \u001b[38;5;28;01mimport\u001b[39;00m Pipeline\n\u001b[0;32m      4\u001b[0m \u001b[38;5;66;03m# Define the OneHotEncoder\u001b[39;00m\n",
      "\u001b[1;31mModuleNotFoundError\u001b[0m: No module named 'pyspark'"
     ]
    }
   ],
   "source": [
    "from pyspark.ml.feature import OneHotEncoder\n",
    "from pyspark.ml import Pipeline\n",
    "\n",
    "# Define the OneHotEncoder\n",
    "encoder = OneHotEncoder(inputCol=\"gender__c\", outputCol=\"gender_encoded\")\n",
    "\n",
    "# Fit the encoder on the data\n",
    "encoder_model = encoder.fit(df_task_merge)\n",
    "\n",
    "# Transform the data using the encoder\n",
    "df_task_merge = encoder_model.transform(df_task_merge)"
   ]
  },
  {
   "cell_type": "code",
   "execution_count": null,
   "id": "2946b1af-775c-4f32-a0d7-77f7a9ebc6e2",
   "metadata": {},
   "outputs": [],
   "source": [
    "# Define the condition and replacement values\n",
    "condition = df_task_merge[\"msf_closetype__c\"] != \"Positivo\"\n",
    "replacement_value = \"Negativo\"\n",
    "\n",
    "# Use the 'when' function to replace values based on the condition\n",
    "df_task_merge = df_task_merge.withColumn(\"msf_closetype__c\", when(condition, replacement_value).otherwise(df_task_merge[\"msf_closetype__c\"]))"
   ]
  },
  {
   "cell_type": "code",
   "execution_count": null,
   "id": "17076e77-92ed-4b2f-83aa-8f424c21fa5f",
   "metadata": {},
   "outputs": [],
   "source": [
    "desired_column_order = [\"whoid\", \"activitydate\", \"msf_seniority__c\",\"gender__c\",\"msf_ltvcont__c\",\"msf_ltvdesc__c\",\n",
    "                        \"msf_recencyrecurringdonorcont__c\",\"msf_rfvrecurringdonor__c\",\"npo02__totaloppamount__c\",\n",
    "                        \"msf_valuetotalcont__c\",\"msf_valuetotaldesc__c\",\"msf_channel__c\", \"days_elapsed_since_previous_modification\"\n",
    "                       ,\"msf_newamount__c\",\"msf_newannualizedquota__c\",\"msf_newrecurringperiod__c\",\"msf_closetype__c\"]  # Replace with your desired column order\n",
    "df_task_merge = df_task_merge.select(*desired_column_order)"
   ]
  },
  {
   "cell_type": "code",
   "execution_count": null,
   "id": "3378587a-8717-48f2-8e3d-c07589ddf7a5",
   "metadata": {},
   "outputs": [],
   "source": [
    "(\n",
    "  df_task_merge.write\n",
    "        .format(\"parquet\")\n",
    "        .mode(\"overwrite\")\n",
    "        .save(f\"s3://{BUCKET_NAME}/output/task_merge_id_date\")\n",
    ")"
   ]
  },
  {
   "cell_type": "code",
   "execution_count": null,
   "id": "02693550-756a-4f0a-92c9-b5937f8f9765",
   "metadata": {},
   "outputs": [],
   "source": [
    "# Eliminamos id y date\n",
    "columnsToDrop = [\"whoid\", \"activitydate\"]\n",
    "df_task_merge = df_task_merge.drop(*columnsToDrop)"
   ]
  },
  {
   "cell_type": "code",
   "execution_count": null,
   "id": "831ceb72-0f25-44bc-a430-384ca3909da2",
   "metadata": {},
   "outputs": [],
   "source": [
    "(\n",
    "  df_task_merge.write\n",
    "        .format(\"parquet\")\n",
    "        .mode(\"overwrite\")\n",
    "        .save(f\"s3://{BUCKET_NAME}/output/task_merge_clean\")\n",
    ")"
   ]
  }
 ],
 "metadata": {
  "kernelspec": {
   "display_name": "Python 3 (ipykernel)",
   "language": "python",
   "name": "python3"
  },
  "language_info": {
   "codemirror_mode": {
    "name": "ipython",
    "version": 3
   },
   "file_extension": ".py",
   "mimetype": "text/x-python",
   "name": "python",
   "nbconvert_exporter": "python",
   "pygments_lexer": "ipython3",
   "version": "3.11.1"
  }
 },
 "nbformat": 4,
 "nbformat_minor": 5
}
