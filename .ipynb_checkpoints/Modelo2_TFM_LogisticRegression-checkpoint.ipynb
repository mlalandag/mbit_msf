{
 "cells": [
  {
   "cell_type": "code",
   "execution_count": 22,
   "id": "dd8377c9-a6cc-421b-9227-fb6e45e07317",
   "metadata": {},
   "outputs": [],
   "source": [
    "# Importamos las librerías necesarias \n",
    "import pandas as pd\n",
    "import numpy as np\n",
    "import matplotlib.pyplot as plt \n",
    "import plotly.express as px\n",
    "import seaborn as sns\n",
    "\n",
    "from imblearn.over_sampling import SMOTE\n",
    "\n",
    "from sklearn.preprocessing import StandardScaler\n",
    "from sklearn.model_selection import train_test_split\n",
    "\n",
    "\n",
    "from sklearn.metrics import accuracy_score, classification_report, precision_score, recall_score\n",
    "from sklearn.metrics import confusion_matrix, roc_curve, auc, roc_auc_score\n",
    "\n",
    "from sklearn.linear_model import LogisticRegression\n",
    "from sklearn.model_selection import GridSearchCV \n",
    "\n",
    "\n",
    "import warnings\n",
    "warnings.filterwarnings('ignore')"
   ]
  },
  {
   "cell_type": "code",
   "execution_count": 2,
   "id": "293235db-5d4e-4539-a70e-ac664b53a0fd",
   "metadata": {},
   "outputs": [],
   "source": [
    "pd.set_option('display.max_columns', None)"
   ]
  },
  {
   "cell_type": "code",
   "execution_count": 79,
   "id": "ccebdf69-f6aa-44ff-aacb-15bf497ac7a2",
   "metadata": {},
   "outputs": [],
   "source": [
    "# Leemos la tabla final tras los tratamientos y el balanceo :\n",
    "merged_df_id = pd.read_csv('df_balanceado_id.csv')\n",
    "columnsToDrop = [\"Unnamed: 0.1\",\"index\"]\n",
    "merged_df_id = merged_df_id.drop(columns=columnsToDrop)"
   ]
  },
  {
   "cell_type": "code",
   "execution_count": 82,
   "id": "28a73265-7146-4986-9214-1582b38fc132",
   "metadata": {
    "tags": []
   },
   "outputs": [],
   "source": [
    "merged_df_id = merged_df_id.drop(columns=[\"Unnamed: 0\"])"
   ]
  },
  {
   "cell_type": "code",
   "execution_count": 84,
   "id": "02df736e-fa64-4046-b1dd-c257c44e8317",
   "metadata": {},
   "outputs": [],
   "source": [
    "merged_df_id = merged_df_id.drop(columns=[\"con_id\"])"
   ]
  },
  {
   "cell_type": "code",
   "execution_count": 137,
   "id": "8d75d218-851d-495b-8026-3a348ccd8826",
   "metadata": {},
   "outputs": [
    {
     "data": {
      "text/html": [
       "<div>\n",
       "<style scoped>\n",
       "    .dataframe tbody tr th:only-of-type {\n",
       "        vertical-align: middle;\n",
       "    }\n",
       "\n",
       "    .dataframe tbody tr th {\n",
       "        vertical-align: top;\n",
       "    }\n",
       "\n",
       "    .dataframe thead th {\n",
       "        text-align: right;\n",
       "    }\n",
       "</style>\n",
       "<table border=\"1\" class=\"dataframe\">\n",
       "  <thead>\n",
       "    <tr style=\"text-align: right;\">\n",
       "      <th></th>\n",
       "      <th>msf_annualizedquota__c</th>\n",
       "      <th>msf_LTVCont__c</th>\n",
       "      <th>msf_ScoringRFVRecurringDonor__c</th>\n",
       "      <th>msf_AverageDonorValue__c</th>\n",
       "      <th>msf_changeannualizedquota__c</th>\n",
       "      <th>msf_newannualizedquota__c</th>\n",
       "      <th>year_activo</th>\n",
       "      <th>age</th>\n",
       "      <th>msf_seniority__c</th>\n",
       "      <th>npe03__installment_period__c_Monthly</th>\n",
       "      <th>npe03__installment_period__c_Quarterly</th>\n",
       "      <th>npe03__installment_period__c_Semestral</th>\n",
       "      <th>npe03__installment_period__c_Yearly</th>\n",
       "      <th>Gender__c_Male</th>\n",
       "      <th>Gender__c_Other</th>\n",
       "      <th>msf_PressureComplaint__c_True</th>\n",
       "      <th>Gender__c_Male.1</th>\n",
       "      <th>Gender__c_Other.1</th>\n",
       "      <th>msf_leadsource3__c_Entidad financiera</th>\n",
       "      <th>msf_leadsource3__c_Online</th>\n",
       "      <th>msf_leadsource3__c_Otro</th>\n",
       "      <th>msf_leadsource3__c_Personal</th>\n",
       "      <th>msf_leadsource3__c_Teléfono</th>\n",
       "      <th>msf_newrecurringperiod__c_Monthly</th>\n",
       "      <th>msf_newrecurringperiod__c_Quarterly</th>\n",
       "      <th>msf_newrecurringperiod__c_Semestral</th>\n",
       "      <th>msf_newrecurringperiod__c_Yearly</th>\n",
       "      <th>Provincia2_Madrid</th>\n",
       "      <th>Provincia2_Pais Vasco</th>\n",
       "      <th>Provincia2_Resto</th>\n",
       "      <th>Provincia2_Sevilla</th>\n",
       "      <th>agrup_currentleadsource_Personal con tablet</th>\n",
       "      <th>agrup_currentleadsource_Resto</th>\n",
       "      <th>agrup_currentleadsource_Telemarketing</th>\n",
       "      <th>agrup_currentleadsource_Teléfono campaña</th>\n",
       "      <th>agrup_currentleadsource_Web MSF</th>\n",
       "      <th>agrup_leadsource_Personal con tablet</th>\n",
       "      <th>agrup_leadsource_Resto</th>\n",
       "      <th>agrup_leadsource_Telemarketing</th>\n",
       "      <th>agrup_leadsource_Teléfono campaña</th>\n",
       "      <th>agrup_leadsource_Web MSF</th>\n",
       "      <th>flag_aumento</th>\n",
       "    </tr>\n",
       "  </thead>\n",
       "  <tbody>\n",
       "    <tr>\n",
       "      <th>0</th>\n",
       "      <td>180.0</td>\n",
       "      <td>830.0</td>\n",
       "      <td>0.6</td>\n",
       "      <td>30.44</td>\n",
       "      <td>180.0</td>\n",
       "      <td>180.0</td>\n",
       "      <td>2015</td>\n",
       "      <td>55.0</td>\n",
       "      <td>9.0</td>\n",
       "      <td>1</td>\n",
       "      <td>0</td>\n",
       "      <td>0</td>\n",
       "      <td>0</td>\n",
       "      <td>0</td>\n",
       "      <td>0</td>\n",
       "      <td>0</td>\n",
       "      <td>0</td>\n",
       "      <td>0</td>\n",
       "      <td>0</td>\n",
       "      <td>1</td>\n",
       "      <td>0</td>\n",
       "      <td>0</td>\n",
       "      <td>0</td>\n",
       "      <td>1</td>\n",
       "      <td>0</td>\n",
       "      <td>0</td>\n",
       "      <td>0</td>\n",
       "      <td>0</td>\n",
       "      <td>0</td>\n",
       "      <td>1</td>\n",
       "      <td>0</td>\n",
       "      <td>0</td>\n",
       "      <td>1</td>\n",
       "      <td>0</td>\n",
       "      <td>0</td>\n",
       "      <td>0</td>\n",
       "      <td>0</td>\n",
       "      <td>1</td>\n",
       "      <td>0</td>\n",
       "      <td>0</td>\n",
       "      <td>0</td>\n",
       "      <td>0</td>\n",
       "    </tr>\n",
       "    <tr>\n",
       "      <th>1</th>\n",
       "      <td>60.0</td>\n",
       "      <td>300.0</td>\n",
       "      <td>1.8</td>\n",
       "      <td>30.44</td>\n",
       "      <td>60.0</td>\n",
       "      <td>60.0</td>\n",
       "      <td>2015</td>\n",
       "      <td>66.0</td>\n",
       "      <td>8.0</td>\n",
       "      <td>0</td>\n",
       "      <td>0</td>\n",
       "      <td>0</td>\n",
       "      <td>1</td>\n",
       "      <td>1</td>\n",
       "      <td>0</td>\n",
       "      <td>0</td>\n",
       "      <td>1</td>\n",
       "      <td>0</td>\n",
       "      <td>0</td>\n",
       "      <td>0</td>\n",
       "      <td>0</td>\n",
       "      <td>1</td>\n",
       "      <td>0</td>\n",
       "      <td>0</td>\n",
       "      <td>0</td>\n",
       "      <td>0</td>\n",
       "      <td>1</td>\n",
       "      <td>0</td>\n",
       "      <td>0</td>\n",
       "      <td>1</td>\n",
       "      <td>0</td>\n",
       "      <td>0</td>\n",
       "      <td>0</td>\n",
       "      <td>0</td>\n",
       "      <td>0</td>\n",
       "      <td>0</td>\n",
       "      <td>0</td>\n",
       "      <td>0</td>\n",
       "      <td>0</td>\n",
       "      <td>0</td>\n",
       "      <td>0</td>\n",
       "      <td>0</td>\n",
       "    </tr>\n",
       "    <tr>\n",
       "      <th>2</th>\n",
       "      <td>300.0</td>\n",
       "      <td>1125.0</td>\n",
       "      <td>1.5</td>\n",
       "      <td>30.44</td>\n",
       "      <td>300.0</td>\n",
       "      <td>300.0</td>\n",
       "      <td>2015</td>\n",
       "      <td>35.0</td>\n",
       "      <td>8.0</td>\n",
       "      <td>1</td>\n",
       "      <td>0</td>\n",
       "      <td>0</td>\n",
       "      <td>0</td>\n",
       "      <td>1</td>\n",
       "      <td>0</td>\n",
       "      <td>0</td>\n",
       "      <td>1</td>\n",
       "      <td>0</td>\n",
       "      <td>0</td>\n",
       "      <td>0</td>\n",
       "      <td>0</td>\n",
       "      <td>1</td>\n",
       "      <td>0</td>\n",
       "      <td>1</td>\n",
       "      <td>0</td>\n",
       "      <td>0</td>\n",
       "      <td>0</td>\n",
       "      <td>0</td>\n",
       "      <td>0</td>\n",
       "      <td>1</td>\n",
       "      <td>0</td>\n",
       "      <td>0</td>\n",
       "      <td>0</td>\n",
       "      <td>0</td>\n",
       "      <td>0</td>\n",
       "      <td>0</td>\n",
       "      <td>0</td>\n",
       "      <td>0</td>\n",
       "      <td>0</td>\n",
       "      <td>0</td>\n",
       "      <td>0</td>\n",
       "      <td>0</td>\n",
       "    </tr>\n",
       "    <tr>\n",
       "      <th>3</th>\n",
       "      <td>360.0</td>\n",
       "      <td>1200.0</td>\n",
       "      <td>1.5</td>\n",
       "      <td>30.44</td>\n",
       "      <td>360.0</td>\n",
       "      <td>360.0</td>\n",
       "      <td>2015</td>\n",
       "      <td>64.0</td>\n",
       "      <td>8.0</td>\n",
       "      <td>1</td>\n",
       "      <td>0</td>\n",
       "      <td>0</td>\n",
       "      <td>0</td>\n",
       "      <td>0</td>\n",
       "      <td>0</td>\n",
       "      <td>0</td>\n",
       "      <td>0</td>\n",
       "      <td>0</td>\n",
       "      <td>0</td>\n",
       "      <td>0</td>\n",
       "      <td>0</td>\n",
       "      <td>1</td>\n",
       "      <td>0</td>\n",
       "      <td>1</td>\n",
       "      <td>0</td>\n",
       "      <td>0</td>\n",
       "      <td>0</td>\n",
       "      <td>0</td>\n",
       "      <td>0</td>\n",
       "      <td>1</td>\n",
       "      <td>0</td>\n",
       "      <td>0</td>\n",
       "      <td>0</td>\n",
       "      <td>0</td>\n",
       "      <td>0</td>\n",
       "      <td>0</td>\n",
       "      <td>0</td>\n",
       "      <td>0</td>\n",
       "      <td>0</td>\n",
       "      <td>0</td>\n",
       "      <td>0</td>\n",
       "      <td>0</td>\n",
       "    </tr>\n",
       "    <tr>\n",
       "      <th>4</th>\n",
       "      <td>120.0</td>\n",
       "      <td>380.0</td>\n",
       "      <td>1.5</td>\n",
       "      <td>30.44</td>\n",
       "      <td>120.0</td>\n",
       "      <td>120.0</td>\n",
       "      <td>2015</td>\n",
       "      <td>32.0</td>\n",
       "      <td>8.0</td>\n",
       "      <td>1</td>\n",
       "      <td>0</td>\n",
       "      <td>0</td>\n",
       "      <td>0</td>\n",
       "      <td>1</td>\n",
       "      <td>0</td>\n",
       "      <td>0</td>\n",
       "      <td>1</td>\n",
       "      <td>0</td>\n",
       "      <td>0</td>\n",
       "      <td>0</td>\n",
       "      <td>0</td>\n",
       "      <td>1</td>\n",
       "      <td>0</td>\n",
       "      <td>1</td>\n",
       "      <td>0</td>\n",
       "      <td>0</td>\n",
       "      <td>0</td>\n",
       "      <td>0</td>\n",
       "      <td>0</td>\n",
       "      <td>1</td>\n",
       "      <td>0</td>\n",
       "      <td>0</td>\n",
       "      <td>0</td>\n",
       "      <td>0</td>\n",
       "      <td>0</td>\n",
       "      <td>0</td>\n",
       "      <td>0</td>\n",
       "      <td>0</td>\n",
       "      <td>0</td>\n",
       "      <td>0</td>\n",
       "      <td>0</td>\n",
       "      <td>0</td>\n",
       "    </tr>\n",
       "  </tbody>\n",
       "</table>\n",
       "</div>"
      ],
      "text/plain": [
       "   msf_annualizedquota__c  msf_LTVCont__c  msf_ScoringRFVRecurringDonor__c  \\\n",
       "0                   180.0           830.0                              0.6   \n",
       "1                    60.0           300.0                              1.8   \n",
       "2                   300.0          1125.0                              1.5   \n",
       "3                   360.0          1200.0                              1.5   \n",
       "4                   120.0           380.0                              1.5   \n",
       "\n",
       "   msf_AverageDonorValue__c  msf_changeannualizedquota__c  \\\n",
       "0                     30.44                         180.0   \n",
       "1                     30.44                          60.0   \n",
       "2                     30.44                         300.0   \n",
       "3                     30.44                         360.0   \n",
       "4                     30.44                         120.0   \n",
       "\n",
       "   msf_newannualizedquota__c  year_activo   age  msf_seniority__c  \\\n",
       "0                      180.0         2015  55.0               9.0   \n",
       "1                       60.0         2015  66.0               8.0   \n",
       "2                      300.0         2015  35.0               8.0   \n",
       "3                      360.0         2015  64.0               8.0   \n",
       "4                      120.0         2015  32.0               8.0   \n",
       "\n",
       "   npe03__installment_period__c_Monthly  \\\n",
       "0                                     1   \n",
       "1                                     0   \n",
       "2                                     1   \n",
       "3                                     1   \n",
       "4                                     1   \n",
       "\n",
       "   npe03__installment_period__c_Quarterly  \\\n",
       "0                                       0   \n",
       "1                                       0   \n",
       "2                                       0   \n",
       "3                                       0   \n",
       "4                                       0   \n",
       "\n",
       "   npe03__installment_period__c_Semestral  \\\n",
       "0                                       0   \n",
       "1                                       0   \n",
       "2                                       0   \n",
       "3                                       0   \n",
       "4                                       0   \n",
       "\n",
       "   npe03__installment_period__c_Yearly  Gender__c_Male  Gender__c_Other  \\\n",
       "0                                    0               0                0   \n",
       "1                                    1               1                0   \n",
       "2                                    0               1                0   \n",
       "3                                    0               0                0   \n",
       "4                                    0               1                0   \n",
       "\n",
       "   msf_PressureComplaint__c_True  Gender__c_Male.1  Gender__c_Other.1  \\\n",
       "0                              0                 0                  0   \n",
       "1                              0                 1                  0   \n",
       "2                              0                 1                  0   \n",
       "3                              0                 0                  0   \n",
       "4                              0                 1                  0   \n",
       "\n",
       "   msf_leadsource3__c_Entidad financiera  msf_leadsource3__c_Online  \\\n",
       "0                                      0                          1   \n",
       "1                                      0                          0   \n",
       "2                                      0                          0   \n",
       "3                                      0                          0   \n",
       "4                                      0                          0   \n",
       "\n",
       "   msf_leadsource3__c_Otro  msf_leadsource3__c_Personal  \\\n",
       "0                        0                            0   \n",
       "1                        0                            1   \n",
       "2                        0                            1   \n",
       "3                        0                            1   \n",
       "4                        0                            1   \n",
       "\n",
       "   msf_leadsource3__c_Teléfono  msf_newrecurringperiod__c_Monthly  \\\n",
       "0                            0                                  1   \n",
       "1                            0                                  0   \n",
       "2                            0                                  1   \n",
       "3                            0                                  1   \n",
       "4                            0                                  1   \n",
       "\n",
       "   msf_newrecurringperiod__c_Quarterly  msf_newrecurringperiod__c_Semestral  \\\n",
       "0                                    0                                    0   \n",
       "1                                    0                                    0   \n",
       "2                                    0                                    0   \n",
       "3                                    0                                    0   \n",
       "4                                    0                                    0   \n",
       "\n",
       "   msf_newrecurringperiod__c_Yearly  Provincia2_Madrid  Provincia2_Pais Vasco  \\\n",
       "0                                 0                  0                      0   \n",
       "1                                 1                  0                      0   \n",
       "2                                 0                  0                      0   \n",
       "3                                 0                  0                      0   \n",
       "4                                 0                  0                      0   \n",
       "\n",
       "   Provincia2_Resto  Provincia2_Sevilla  \\\n",
       "0                 1                   0   \n",
       "1                 1                   0   \n",
       "2                 1                   0   \n",
       "3                 1                   0   \n",
       "4                 1                   0   \n",
       "\n",
       "   agrup_currentleadsource_Personal con tablet  agrup_currentleadsource_Resto  \\\n",
       "0                                            0                              1   \n",
       "1                                            0                              0   \n",
       "2                                            0                              0   \n",
       "3                                            0                              0   \n",
       "4                                            0                              0   \n",
       "\n",
       "   agrup_currentleadsource_Telemarketing  \\\n",
       "0                                      0   \n",
       "1                                      0   \n",
       "2                                      0   \n",
       "3                                      0   \n",
       "4                                      0   \n",
       "\n",
       "   agrup_currentleadsource_Teléfono campaña  agrup_currentleadsource_Web MSF  \\\n",
       "0                                         0                                0   \n",
       "1                                         0                                0   \n",
       "2                                         0                                0   \n",
       "3                                         0                                0   \n",
       "4                                         0                                0   \n",
       "\n",
       "   agrup_leadsource_Personal con tablet  agrup_leadsource_Resto  \\\n",
       "0                                     0                       1   \n",
       "1                                     0                       0   \n",
       "2                                     0                       0   \n",
       "3                                     0                       0   \n",
       "4                                     0                       0   \n",
       "\n",
       "   agrup_leadsource_Telemarketing  agrup_leadsource_Teléfono campaña  \\\n",
       "0                               0                                  0   \n",
       "1                               0                                  0   \n",
       "2                               0                                  0   \n",
       "3                               0                                  0   \n",
       "4                               0                                  0   \n",
       "\n",
       "   agrup_leadsource_Web MSF  flag_aumento  \n",
       "0                         0             0  \n",
       "1                         0             0  \n",
       "2                         0             0  \n",
       "3                         0             0  \n",
       "4                         0             0  "
      ]
     },
     "execution_count": 137,
     "metadata": {},
     "output_type": "execute_result"
    }
   ],
   "source": [
    "merged_df_id.head()"
   ]
  },
  {
   "cell_type": "code",
   "execution_count": 138,
   "id": "6d326846-728e-4854-864c-bcf8f408c9b2",
   "metadata": {},
   "outputs": [
    {
     "data": {
      "text/plain": [
       "0    534658\n",
       "1    320794\n",
       "Name: flag_aumento, dtype: int64"
      ]
     },
     "execution_count": 138,
     "metadata": {},
     "output_type": "execute_result"
    }
   ],
   "source": [
    "merged_df_id.flag_aumento.value_counts()"
   ]
  },
  {
   "cell_type": "code",
   "execution_count": 96,
   "id": "313ef98e-b9d8-47d0-84e0-ea164df4534e",
   "metadata": {},
   "outputs": [
    {
     "data": {
      "text/plain": [
       "(855452, 42)"
      ]
     },
     "execution_count": 96,
     "metadata": {},
     "output_type": "execute_result"
    }
   ],
   "source": [
    "merged_df_id.shape"
   ]
  },
  {
   "cell_type": "code",
   "execution_count": 97,
   "id": "962800ab-58a4-41f3-9abb-762e799e3105",
   "metadata": {},
   "outputs": [
    {
     "data": {
      "text/html": [
       "<div>\n",
       "<style scoped>\n",
       "    .dataframe tbody tr th:only-of-type {\n",
       "        vertical-align: middle;\n",
       "    }\n",
       "\n",
       "    .dataframe tbody tr th {\n",
       "        vertical-align: top;\n",
       "    }\n",
       "\n",
       "    .dataframe thead th {\n",
       "        text-align: right;\n",
       "    }\n",
       "</style>\n",
       "<table border=\"1\" class=\"dataframe\">\n",
       "  <thead>\n",
       "    <tr style=\"text-align: right;\">\n",
       "      <th></th>\n",
       "      <th>year_activo</th>\n",
       "    </tr>\n",
       "  </thead>\n",
       "  <tbody>\n",
       "    <tr>\n",
       "      <th>0</th>\n",
       "      <td>2015</td>\n",
       "    </tr>\n",
       "    <tr>\n",
       "      <th>127353</th>\n",
       "      <td>2016</td>\n",
       "    </tr>\n",
       "    <tr>\n",
       "      <th>245095</th>\n",
       "      <td>2017</td>\n",
       "    </tr>\n",
       "    <tr>\n",
       "      <th>353116</th>\n",
       "      <td>2018</td>\n",
       "    </tr>\n",
       "    <tr>\n",
       "      <th>430393</th>\n",
       "      <td>2019</td>\n",
       "    </tr>\n",
       "    <tr>\n",
       "      <th>495795</th>\n",
       "      <td>2020</td>\n",
       "    </tr>\n",
       "    <tr>\n",
       "      <th>548855</th>\n",
       "      <td>2021</td>\n",
       "    </tr>\n",
       "  </tbody>\n",
       "</table>\n",
       "</div>"
      ],
      "text/plain": [
       "        year_activo\n",
       "0              2015\n",
       "127353         2016\n",
       "245095         2017\n",
       "353116         2018\n",
       "430393         2019\n",
       "495795         2020\n",
       "548855         2021"
      ]
     },
     "execution_count": 97,
     "metadata": {},
     "output_type": "execute_result"
    }
   ],
   "source": [
    "merged_df_id[['year_activo']].drop_duplicates()"
   ]
  },
  {
   "cell_type": "markdown",
   "id": "2cc490db-55ed-41de-8e68-121f3955b402",
   "metadata": {
    "id": "oPYEHyuUudFU"
   },
   "source": [
    "## Realizamos el modelo utilizando los datos balanceados:"
   ]
  },
  {
   "cell_type": "code",
   "execution_count": 98,
   "id": "31a2a406-4784-4f26-977e-33e465259ba8",
   "metadata": {},
   "outputs": [],
   "source": [
    "#Eliminamos de X la variable objetivo:\n",
    "X = merged_df_id.drop(\"flag_aumento\", axis = 1)\n",
    "y = merged_df_id['flag_aumento']"
   ]
  },
  {
   "cell_type": "code",
   "execution_count": 99,
   "id": "1d2fd4e8-0d79-4372-8474-d9463ef355cd",
   "metadata": {},
   "outputs": [
    {
     "name": "stdout",
     "output_type": "stream",
     "text": [
      "(684361, 41)\n",
      "(171091, 41)\n",
      "(684361,)\n",
      "(171091,)\n"
     ]
    }
   ],
   "source": [
    "# Separamos el dataset en conjunto de entrenamiento y trest:\n",
    "X_train, X_test, Y_train, Y_test = train_test_split(X, y, test_size = 0.20, random_state=0)\n",
    "print(X_train.shape)\n",
    "print(X_test.shape)\n",
    "print(Y_train.shape)\n",
    "print(Y_test.shape)"
   ]
  },
  {
   "cell_type": "code",
   "execution_count": 100,
   "id": "5d7a399e-c346-4116-8cd7-5b4b9e146cb5",
   "metadata": {
    "id": "y9uaDSuBudFV"
   },
   "outputs": [],
   "source": [
    "sc_X = StandardScaler()\n",
    "X_train = sc_X.fit_transform(X_train)\n",
    "X_test = sc_X.transform(X_test)"
   ]
  },
  {
   "cell_type": "markdown",
   "id": "8322653c-5443-4aa5-8525-c7bc6b72b0d8",
   "metadata": {
    "id": "Zkn73Mg4e8zd"
   },
   "source": [
    "#### REGRESIÓN LOGÍSTICA"
   ]
  },
  {
   "cell_type": "code",
   "execution_count": 101,
   "id": "f1e9e28d-601c-4a02-aec0-ad65bba7e9b0",
   "metadata": {},
   "outputs": [],
   "source": [
    "import mlflow\n",
    "mlflow.set_tracking_uri('http://localhost:5000')"
   ]
  },
  {
   "cell_type": "code",
   "execution_count": 15,
   "id": "1a7407b5-f254-4915-adfe-49724b150d67",
   "metadata": {},
   "outputs": [],
   "source": [
    "#experiment = mlflow.create_experiment(\"msf-quote-logistic\")"
   ]
  },
  {
   "cell_type": "code",
   "execution_count": 102,
   "id": "d8622bc0-917a-42f5-860e-abea6b7dd8d4",
   "metadata": {},
   "outputs": [
    {
     "data": {
      "text/plain": [
       "<Experiment: artifact_location='mlflow-artifacts:/373688635970897928', creation_time=1697888365834, experiment_id='373688635970897928', last_update_time=1697888365834, lifecycle_stage='active', name='msf-quote-logistic', tags={}>"
      ]
     },
     "execution_count": 102,
     "metadata": {},
     "output_type": "execute_result"
    }
   ],
   "source": [
    "experiment = mlflow.get_experiment_by_name(\"msf-quote-logistic\")\n",
    "experiment"
   ]
  },
  {
   "cell_type": "code",
   "execution_count": 103,
   "id": "2538cbf7-d16b-4b7e-85bf-e18333b4c403",
   "metadata": {},
   "outputs": [],
   "source": [
    "def get_metrics(y_true, y_pred):\n",
    "    acc = accuracy_score(y_true, y_pred)\n",
    "    prec = precision_score(y_true, y_pred)\n",
    "    recall = recall_score(y_true, y_pred)\n",
    "    return {'accuracy': round(acc, 2), 'precision': round(prec, 2), 'recall': round(recall, 2)}"
   ]
  },
  {
   "cell_type": "code",
   "execution_count": 104,
   "id": "64982fab-db06-46b3-8caf-2c6761ae4e85",
   "metadata": {
    "tags": []
   },
   "outputs": [],
   "source": [
    "with mlflow.start_run(experiment_id=experiment.experiment_id, run_name=\"msf-quote-logistic-regression\") as run:\n",
    "    # Probamos primero con un modelo de Regresión Logística\n",
    "    classifier = LogisticRegression(random_state = 0)\n",
    "    # Entrenamiento del modelo\n",
    "    classifier.fit(X_train, Y_train)\n",
    "    # Hacemos las predicciones sobre el conjunto de test\n",
    "    y_pred  = classifier.predict(X_test)    \n",
    "    #Recuperamos métricas\n",
    "    metrics = get_metrics(Y_test, y_pred)\n",
    "    # Registramos métricas\n",
    "    mlflow.log_metric('test_accuracy', metrics['accuracy'])\n",
    "    mlflow.log_metric('test_precision', metrics['precision'])\n",
    "    mlflow.log_metric('test_recall', metrics['recall'])\n",
    "    \n",
    "        # Registramos el modelo\n",
    "    mlflow.sklearn.log_model(classifier, 'msf-quote-logistic-regression')"
   ]
  },
  {
   "cell_type": "markdown",
   "id": "8d781dfb-614f-401e-b13e-2c09a08ba199",
   "metadata": {},
   "source": [
    "##### Registramos y publicamos el modelo en MLFlow"
   ]
  },
  {
   "cell_type": "code",
   "execution_count": 105,
   "id": "44aea216-3454-4732-a888-93ea1d0308d8",
   "metadata": {},
   "outputs": [
    {
     "data": {
      "text/html": [
       "<div>\n",
       "<style scoped>\n",
       "    .dataframe tbody tr th:only-of-type {\n",
       "        vertical-align: middle;\n",
       "    }\n",
       "\n",
       "    .dataframe tbody tr th {\n",
       "        vertical-align: top;\n",
       "    }\n",
       "\n",
       "    .dataframe thead th {\n",
       "        text-align: right;\n",
       "    }\n",
       "</style>\n",
       "<table border=\"1\" class=\"dataframe\">\n",
       "  <thead>\n",
       "    <tr style=\"text-align: right;\">\n",
       "      <th></th>\n",
       "      <th>run_id</th>\n",
       "      <th>experiment_id</th>\n",
       "      <th>status</th>\n",
       "      <th>artifact_uri</th>\n",
       "      <th>start_time</th>\n",
       "      <th>end_time</th>\n",
       "      <th>metrics.test_recall</th>\n",
       "      <th>metrics.test_accuracy</th>\n",
       "      <th>metrics.test_precision</th>\n",
       "      <th>metrics.train_precision</th>\n",
       "      <th>metrics.train_recall</th>\n",
       "      <th>metrics.train_time</th>\n",
       "      <th>metrics.train_accuracy</th>\n",
       "      <th>params.max_depth</th>\n",
       "      <th>params.optimizer</th>\n",
       "      <th>params.epochs</th>\n",
       "      <th>params.nodes</th>\n",
       "      <th>params.final_learning_rate</th>\n",
       "      <th>params.n_layers</th>\n",
       "      <th>params.loss</th>\n",
       "      <th>tags.mlflow.user</th>\n",
       "      <th>tags.mlflow.source.type</th>\n",
       "      <th>tags.mlflow.log-model.history</th>\n",
       "      <th>tags.mlflow.runName</th>\n",
       "      <th>tags.mlflow.source.name</th>\n",
       "    </tr>\n",
       "  </thead>\n",
       "  <tbody>\n",
       "    <tr>\n",
       "      <th>0</th>\n",
       "      <td>2505c9ab21e546cbb14434551e58af41</td>\n",
       "      <td>373688635970897928</td>\n",
       "      <td>FINISHED</td>\n",
       "      <td>mlflow-artifacts:/373688635970897928/2505c9ab2...</td>\n",
       "      <td>2023-10-21 15:33:24.092000+00:00</td>\n",
       "      <td>2023-10-21 15:33:31.509000+00:00</td>\n",
       "      <td>0.84</td>\n",
       "      <td>0.87</td>\n",
       "      <td>0.82</td>\n",
       "      <td>NaN</td>\n",
       "      <td>NaN</td>\n",
       "      <td>NaN</td>\n",
       "      <td>NaN</td>\n",
       "      <td>None</td>\n",
       "      <td>None</td>\n",
       "      <td>None</td>\n",
       "      <td>None</td>\n",
       "      <td>None</td>\n",
       "      <td>None</td>\n",
       "      <td>None</td>\n",
       "      <td>mlala</td>\n",
       "      <td>LOCAL</td>\n",
       "      <td>[{\"run_id\": \"2505c9ab21e546cbb14434551e58af41\"...</td>\n",
       "      <td>msf-quote-logistic-regression</td>\n",
       "      <td>C:\\Users\\mlala\\AppData\\Local\\Programs\\Python\\P...</td>\n",
       "    </tr>\n",
       "    <tr>\n",
       "      <th>2</th>\n",
       "      <td>aeab2e9f4ea24fa39a5c48b8fb304208</td>\n",
       "      <td>373688635970897928</td>\n",
       "      <td>FINISHED</td>\n",
       "      <td>mlflow-artifacts:/373688635970897928/aeab2e9f4...</td>\n",
       "      <td>2023-10-21 11:55:52.476000+00:00</td>\n",
       "      <td>2023-10-21 11:56:01.516000+00:00</td>\n",
       "      <td>0.84</td>\n",
       "      <td>0.87</td>\n",
       "      <td>0.82</td>\n",
       "      <td>NaN</td>\n",
       "      <td>NaN</td>\n",
       "      <td>NaN</td>\n",
       "      <td>NaN</td>\n",
       "      <td>None</td>\n",
       "      <td>None</td>\n",
       "      <td>None</td>\n",
       "      <td>None</td>\n",
       "      <td>None</td>\n",
       "      <td>None</td>\n",
       "      <td>None</td>\n",
       "      <td>mlala</td>\n",
       "      <td>LOCAL</td>\n",
       "      <td>[{\"run_id\": \"aeab2e9f4ea24fa39a5c48b8fb304208\"...</td>\n",
       "      <td>msf-quote-logistic-regression</td>\n",
       "      <td>C:\\Users\\mlala\\AppData\\Local\\Programs\\Python\\P...</td>\n",
       "    </tr>\n",
       "  </tbody>\n",
       "</table>\n",
       "</div>"
      ],
      "text/plain": [
       "                             run_id       experiment_id    status  \\\n",
       "0  2505c9ab21e546cbb14434551e58af41  373688635970897928  FINISHED   \n",
       "2  aeab2e9f4ea24fa39a5c48b8fb304208  373688635970897928  FINISHED   \n",
       "\n",
       "                                        artifact_uri  \\\n",
       "0  mlflow-artifacts:/373688635970897928/2505c9ab2...   \n",
       "2  mlflow-artifacts:/373688635970897928/aeab2e9f4...   \n",
       "\n",
       "                        start_time                         end_time  \\\n",
       "0 2023-10-21 15:33:24.092000+00:00 2023-10-21 15:33:31.509000+00:00   \n",
       "2 2023-10-21 11:55:52.476000+00:00 2023-10-21 11:56:01.516000+00:00   \n",
       "\n",
       "   metrics.test_recall  metrics.test_accuracy  metrics.test_precision  \\\n",
       "0                 0.84                   0.87                    0.82   \n",
       "2                 0.84                   0.87                    0.82   \n",
       "\n",
       "   metrics.train_precision  metrics.train_recall  metrics.train_time  \\\n",
       "0                      NaN                   NaN                 NaN   \n",
       "2                      NaN                   NaN                 NaN   \n",
       "\n",
       "   metrics.train_accuracy params.max_depth params.optimizer params.epochs  \\\n",
       "0                     NaN             None             None          None   \n",
       "2                     NaN             None             None          None   \n",
       "\n",
       "  params.nodes params.final_learning_rate params.n_layers params.loss  \\\n",
       "0         None                       None            None        None   \n",
       "2         None                       None            None        None   \n",
       "\n",
       "  tags.mlflow.user tags.mlflow.source.type  \\\n",
       "0            mlala                   LOCAL   \n",
       "2            mlala                   LOCAL   \n",
       "\n",
       "                       tags.mlflow.log-model.history  \\\n",
       "0  [{\"run_id\": \"2505c9ab21e546cbb14434551e58af41\"...   \n",
       "2  [{\"run_id\": \"aeab2e9f4ea24fa39a5c48b8fb304208\"...   \n",
       "\n",
       "             tags.mlflow.runName  \\\n",
       "0  msf-quote-logistic-regression   \n",
       "2  msf-quote-logistic-regression   \n",
       "\n",
       "                             tags.mlflow.source.name  \n",
       "0  C:\\Users\\mlala\\AppData\\Local\\Programs\\Python\\P...  \n",
       "2  C:\\Users\\mlala\\AppData\\Local\\Programs\\Python\\P...  "
      ]
     },
     "execution_count": 105,
     "metadata": {},
     "output_type": "execute_result"
    }
   ],
   "source": [
    "msf_experiments = mlflow.search_runs(search_all_experiments=True)\n",
    "msf_experiments.loc[msf_experiments['tags.mlflow.runName'] == 'msf-quote-logistic-regression']"
   ]
  },
  {
   "cell_type": "code",
   "execution_count": 106,
   "id": "4ef79014-959d-421c-a6b4-1f674c08c069",
   "metadata": {},
   "outputs": [],
   "source": [
    "model_uri = f\"runs:/2505c9ab21e546cbb14434551e58af41/msf-quote-logistic-regression\""
   ]
  },
  {
   "cell_type": "code",
   "execution_count": 107,
   "id": "b4563568-76a8-4449-9cb6-7d40af47a1dd",
   "metadata": {},
   "outputs": [
    {
     "name": "stderr",
     "output_type": "stream",
     "text": [
      "Registered model 'msf-quote-logistic-regression' already exists. Creating a new version of this model...\n",
      "2023/10/21 17:34:09 INFO mlflow.tracking._model_registry.client: Waiting up to 300 seconds for model version to finish creation. Model name: msf-quote-logistic-regression, version 2\n",
      "Created version '2' of model 'msf-quote-logistic-regression'.\n"
     ]
    }
   ],
   "source": [
    "model_version = mlflow.register_model(\n",
    "    model_uri,\n",
    "    \"msf-quote-logistic-regression\"\n",
    ")"
   ]
  },
  {
   "cell_type": "code",
   "execution_count": 108,
   "id": "0205f08d-e083-4f1e-abc7-4a5b6d3d49d2",
   "metadata": {},
   "outputs": [],
   "source": [
    "client = mlflow.tracking.MlflowClient()\n",
    "model_prod = client.transition_model_version_stage(\n",
    "    name='msf-quote-logistic-regression',\n",
    "    version=2,\n",
    "    stage=\"Production\",\n",
    ")"
   ]
  },
  {
   "cell_type": "code",
   "execution_count": 109,
   "id": "ec1980d9-4dec-4528-a284-2230cadaa208",
   "metadata": {},
   "outputs": [],
   "source": [
    "# Predecimos el conjunto test \n",
    "y_pred  = classifier.predict(X_test)"
   ]
  },
  {
   "cell_type": "code",
   "execution_count": 110,
   "id": "42c26958-8108-40f1-a705-79feaff93509",
   "metadata": {},
   "outputs": [
    {
     "data": {
      "text/plain": [
       "array([1, 0, 1, ..., 1, 1, 0], dtype=int64)"
      ]
     },
     "execution_count": 110,
     "metadata": {},
     "output_type": "execute_result"
    }
   ],
   "source": [
    "y_pred"
   ]
  },
  {
   "cell_type": "markdown",
   "id": "14b7f656-409b-41cf-bc0c-1bd744a40dc5",
   "metadata": {},
   "source": [
    "**Métricas de calidad**"
   ]
  },
  {
   "cell_type": "code",
   "execution_count": 111,
   "id": "a145c964-61a2-4f7c-b276-c60108d78bca",
   "metadata": {},
   "outputs": [
    {
     "name": "stdout",
     "output_type": "stream",
     "text": [
      "              precision    recall  f1-score   support\n",
      "\n",
      "           0       0.90      0.89      0.90    107137\n",
      "           1       0.82      0.84      0.83     63954\n",
      "\n",
      "    accuracy                           0.87    171091\n",
      "   macro avg       0.86      0.87      0.86    171091\n",
      "weighted avg       0.87      0.87      0.87    171091\n",
      "\n"
     ]
    }
   ],
   "source": [
    "print(classification_report(Y_test, y_pred))"
   ]
  },
  {
   "cell_type": "code",
   "execution_count": 112,
   "id": "2116d694-8ef5-4d0c-b572-c3a04980dcd7",
   "metadata": {},
   "outputs": [
    {
     "name": "stdout",
     "output_type": "stream",
     "text": [
      "                            Predicción aumenta cuota  \\\n",
      "Verdadero aumenta cuota                        95766   \n",
      "Verdadero No aumenta cuota                     10380   \n",
      "\n",
      "                            Predicción No aumenta cuota  \n",
      "Verdadero aumenta cuota                           11371  \n",
      "Verdadero No aumenta cuota                        53574  \n"
     ]
    }
   ],
   "source": [
    "conf=pd.DataFrame(\n",
    "    confusion_matrix(Y_test, y_pred),\n",
    "    columns=['Predicción aumenta cuota', 'Predicción No aumenta cuota'],\n",
    "    index  =['Verdadero aumenta cuota', 'Verdadero No aumenta cuota']\n",
    ")\n",
    "print(conf)"
   ]
  },
  {
   "cell_type": "code",
   "execution_count": 113,
   "id": "fd594ff0-4c3a-403d-baac-0995965cb9b2",
   "metadata": {},
   "outputs": [
    {
     "data": {
      "text/plain": [
       "0.8728688241929733"
      ]
     },
     "execution_count": 113,
     "metadata": {},
     "output_type": "execute_result"
    }
   ],
   "source": [
    "# Calculamos el accuracy\n",
    "accuracy_score(Y_test, y_pred)"
   ]
  },
  {
   "cell_type": "code",
   "execution_count": 114,
   "id": "e0411a7d-4d11-4e39-b395-3d89e8872310",
   "metadata": {},
   "outputs": [
    {
     "data": {
      "text/plain": [
       "0.8657803542501966"
      ]
     },
     "execution_count": 114,
     "metadata": {},
     "output_type": "execute_result"
    }
   ],
   "source": [
    "# Área bajo la curva\n",
    "roc_auc_score(Y_test, y_pred)"
   ]
  },
  {
   "cell_type": "code",
   "execution_count": 115,
   "id": "0ecfed4d-a6fa-4372-a68d-4577d74ebd6d",
   "metadata": {},
   "outputs": [],
   "source": [
    "# Calculamos la gráfica\n",
    "fpr, tpr, threshold = roc_curve(Y_test, y_pred)"
   ]
  },
  {
   "cell_type": "code",
   "execution_count": 116,
   "id": "05466a4c-0eec-4430-a534-045fe1bae53d",
   "metadata": {},
   "outputs": [],
   "source": [
    "roc_auc = roc_auc_score(Y_test, y_pred)"
   ]
  },
  {
   "cell_type": "code",
   "execution_count": 117,
   "id": "68781f57-b892-4d46-bc25-4320e3ce4db0",
   "metadata": {},
   "outputs": [
    {
     "data": {
      "image/png": "[encoded data removed]",
      "text/plain": [
       "<Figure size 640x480 with 1 Axes>"
      ]
     },
     "metadata": {},
     "output_type": "display_data"
    }
   ],
   "source": [
    "import matplotlib.pyplot as plt\n",
    "plt.title(\"Area bajo la curva\")\n",
    "plt.plot(fpr, tpr, label = \"AUC = %0.2f\"% roc_auc)\n",
    "plt.legend(loc = \"lower right\")\n",
    "plt.plot([0, 1], \"r--\")\n",
    "plt.xlim([0, 1])\n",
    "plt.ylim([0, 1])\n",
    "plt.ylabel(\"Ratio verdaderos positivos\")\n",
    "plt.xlabel(\"Ratio falsos positivos\")\n",
    "plt.show()"
   ]
  },
  {
   "cell_type": "markdown",
   "id": "ddfcabb1-cd8f-413f-99b1-4ed0a0ddbbae",
   "metadata": {},
   "source": [
    "##### ---------------------------------------------------------------------------------------------------------"
   ]
  },
  {
   "cell_type": "markdown",
   "id": "cc3bd385-5b19-46f6-a7a6-86e733fe184a",
   "metadata": {},
   "source": [
    "##### Para crear un fichero de features o feature store nos quedamos con el registro más reciente para cada contacto"
   ]
  },
  {
   "cell_type": "code",
   "execution_count": 119,
   "id": "bb0bdca1-c658-49e4-924c-b16bbc2b22cc",
   "metadata": {},
   "outputs": [],
   "source": [
    "features = pd.read_csv('df_balanceado_id.csv')\n",
    "\n",
    "# Sort the dataframe by 'whoid' and 'activityDate' in descending order\n",
    "features = features.sort_values(by=['con_id', 'year_activo'], ascending=[True, False])\n",
    "\n",
    "# Drop duplicate 'whoid' entries, keeping only the first occurrence (which is the most recent due to sorting)\n",
    "features = features.drop_duplicates(subset='con_id', keep='first')"
   ]
  },
  {
   "cell_type": "code",
   "execution_count": 121,
   "id": "b80505c7-cefc-44db-9305-2a119fdd0ba2",
   "metadata": {
    "tags": []
   },
   "outputs": [],
   "source": [
    "features = features.drop(columns=[\"Unnamed: 0\",\"Unnamed: 0.1\",\"index\"])"
   ]
  },
  {
   "cell_type": "code",
   "execution_count": 124,
   "id": "0f78ea70-541a-4c38-a5d8-8624e5d8dbcc",
   "metadata": {},
   "outputs": [],
   "source": [
    "features = features.drop(columns=[\"flag_aumento\"])"
   ]
  },
  {
   "cell_type": "code",
   "execution_count": 122,
   "id": "af154f76-d7dc-40b6-b5d4-835ca2f260b1",
   "metadata": {},
   "outputs": [],
   "source": [
    "features['year_activo'] = 2022"
   ]
  },
  {
   "cell_type": "code",
   "execution_count": 125,
   "id": "0643313c-14a3-4e5a-8afc-71499eb846f3",
   "metadata": {},
   "outputs": [],
   "source": [
    "features.to_csv('lr_pandas_feature_store.csv', index=False)"
   ]
  },
  {
   "cell_type": "code",
   "execution_count": 208,
   "id": "8e9e51e5-2d60-43a1-869c-b5ce948c416b",
   "metadata": {
    "tags": []
   },
   "outputs": [
    {
     "data": {
      "image/png": "[encoded data removed]",
      "text/plain": [
       "<Figure size 2000x1000 with 1 Axes>"
      ]
     },
     "metadata": {},
     "output_type": "display_data"
    }
   ],
   "source": [
    "import matplotlib.pyplot as plt\n",
    "from sklearn.tree import plot_tree\n",
    "chosen_tree = rf_classifier.estimators_[0]\n",
    "plt.figure(figsize=(20,10))\n",
    "plot_tree(chosen_tree, filled=True, feature_names=X.columns.tolist(), class_names=str(y.unique()), rounded=True)\n",
    "plt.show()"
   ]
  },
  {
   "cell_type": "code",
   "execution_count": 126,
   "id": "f9b4921e-4478-43dc-bd72-fb044d802958",
   "metadata": {},
   "outputs": [],
   "source": [
    "feature_store_id = features.con_id\n",
    "feature_store_no_id = features.drop(columns=[\"con_id\"])"
   ]
  },
  {
   "cell_type": "code",
   "execution_count": 127,
   "id": "1ec6e12d-b3ad-4285-8040-b3a330f51052",
   "metadata": {},
   "outputs": [
    {
     "data": {
      "text/plain": [
       "(357693, 41)"
      ]
     },
     "execution_count": 127,
     "metadata": {},
     "output_type": "execute_result"
    }
   ],
   "source": [
    "feature_store_no_id.shape"
   ]
  },
  {
   "cell_type": "code",
   "execution_count": 128,
   "id": "1c3e8603-f462-4eb7-b08a-8d4e39f2a7b2",
   "metadata": {},
   "outputs": [
    {
     "data": {
      "text/html": [
       "<div>\n",
       "<style scoped>\n",
       "    .dataframe tbody tr th:only-of-type {\n",
       "        vertical-align: middle;\n",
       "    }\n",
       "\n",
       "    .dataframe tbody tr th {\n",
       "        vertical-align: top;\n",
       "    }\n",
       "\n",
       "    .dataframe thead th {\n",
       "        text-align: right;\n",
       "    }\n",
       "</style>\n",
       "<table border=\"1\" class=\"dataframe\">\n",
       "  <thead>\n",
       "    <tr style=\"text-align: right;\">\n",
       "      <th></th>\n",
       "      <th>msf_annualizedquota__c</th>\n",
       "      <th>msf_LTVCont__c</th>\n",
       "      <th>msf_ScoringRFVRecurringDonor__c</th>\n",
       "      <th>msf_AverageDonorValue__c</th>\n",
       "      <th>msf_changeannualizedquota__c</th>\n",
       "      <th>msf_newannualizedquota__c</th>\n",
       "      <th>year_activo</th>\n",
       "      <th>age</th>\n",
       "      <th>msf_seniority__c</th>\n",
       "      <th>npe03__installment_period__c_Monthly</th>\n",
       "      <th>npe03__installment_period__c_Quarterly</th>\n",
       "      <th>npe03__installment_period__c_Semestral</th>\n",
       "      <th>npe03__installment_period__c_Yearly</th>\n",
       "      <th>Gender__c_Male</th>\n",
       "      <th>Gender__c_Other</th>\n",
       "      <th>msf_PressureComplaint__c_True</th>\n",
       "      <th>Gender__c_Male.1</th>\n",
       "      <th>Gender__c_Other.1</th>\n",
       "      <th>msf_leadsource3__c_Entidad financiera</th>\n",
       "      <th>msf_leadsource3__c_Online</th>\n",
       "      <th>msf_leadsource3__c_Otro</th>\n",
       "      <th>msf_leadsource3__c_Personal</th>\n",
       "      <th>msf_leadsource3__c_Teléfono</th>\n",
       "      <th>msf_newrecurringperiod__c_Monthly</th>\n",
       "      <th>msf_newrecurringperiod__c_Quarterly</th>\n",
       "      <th>msf_newrecurringperiod__c_Semestral</th>\n",
       "      <th>msf_newrecurringperiod__c_Yearly</th>\n",
       "      <th>Provincia2_Madrid</th>\n",
       "      <th>Provincia2_Pais Vasco</th>\n",
       "      <th>Provincia2_Resto</th>\n",
       "      <th>Provincia2_Sevilla</th>\n",
       "      <th>agrup_currentleadsource_Personal con tablet</th>\n",
       "      <th>agrup_currentleadsource_Resto</th>\n",
       "      <th>agrup_currentleadsource_Telemarketing</th>\n",
       "      <th>agrup_currentleadsource_Teléfono campaña</th>\n",
       "      <th>agrup_currentleadsource_Web MSF</th>\n",
       "      <th>agrup_leadsource_Personal con tablet</th>\n",
       "      <th>agrup_leadsource_Resto</th>\n",
       "      <th>agrup_leadsource_Telemarketing</th>\n",
       "      <th>agrup_leadsource_Teléfono campaña</th>\n",
       "      <th>agrup_leadsource_Web MSF</th>\n",
       "    </tr>\n",
       "  </thead>\n",
       "  <tbody>\n",
       "    <tr>\n",
       "      <th>101931</th>\n",
       "      <td>60.0</td>\n",
       "      <td>760.50</td>\n",
       "      <td>0.4</td>\n",
       "      <td>30.44</td>\n",
       "      <td>60.0</td>\n",
       "      <td>60.0</td>\n",
       "      <td>2022</td>\n",
       "      <td>58.0</td>\n",
       "      <td>22.0</td>\n",
       "      <td>0</td>\n",
       "      <td>0</td>\n",
       "      <td>0</td>\n",
       "      <td>1</td>\n",
       "      <td>0</td>\n",
       "      <td>0</td>\n",
       "      <td>0</td>\n",
       "      <td>0</td>\n",
       "      <td>0</td>\n",
       "      <td>0</td>\n",
       "      <td>0</td>\n",
       "      <td>0</td>\n",
       "      <td>0</td>\n",
       "      <td>1</td>\n",
       "      <td>0</td>\n",
       "      <td>0</td>\n",
       "      <td>0</td>\n",
       "      <td>1</td>\n",
       "      <td>0</td>\n",
       "      <td>0</td>\n",
       "      <td>0</td>\n",
       "      <td>0</td>\n",
       "      <td>0</td>\n",
       "      <td>0</td>\n",
       "      <td>1</td>\n",
       "      <td>0</td>\n",
       "      <td>0</td>\n",
       "      <td>0</td>\n",
       "      <td>0</td>\n",
       "      <td>1</td>\n",
       "      <td>0</td>\n",
       "      <td>0</td>\n",
       "    </tr>\n",
       "    <tr>\n",
       "      <th>269461</th>\n",
       "      <td>144.0</td>\n",
       "      <td>2001.51</td>\n",
       "      <td>1.2</td>\n",
       "      <td>30.44</td>\n",
       "      <td>144.0</td>\n",
       "      <td>144.0</td>\n",
       "      <td>2022</td>\n",
       "      <td>76.0</td>\n",
       "      <td>22.0</td>\n",
       "      <td>1</td>\n",
       "      <td>0</td>\n",
       "      <td>0</td>\n",
       "      <td>0</td>\n",
       "      <td>1</td>\n",
       "      <td>0</td>\n",
       "      <td>1</td>\n",
       "      <td>1</td>\n",
       "      <td>0</td>\n",
       "      <td>0</td>\n",
       "      <td>0</td>\n",
       "      <td>0</td>\n",
       "      <td>0</td>\n",
       "      <td>1</td>\n",
       "      <td>1</td>\n",
       "      <td>0</td>\n",
       "      <td>0</td>\n",
       "      <td>0</td>\n",
       "      <td>0</td>\n",
       "      <td>0</td>\n",
       "      <td>0</td>\n",
       "      <td>0</td>\n",
       "      <td>0</td>\n",
       "      <td>0</td>\n",
       "      <td>1</td>\n",
       "      <td>0</td>\n",
       "      <td>0</td>\n",
       "      <td>0</td>\n",
       "      <td>0</td>\n",
       "      <td>1</td>\n",
       "      <td>0</td>\n",
       "      <td>0</td>\n",
       "    </tr>\n",
       "    <tr>\n",
       "      <th>204451</th>\n",
       "      <td>120.0</td>\n",
       "      <td>670.15</td>\n",
       "      <td>0.7</td>\n",
       "      <td>100.00</td>\n",
       "      <td>120.0</td>\n",
       "      <td>120.0</td>\n",
       "      <td>2022</td>\n",
       "      <td>55.0</td>\n",
       "      <td>22.0</td>\n",
       "      <td>0</td>\n",
       "      <td>1</td>\n",
       "      <td>0</td>\n",
       "      <td>0</td>\n",
       "      <td>1</td>\n",
       "      <td>0</td>\n",
       "      <td>0</td>\n",
       "      <td>1</td>\n",
       "      <td>0</td>\n",
       "      <td>0</td>\n",
       "      <td>1</td>\n",
       "      <td>0</td>\n",
       "      <td>0</td>\n",
       "      <td>0</td>\n",
       "      <td>0</td>\n",
       "      <td>1</td>\n",
       "      <td>0</td>\n",
       "      <td>0</td>\n",
       "      <td>0</td>\n",
       "      <td>0</td>\n",
       "      <td>0</td>\n",
       "      <td>1</td>\n",
       "      <td>0</td>\n",
       "      <td>0</td>\n",
       "      <td>0</td>\n",
       "      <td>0</td>\n",
       "      <td>1</td>\n",
       "      <td>0</td>\n",
       "      <td>0</td>\n",
       "      <td>0</td>\n",
       "      <td>0</td>\n",
       "      <td>1</td>\n",
       "    </tr>\n",
       "    <tr>\n",
       "      <th>131741</th>\n",
       "      <td>31.0</td>\n",
       "      <td>1306.35</td>\n",
       "      <td>3.0</td>\n",
       "      <td>300.00</td>\n",
       "      <td>31.0</td>\n",
       "      <td>31.0</td>\n",
       "      <td>2022</td>\n",
       "      <td>54.0</td>\n",
       "      <td>22.0</td>\n",
       "      <td>0</td>\n",
       "      <td>0</td>\n",
       "      <td>0</td>\n",
       "      <td>1</td>\n",
       "      <td>1</td>\n",
       "      <td>0</td>\n",
       "      <td>0</td>\n",
       "      <td>1</td>\n",
       "      <td>0</td>\n",
       "      <td>0</td>\n",
       "      <td>1</td>\n",
       "      <td>0</td>\n",
       "      <td>0</td>\n",
       "      <td>0</td>\n",
       "      <td>0</td>\n",
       "      <td>0</td>\n",
       "      <td>0</td>\n",
       "      <td>1</td>\n",
       "      <td>0</td>\n",
       "      <td>0</td>\n",
       "      <td>0</td>\n",
       "      <td>1</td>\n",
       "      <td>0</td>\n",
       "      <td>1</td>\n",
       "      <td>0</td>\n",
       "      <td>0</td>\n",
       "      <td>0</td>\n",
       "      <td>0</td>\n",
       "      <td>1</td>\n",
       "      <td>0</td>\n",
       "      <td>0</td>\n",
       "      <td>0</td>\n",
       "    </tr>\n",
       "    <tr>\n",
       "      <th>464362</th>\n",
       "      <td>150.0</td>\n",
       "      <td>2580.70</td>\n",
       "      <td>4.2</td>\n",
       "      <td>30.44</td>\n",
       "      <td>150.0</td>\n",
       "      <td>150.0</td>\n",
       "      <td>2022</td>\n",
       "      <td>78.0</td>\n",
       "      <td>22.0</td>\n",
       "      <td>0</td>\n",
       "      <td>0</td>\n",
       "      <td>0</td>\n",
       "      <td>1</td>\n",
       "      <td>0</td>\n",
       "      <td>0</td>\n",
       "      <td>0</td>\n",
       "      <td>0</td>\n",
       "      <td>0</td>\n",
       "      <td>0</td>\n",
       "      <td>0</td>\n",
       "      <td>0</td>\n",
       "      <td>1</td>\n",
       "      <td>0</td>\n",
       "      <td>0</td>\n",
       "      <td>0</td>\n",
       "      <td>0</td>\n",
       "      <td>1</td>\n",
       "      <td>0</td>\n",
       "      <td>0</td>\n",
       "      <td>0</td>\n",
       "      <td>0</td>\n",
       "      <td>0</td>\n",
       "      <td>0</td>\n",
       "      <td>0</td>\n",
       "      <td>0</td>\n",
       "      <td>0</td>\n",
       "      <td>0</td>\n",
       "      <td>0</td>\n",
       "      <td>0</td>\n",
       "      <td>0</td>\n",
       "      <td>0</td>\n",
       "    </tr>\n",
       "  </tbody>\n",
       "</table>\n",
       "</div>"
      ],
      "text/plain": [
       "        msf_annualizedquota__c  msf_LTVCont__c  \\\n",
       "101931                    60.0          760.50   \n",
       "269461                   144.0         2001.51   \n",
       "204451                   120.0          670.15   \n",
       "131741                    31.0         1306.35   \n",
       "464362                   150.0         2580.70   \n",
       "\n",
       "        msf_ScoringRFVRecurringDonor__c  msf_AverageDonorValue__c  \\\n",
       "101931                              0.4                     30.44   \n",
       "269461                              1.2                     30.44   \n",
       "204451                              0.7                    100.00   \n",
       "131741                              3.0                    300.00   \n",
       "464362                              4.2                     30.44   \n",
       "\n",
       "        msf_changeannualizedquota__c  msf_newannualizedquota__c  year_activo  \\\n",
       "101931                          60.0                       60.0         2022   \n",
       "269461                         144.0                      144.0         2022   \n",
       "204451                         120.0                      120.0         2022   \n",
       "131741                          31.0                       31.0         2022   \n",
       "464362                         150.0                      150.0         2022   \n",
       "\n",
       "         age  msf_seniority__c  npe03__installment_period__c_Monthly  \\\n",
       "101931  58.0              22.0                                     0   \n",
       "269461  76.0              22.0                                     1   \n",
       "204451  55.0              22.0                                     0   \n",
       "131741  54.0              22.0                                     0   \n",
       "464362  78.0              22.0                                     0   \n",
       "\n",
       "        npe03__installment_period__c_Quarterly  \\\n",
       "101931                                       0   \n",
       "269461                                       0   \n",
       "204451                                       1   \n",
       "131741                                       0   \n",
       "464362                                       0   \n",
       "\n",
       "        npe03__installment_period__c_Semestral  \\\n",
       "101931                                       0   \n",
       "269461                                       0   \n",
       "204451                                       0   \n",
       "131741                                       0   \n",
       "464362                                       0   \n",
       "\n",
       "        npe03__installment_period__c_Yearly  Gender__c_Male  Gender__c_Other  \\\n",
       "101931                                    1               0                0   \n",
       "269461                                    0               1                0   \n",
       "204451                                    0               1                0   \n",
       "131741                                    1               1                0   \n",
       "464362                                    1               0                0   \n",
       "\n",
       "        msf_PressureComplaint__c_True  Gender__c_Male.1  Gender__c_Other.1  \\\n",
       "101931                              0                 0                  0   \n",
       "269461                              1                 1                  0   \n",
       "204451                              0                 1                  0   \n",
       "131741                              0                 1                  0   \n",
       "464362                              0                 0                  0   \n",
       "\n",
       "        msf_leadsource3__c_Entidad financiera  msf_leadsource3__c_Online  \\\n",
       "101931                                      0                          0   \n",
       "269461                                      0                          0   \n",
       "204451                                      0                          1   \n",
       "131741                                      0                          1   \n",
       "464362                                      0                          0   \n",
       "\n",
       "        msf_leadsource3__c_Otro  msf_leadsource3__c_Personal  \\\n",
       "101931                        0                            0   \n",
       "269461                        0                            0   \n",
       "204451                        0                            0   \n",
       "131741                        0                            0   \n",
       "464362                        0                            1   \n",
       "\n",
       "        msf_leadsource3__c_Teléfono  msf_newrecurringperiod__c_Monthly  \\\n",
       "101931                            1                                  0   \n",
       "269461                            1                                  1   \n",
       "204451                            0                                  0   \n",
       "131741                            0                                  0   \n",
       "464362                            0                                  0   \n",
       "\n",
       "        msf_newrecurringperiod__c_Quarterly  \\\n",
       "101931                                    0   \n",
       "269461                                    0   \n",
       "204451                                    1   \n",
       "131741                                    0   \n",
       "464362                                    0   \n",
       "\n",
       "        msf_newrecurringperiod__c_Semestral  msf_newrecurringperiod__c_Yearly  \\\n",
       "101931                                    0                                 1   \n",
       "269461                                    0                                 0   \n",
       "204451                                    0                                 0   \n",
       "131741                                    0                                 1   \n",
       "464362                                    0                                 1   \n",
       "\n",
       "        Provincia2_Madrid  Provincia2_Pais Vasco  Provincia2_Resto  \\\n",
       "101931                  0                      0                 0   \n",
       "269461                  0                      0                 0   \n",
       "204451                  0                      0                 0   \n",
       "131741                  0                      0                 0   \n",
       "464362                  0                      0                 0   \n",
       "\n",
       "        Provincia2_Sevilla  agrup_currentleadsource_Personal con tablet  \\\n",
       "101931                   0                                            0   \n",
       "269461                   0                                            0   \n",
       "204451                   1                                            0   \n",
       "131741                   1                                            0   \n",
       "464362                   0                                            0   \n",
       "\n",
       "        agrup_currentleadsource_Resto  agrup_currentleadsource_Telemarketing  \\\n",
       "101931                              0                                      1   \n",
       "269461                              0                                      1   \n",
       "204451                              0                                      0   \n",
       "131741                              1                                      0   \n",
       "464362                              0                                      0   \n",
       "\n",
       "        agrup_currentleadsource_Teléfono campaña  \\\n",
       "101931                                         0   \n",
       "269461                                         0   \n",
       "204451                                         0   \n",
       "131741                                         0   \n",
       "464362                                         0   \n",
       "\n",
       "        agrup_currentleadsource_Web MSF  agrup_leadsource_Personal con tablet  \\\n",
       "101931                                0                                     0   \n",
       "269461                                0                                     0   \n",
       "204451                                1                                     0   \n",
       "131741                                0                                     0   \n",
       "464362                                0                                     0   \n",
       "\n",
       "        agrup_leadsource_Resto  agrup_leadsource_Telemarketing  \\\n",
       "101931                       0                               1   \n",
       "269461                       0                               1   \n",
       "204451                       0                               0   \n",
       "131741                       1                               0   \n",
       "464362                       0                               0   \n",
       "\n",
       "        agrup_leadsource_Teléfono campaña  agrup_leadsource_Web MSF  \n",
       "101931                                  0                         0  \n",
       "269461                                  0                         0  \n",
       "204451                                  0                         1  \n",
       "131741                                  0                         0  \n",
       "464362                                  0                         0  "
      ]
     },
     "execution_count": 128,
     "metadata": {},
     "output_type": "execute_result"
    }
   ],
   "source": [
    "feature_store_no_id.head()"
   ]
  },
  {
   "cell_type": "code",
   "execution_count": 188,
   "id": "b25a5ba2-c745-443c-a7f7-91a59fd7824f",
   "metadata": {},
   "outputs": [],
   "source": [
    "feature_store_no_id_sc = sc_X.transform(feature_store_no_id)"
   ]
  },
  {
   "cell_type": "code",
   "execution_count": 189,
   "id": "15f396f4-a977-477f-af01-cb97fabea7aa",
   "metadata": {},
   "outputs": [],
   "source": [
    "predictions = classifier.predict(feature_store_no_id_sc) "
   ]
  },
  {
   "cell_type": "code",
   "execution_count": 190,
   "id": "7c295b17-7538-4a68-88c6-8e01721822d2",
   "metadata": {},
   "outputs": [
    {
     "data": {
      "text/plain": [
       "0    309011\n",
       "1     48682\n",
       "dtype: int64"
      ]
     },
     "execution_count": 190,
     "metadata": {},
     "output_type": "execute_result"
    }
   ],
   "source": [
    "pd.Series(predictions).value_counts()"
   ]
  },
  {
   "cell_type": "code",
   "execution_count": 191,
   "id": "9385b8b7-63d9-4b81-b804-ee7a6d2f9ca5",
   "metadata": {},
   "outputs": [],
   "source": [
    "features['prediction'] = predictions"
   ]
  },
  {
   "cell_type": "code",
   "execution_count": 192,
   "id": "bd70fa90-1860-46a3-856c-f4a363c95e80",
   "metadata": {},
   "outputs": [
    {
     "data": {
      "text/html": [
       "<div>\n",
       "<style scoped>\n",
       "    .dataframe tbody tr th:only-of-type {\n",
       "        vertical-align: middle;\n",
       "    }\n",
       "\n",
       "    .dataframe tbody tr th {\n",
       "        vertical-align: top;\n",
       "    }\n",
       "\n",
       "    .dataframe thead th {\n",
       "        text-align: right;\n",
       "    }\n",
       "</style>\n",
       "<table border=\"1\" class=\"dataframe\">\n",
       "  <thead>\n",
       "    <tr style=\"text-align: right;\">\n",
       "      <th></th>\n",
       "      <th>con_id</th>\n",
       "      <th>prediction</th>\n",
       "    </tr>\n",
       "  </thead>\n",
       "  <tbody>\n",
       "    <tr>\n",
       "      <th>101931</th>\n",
       "      <td>0033Y00002uNQ4WQAW</td>\n",
       "      <td>0</td>\n",
       "    </tr>\n",
       "    <tr>\n",
       "      <th>269461</th>\n",
       "      <td>0033Y00002uNQ4gQAG</td>\n",
       "      <td>0</td>\n",
       "    </tr>\n",
       "    <tr>\n",
       "      <th>204451</th>\n",
       "      <td>0033Y00002uNQ5MQAW</td>\n",
       "      <td>0</td>\n",
       "    </tr>\n",
       "    <tr>\n",
       "      <th>131741</th>\n",
       "      <td>0033Y00002uNQ5pQAG</td>\n",
       "      <td>0</td>\n",
       "    </tr>\n",
       "    <tr>\n",
       "      <th>464362</th>\n",
       "      <td>0033Y00002uNQ5rQAG</td>\n",
       "      <td>0</td>\n",
       "    </tr>\n",
       "    <tr>\n",
       "      <th>...</th>\n",
       "      <td>...</td>\n",
       "      <td>...</td>\n",
       "    </tr>\n",
       "    <tr>\n",
       "      <th>473547</th>\n",
       "      <td>0033Y00003S4trHQAR</td>\n",
       "      <td>0</td>\n",
       "    </tr>\n",
       "    <tr>\n",
       "      <th>458002</th>\n",
       "      <td>0033Y00003TUSx9QAH</td>\n",
       "      <td>0</td>\n",
       "    </tr>\n",
       "    <tr>\n",
       "      <th>508524</th>\n",
       "      <td>0033Y00003TUTeeQAH</td>\n",
       "      <td>0</td>\n",
       "    </tr>\n",
       "    <tr>\n",
       "      <th>495001</th>\n",
       "      <td>0033Y00003jr7j8QAA</td>\n",
       "      <td>0</td>\n",
       "    </tr>\n",
       "    <tr>\n",
       "      <th>402118</th>\n",
       "      <td>0033Y00003lfqE3QAI</td>\n",
       "      <td>0</td>\n",
       "    </tr>\n",
       "  </tbody>\n",
       "</table>\n",
       "<p>357693 rows × 2 columns</p>\n",
       "</div>"
      ],
      "text/plain": [
       "                    con_id  prediction\n",
       "101931  0033Y00002uNQ4WQAW           0\n",
       "269461  0033Y00002uNQ4gQAG           0\n",
       "204451  0033Y00002uNQ5MQAW           0\n",
       "131741  0033Y00002uNQ5pQAG           0\n",
       "464362  0033Y00002uNQ5rQAG           0\n",
       "...                    ...         ...\n",
       "473547  0033Y00003S4trHQAR           0\n",
       "458002  0033Y00003TUSx9QAH           0\n",
       "508524  0033Y00003TUTeeQAH           0\n",
       "495001  0033Y00003jr7j8QAA           0\n",
       "402118  0033Y00003lfqE3QAI           0\n",
       "\n",
       "[357693 rows x 2 columns]"
      ]
     },
     "execution_count": 192,
     "metadata": {},
     "output_type": "execute_result"
    }
   ],
   "source": [
    "merge_feature_store_predictions = features[['con_id', 'prediction']]\n",
    "merge_feature_store_predictions"
   ]
  },
  {
   "cell_type": "code",
   "execution_count": 193,
   "id": "049c73ef-f85a-40b2-96d9-8dd999249b4e",
   "metadata": {},
   "outputs": [],
   "source": [
    "merge_feature_store_predictions.to_csv('lr_id_prediction.csv', index=False)"
   ]
  },
  {
   "cell_type": "markdown",
   "id": "31233eb2-f317-4242-98d7-ae88cba67715",
   "metadata": {},
   "source": [
    "### ------------------------------------------------------------------------------------------------------------"
   ]
  },
  {
   "cell_type": "code",
   "execution_count": 194,
   "id": "36491549-285f-44d5-ad05-151a6122d8d4",
   "metadata": {},
   "outputs": [],
   "source": [
    "predictions_dnn = pd.read_csv('id_with_prediction.csv')"
   ]
  },
  {
   "cell_type": "code",
   "execution_count": 195,
   "id": "5e96c8e1-94ba-4690-a2fa-c89cfe07c415",
   "metadata": {
    "tags": []
   },
   "outputs": [],
   "source": [
    "predictions_dnn=predictions_dnn.drop(columns=[\"Unnamed: 0\"])"
   ]
  },
  {
   "cell_type": "code",
   "execution_count": 196,
   "id": "fb82fb28-391b-46bd-8cb6-38a29bf17fa6",
   "metadata": {},
   "outputs": [],
   "source": [
    "predictions_dnn['prediction'] = np.where(predictions_dnn['prediction'] > 0.5, 1, 0)"
   ]
  },
  {
   "cell_type": "code",
   "execution_count": 197,
   "id": "3e2bba1f-1df5-47c5-9279-f2be7a9f80b7",
   "metadata": {},
   "outputs": [
    {
     "data": {
      "text/plain": [
       "(182868, 2)"
      ]
     },
     "execution_count": 197,
     "metadata": {},
     "output_type": "execute_result"
    }
   ],
   "source": [
    "predictions_dnn.shape"
   ]
  },
  {
   "cell_type": "code",
   "execution_count": 198,
   "id": "234c6465-7592-41a7-b520-bd91ea14d256",
   "metadata": {},
   "outputs": [],
   "source": [
    "predictions_lr = pd.read_csv('lr_id_prediction.csv')"
   ]
  },
  {
   "cell_type": "code",
   "execution_count": 199,
   "id": "877840b3-aa3a-4e6d-9bfb-d78879376e20",
   "metadata": {
    "tags": []
   },
   "outputs": [
    {
     "data": {
      "text/plain": [
       "(357693, 2)"
      ]
     },
     "execution_count": 199,
     "metadata": {},
     "output_type": "execute_result"
    }
   ],
   "source": [
    "predictions_lr.shape"
   ]
  },
  {
   "cell_type": "markdown",
   "id": "a85180c5-7268-40f1-b133-c07a5e8ddfb4",
   "metadata": {},
   "source": [
    "### Mergeamos ambos datasets"
   ]
  },
  {
   "cell_type": "code",
   "execution_count": 200,
   "id": "11eb1d81-8957-499c-b7c0-3b393734c9cb",
   "metadata": {},
   "outputs": [],
   "source": [
    "dnn_lr_merge = pd.merge(predictions_lr, predictions_dnn, left_on='con_id', right_on='whoid', how='inner')"
   ]
  },
  {
   "cell_type": "code",
   "execution_count": 201,
   "id": "448f5fd1-c27f-4bd6-b669-fe64d9a760e3",
   "metadata": {
    "tags": []
   },
   "outputs": [
    {
     "data": {
      "text/html": [
       "<div>\n",
       "<style scoped>\n",
       "    .dataframe tbody tr th:only-of-type {\n",
       "        vertical-align: middle;\n",
       "    }\n",
       "\n",
       "    .dataframe tbody tr th {\n",
       "        vertical-align: top;\n",
       "    }\n",
       "\n",
       "    .dataframe thead th {\n",
       "        text-align: right;\n",
       "    }\n",
       "</style>\n",
       "<table border=\"1\" class=\"dataframe\">\n",
       "  <thead>\n",
       "    <tr style=\"text-align: right;\">\n",
       "      <th></th>\n",
       "      <th>con_id</th>\n",
       "      <th>prediction_x</th>\n",
       "      <th>whoid</th>\n",
       "      <th>prediction_y</th>\n",
       "    </tr>\n",
       "  </thead>\n",
       "  <tbody>\n",
       "    <tr>\n",
       "      <th>0</th>\n",
       "      <td>0033Y00002uNQ6FQAW</td>\n",
       "      <td>0</td>\n",
       "      <td>0033Y00002uNQ6FQAW</td>\n",
       "      <td>1</td>\n",
       "    </tr>\n",
       "    <tr>\n",
       "      <th>1</th>\n",
       "      <td>0033Y00002uNQ7OQAW</td>\n",
       "      <td>0</td>\n",
       "      <td>0033Y00002uNQ7OQAW</td>\n",
       "      <td>0</td>\n",
       "    </tr>\n",
       "    <tr>\n",
       "      <th>2</th>\n",
       "      <td>0033Y00002uNQ8OQAW</td>\n",
       "      <td>0</td>\n",
       "      <td>0033Y00002uNQ8OQAW</td>\n",
       "      <td>0</td>\n",
       "    </tr>\n",
       "    <tr>\n",
       "      <th>3</th>\n",
       "      <td>0033Y00002uNQAEQA4</td>\n",
       "      <td>0</td>\n",
       "      <td>0033Y00002uNQAEQA4</td>\n",
       "      <td>0</td>\n",
       "    </tr>\n",
       "    <tr>\n",
       "      <th>4</th>\n",
       "      <td>0033Y00002uNQAMQA4</td>\n",
       "      <td>0</td>\n",
       "      <td>0033Y00002uNQAMQA4</td>\n",
       "      <td>0</td>\n",
       "    </tr>\n",
       "    <tr>\n",
       "      <th>...</th>\n",
       "      <td>...</td>\n",
       "      <td>...</td>\n",
       "      <td>...</td>\n",
       "      <td>...</td>\n",
       "    </tr>\n",
       "    <tr>\n",
       "      <th>85339</th>\n",
       "      <td>0033Y00003LckdZQAR</td>\n",
       "      <td>0</td>\n",
       "      <td>0033Y00003LckdZQAR</td>\n",
       "      <td>1</td>\n",
       "    </tr>\n",
       "    <tr>\n",
       "      <th>85340</th>\n",
       "      <td>0033Y00003LckdoQAB</td>\n",
       "      <td>0</td>\n",
       "      <td>0033Y00003LckdoQAB</td>\n",
       "      <td>1</td>\n",
       "    </tr>\n",
       "    <tr>\n",
       "      <th>85341</th>\n",
       "      <td>0033Y00003LckdpQAB</td>\n",
       "      <td>0</td>\n",
       "      <td>0033Y00003LckdpQAB</td>\n",
       "      <td>1</td>\n",
       "    </tr>\n",
       "    <tr>\n",
       "      <th>85342</th>\n",
       "      <td>0033Y00003LczatQAB</td>\n",
       "      <td>1</td>\n",
       "      <td>0033Y00003LczatQAB</td>\n",
       "      <td>1</td>\n",
       "    </tr>\n",
       "    <tr>\n",
       "      <th>85343</th>\n",
       "      <td>0033Y00003NBu0hQAD</td>\n",
       "      <td>0</td>\n",
       "      <td>0033Y00003NBu0hQAD</td>\n",
       "      <td>1</td>\n",
       "    </tr>\n",
       "  </tbody>\n",
       "</table>\n",
       "<p>85344 rows × 4 columns</p>\n",
       "</div>"
      ],
      "text/plain": [
       "                   con_id  prediction_x               whoid  prediction_y\n",
       "0      0033Y00002uNQ6FQAW             0  0033Y00002uNQ6FQAW             1\n",
       "1      0033Y00002uNQ7OQAW             0  0033Y00002uNQ7OQAW             0\n",
       "2      0033Y00002uNQ8OQAW             0  0033Y00002uNQ8OQAW             0\n",
       "3      0033Y00002uNQAEQA4             0  0033Y00002uNQAEQA4             0\n",
       "4      0033Y00002uNQAMQA4             0  0033Y00002uNQAMQA4             0\n",
       "...                   ...           ...                 ...           ...\n",
       "85339  0033Y00003LckdZQAR             0  0033Y00003LckdZQAR             1\n",
       "85340  0033Y00003LckdoQAB             0  0033Y00003LckdoQAB             1\n",
       "85341  0033Y00003LckdpQAB             0  0033Y00003LckdpQAB             1\n",
       "85342  0033Y00003LczatQAB             1  0033Y00003LczatQAB             1\n",
       "85343  0033Y00003NBu0hQAD             0  0033Y00003NBu0hQAD             1\n",
       "\n",
       "[85344 rows x 4 columns]"
      ]
     },
     "execution_count": 201,
     "metadata": {},
     "output_type": "execute_result"
    }
   ],
   "source": [
    "dnn_lr_merge"
   ]
  },
  {
   "cell_type": "code",
   "execution_count": 202,
   "id": "1f81d69e-890c-496f-a475-f469fac1d3c6",
   "metadata": {
    "tags": []
   },
   "outputs": [],
   "source": [
    "coincidences = (dnn_lr_merge['prediction_x'] == dnn_lr_merge['prediction_y']).sum()"
   ]
  },
  {
   "cell_type": "code",
   "execution_count": 203,
   "id": "26b6e81c-c516-4cc4-9a4e-f7d453a99a20",
   "metadata": {
    "tags": []
   },
   "outputs": [],
   "source": [
    "differences = len(dnn_lr_merge) - coincidences"
   ]
  },
  {
   "cell_type": "code",
   "execution_count": 204,
   "id": "9f347381-5668-4d40-90f9-acb2aa14804f",
   "metadata": {},
   "outputs": [
    {
     "data": {
      "text/plain": [
       "(35741, 49603)"
      ]
     },
     "execution_count": 204,
     "metadata": {},
     "output_type": "execute_result"
    }
   ],
   "source": [
    "coincidences, differences"
   ]
  },
  {
   "cell_type": "code",
   "execution_count": 205,
   "id": "4a907051-a39c-47de-abf9-f5788784c297",
   "metadata": {},
   "outputs": [
    {
     "data": {
      "text/plain": [
       "1    47374\n",
       "0    37970\n",
       "Name: prediction_y, dtype: int64"
      ]
     },
     "execution_count": 205,
     "metadata": {},
     "output_type": "execute_result"
    }
   ],
   "source": [
    "dnn_lr_merge['prediction_y'].value_counts()"
   ]
  },
  {
   "cell_type": "code",
   "execution_count": 206,
   "id": "9e8ef48e-e6e8-4148-bb00-13ed11f0f46c",
   "metadata": {},
   "outputs": [
    {
     "data": {
      "text/plain": [
       "0    58695\n",
       "1    26649\n",
       "Name: prediction_x, dtype: int64"
      ]
     },
     "execution_count": 206,
     "metadata": {},
     "output_type": "execute_result"
    }
   ],
   "source": [
    "dnn_lr_merge['prediction_x'].value_counts()"
   ]
  },
  {
   "cell_type": "markdown",
   "id": "6cb34b14-d0b5-449c-8081-e1abe673f6fb",
   "metadata": {},
   "source": [
    "#### -------------------------------------------------------------------------------------------------------------------"
   ]
  },
  {
   "cell_type": "markdown",
   "id": "7be77dda-05e9-41f0-af71-5da25399347c",
   "metadata": {},
   "source": [
    "#### Probamos también un Random Forest"
   ]
  },
  {
   "cell_type": "code",
   "execution_count": 207,
   "id": "7767a5f8-a51a-42ae-a654-0b2f7705eb82",
   "metadata": {},
   "outputs": [],
   "source": [
    "from sklearn.ensemble import RandomForestClassifier\n",
    "from sklearn.datasets import make_classification\n",
    "\n",
    "with mlflow.start_run(experiment_id=experiment.experiment_id, run_name=\"msf-quote-random-forest\") as run:\n",
    "    \n",
    "    max_depth = 3\n",
    "    # Registramos los parámetros que queramos\n",
    "    mlflow.log_param(\"max_depth\", max_depth)    \n",
    "    # Probamos primero con un modelo de Regresión Logística\n",
    "    rf_classifier = RandomForestClassifier(max_depth=max_depth, random_state=0)\n",
    "    # Entrenamiento del modelo\n",
    "    rf_classifier.fit(X_train, Y_train)\n",
    "    # Hacemos las predicciones sobre el conjunto de test\n",
    "    y_pred  = rf_classifier.predict(X_test)    \n",
    "    #Recuperamos métricas\n",
    "    metrics = get_metrics(Y_test, y_pred)\n",
    "    # Registramos métricas\n",
    "    mlflow.log_metric('test_accuracy', metrics['accuracy'])\n",
    "    mlflow.log_metric('test_precision', metrics['precision'])\n",
    "    mlflow.log_metric('test_recall', metrics['recall'])\n",
    "    \n",
    "        # Registramos el modelo\n",
    "    mlflow.sklearn.log_model(classifier, 'msf-quote-random-forest')"
   ]
  },
  {
   "cell_type": "markdown",
   "id": "0e2dd7dd-563c-49de-9eda-e4bc8412534c",
   "metadata": {},
   "source": [
    "#### Mostramos la gráfica de uno de los árboles generados"
   ]
  },
  {
   "cell_type": "code",
   "execution_count": 208,
   "id": "966cde86",
   "metadata": {
    "tags": []
   },
   "outputs": [
    {
     "data": {
      "image/png": "[encoded data removed]",
      "text/plain": [
       "<Figure size 2000x1000 with 1 Axes>"
      ]
     },
     "metadata": {},
     "output_type": "display_data"
    }
   ],
   "source": [
    "import matplotlib.pyplot as plt\n",
    "from sklearn.tree import plot_tree\n",
    "chosen_tree = rf_classifier.estimators_[0]\n",
    "plt.figure(figsize=(20,10))\n",
    "plot_tree(chosen_tree, filled=True, feature_names=X.columns.tolist(), class_names=str(y.unique()), rounded=True)\n",
    "plt.show()"
   ]
  }
 ],
 "metadata": {
  "kernelspec": {
   "display_name": "Python 3 (ipykernel)",
   "language": "python",
   "name": "python3"
  },
  "language_info": {
   "codemirror_mode": {
    "name": "ipython",
    "version": 3
   },
   "file_extension": ".py",
   "mimetype": "text/x-python",
   "name": "python",
   "nbconvert_exporter": "python",
   "pygments_lexer": "ipython3",
   "version": "3.11.1"
  }
 },
 "nbformat": 4,
 "nbformat_minor": 5
}
