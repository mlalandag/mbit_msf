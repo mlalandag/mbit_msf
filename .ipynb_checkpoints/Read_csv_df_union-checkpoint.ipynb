{
 "cells": [
  {
   "cell_type": "markdown",
   "id": "d8848e11-6e48-45e5-bc87-16207b288a79",
   "metadata": {
    "tags": []
   },
   "source": [
    "##### Importamos la librería que necesitamos para conectarnos a S3"
   ]
  },
  {
   "cell_type": "code",
   "execution_count": 1,
   "id": "f6abe847-f764-4288-9351-5c9e4960aeda",
   "metadata": {
    "tags": []
   },
   "outputs": [],
   "source": [
    "import boto3"
   ]
  },
  {
   "cell_type": "markdown",
   "id": "259cecec-5355-4207-bc6e-39e050984204",
   "metadata": {
    "tags": []
   },
   "source": [
    "##### Para poder conectarnos a nuestra cuenta de AWS tenemos que coger las **credenciales** que se nos facilitan cuando iniciamos nuestra cuenta (`Start Lab`). Una vez inicializada nuestra cuenta, en la pestaña `AWS Details` podremos encontrar la credenciales que necesitamos. Copialas en las siguientes variables:"
   ]
  },
  {
   "cell_type": "code",
   "execution_count": 2,
   "id": "7e35102a-00a9-48a9-bb35-340259e44339",
   "metadata": {},
   "outputs": [],
   "source": [
    "aws_access_key_id=\n",
    "aws_secret_access_key=\n",
    "aws_session_token="
   ]
  },
  {
   "cell_type": "markdown",
   "id": "e1168e64-c2d9-4b1a-bb41-065606c16df8",
   "metadata": {},
   "source": [
    "##### Para concectarnos con nuestra cuenta tendemos que definir una `Session` utilizando las credenciales que nos proporcionan, además de establecer la región a la que nos queremos concectar. Por defecto, cuando estemos utilizando **_AWS Academy_ solo podremos utilizar la región de _Northern Virginia_** que tiene este código `us-east-1`."
   ]
  },
  {
   "cell_type": "code",
   "execution_count": 3,
   "id": "ed24033e-7dfc-46d3-b461-2ec0c159d72f",
   "metadata": {},
   "outputs": [],
   "source": [
    "session = boto3.session.Session(\n",
    " region_name=\"us-east-1\",\n",
    " aws_access_key_id=aws_access_key_id,\n",
    " aws_secret_access_key=aws_secret_access_key,\n",
    " aws_session_token=aws_session_token\n",
    ")"
   ]
  },
  {
   "cell_type": "code",
   "execution_count": 4,
   "id": "f3e3057e-152d-4601-92f7-7eb02a18ea02",
   "metadata": {},
   "outputs": [],
   "source": [
    "s3 = session.client('s3')"
   ]
  },
  {
   "cell_type": "code",
   "execution_count": 19,
   "id": "ea23af2b-df70-4b0c-82c2-c6987336af07",
   "metadata": {},
   "outputs": [],
   "source": [
    "#response = s3.list_buckets()\n",
    "#response"
   ]
  },
  {
   "cell_type": "code",
   "execution_count": 6,
   "id": "607d9d42-113b-4ed8-8362-04e2f21366d1",
   "metadata": {},
   "outputs": [],
   "source": [
    "BUCKET_NAME = 'miriam-tmf-oct22-msf-data'"
   ]
  },
  {
   "cell_type": "code",
   "execution_count": 9,
   "id": "337c8731-d615-4463-a826-0de78f0e52ab",
   "metadata": {
    "tags": []
   },
   "outputs": [],
   "source": [
    "# Mejor hacerlo por CSV\n",
    "#s3.download_file(Bucket=BUCKET_NAME, Key='output/df_merge_flag_m/part-00000-c636098b-e1d0-4c03-b5d7-966ec0ac9f1d-c000.snappy.parquet', Filename='Desktop/TFM/Data/prueba1.parquet' )\n",
    "#s3.download_file(Bucket=BUCKET_NAME, Key='output/df_merge_flag_m/part-00001-c636098b-e1d0-4c03-b5d7-966ec0ac9f1d-c000.snappy.parquet', Filename='Desktop/TFM/Data/prueba2.parquet' )\n",
    "#s3.download_file(Bucket=BUCKET_NAME, Key='output/df_merge_flag_m/part-00002-c636098b-e1d0-4c03-b5d7-966ec0ac9f1d-c000.snappy.parquet', Filename='Desktop/TFM/Data/prueba3.parquet' )\n",
    "#s3.download_file(Bucket=BUCKET_NAME, Key='output/df_merge_flag_m/part-00003-c636098b-e1d0-4c03-b5d7-966ec0ac9f1d-c000.snappy.parquet', Filename='Desktop/TFM/Data/prueba4.parquet' )\n",
    "\n"
   ]
  },
  {
   "cell_type": "code",
   "execution_count": 1,
   "id": "14b1f48a-9f4b-4e2e-b46e-4dd9816b1625",
   "metadata": {},
   "outputs": [],
   "source": [
    "s3.download_file(Bucket=BUCKET_NAME, Key='output/df_activas_csv/part-00000-47f88fbb-afd2-4324-a8c8-785447cf249d-c000.csv.gz', Filename='Desktop/TFM/Data/df_activas.csv.gz')"
   ]
  },
  {
   "cell_type": "code",
   "execution_count": 2,
   "id": "c2fc1c6b",
   "metadata": {},
   "outputs": [],
   "source": [
    "s3.download_file(Bucket=BUCKET_NAME, Key='output/df_activas_csv/part-00000-47f88fbb-afd2-4324-a8c8-785447cf249d-c000.csv.gz', Filename='Desktop/TFM/Data/df_activas.csv.gz')"
   ]
  },
  {
   "cell_type": "code",
   "execution_count": 10,
   "id": "c03f2cdc-5e80-4d14-ac68-e0378b194295",
   "metadata": {},
   "outputs": [],
   "source": [
    "s3.download_file(Bucket=BUCKET_NAME, Key='output/df_union_csv/part-00000-70434f97-538a-46a7-8da8-8f4b302e08b8-c000.csv.gz', Filename='Desktop/TFM/Data/df_union.csv.gz')"
   ]
  },
  {
   "cell_type": "code",
   "execution_count": 11,
   "id": "1db92ea6-a919-4710-a65f-8b6d2480e3e0",
   "metadata": {},
   "outputs": [],
   "source": [
    "import pandas as pd"
   ]
  },
  {
   "cell_type": "code",
   "execution_count": 14,
   "id": "92dcecfe-22dc-4bb8-b8b3-2bd781860cba",
   "metadata": {},
   "outputs": [
    {
     "data": {
      "text/html": [
       "<div><div id=ac00e03c-56f8-4381-b668-a5e3fa515f20 style=\"display:none; background-color:#9D6CFF; color:white; width:200px; height:30px; padding-left:5px; border-radius:4px; flex-direction:row; justify-content:space-around; align-items:center;\" onmouseover=\"this.style.backgroundColor='#BA9BF8'\" onmouseout=\"this.style.backgroundColor='#9D6CFF'\" onclick=\"window.commands?.execute('create-mitosheet-from-dataframe-output');\">See Full Dataframe in Mito</div> <script> if (window.commands?.hasCommand('create-mitosheet-from-dataframe-output')) document.getElementById('ac00e03c-56f8-4381-b668-a5e3fa515f20').style.display = 'flex' </script> <table border=\"1\" class=\"dataframe\">\n",
       "  <thead>\n",
       "    <tr style=\"text-align: right;\">\n",
       "      <th></th>\n",
       "      <th>rec_id</th>\n",
       "      <th>msf_annualizedquota__c</th>\n",
       "      <th>msf_cancelationdate__c</th>\n",
       "      <th>msf_currentleadsource1__c</th>\n",
       "      <th>msf_currentquotamodification__c</th>\n",
       "      <th>msf_leadsource1__c</th>\n",
       "      <th>msf_memberid__c</th>\n",
       "      <th>npe03__contact__c</th>\n",
       "      <th>npe03__date_established__c</th>\n",
       "      <th>npe03__installment_period__c</th>\n",
       "      <th>...</th>\n",
       "      <th>msf_campaigninfluence__c</th>\n",
       "      <th>msf_changeannualizedquota__c</th>\n",
       "      <th>msf_changetype__c</th>\n",
       "      <th>msf_leadsource3__c</th>\n",
       "      <th>msf_newannualizedquota__c</th>\n",
       "      <th>msf_newrecurringperiod__c</th>\n",
       "      <th>msf_contactid__c</th>\n",
       "      <th>msf_changedate__c</th>\n",
       "      <th>flag_aumento</th>\n",
       "      <th>year_activo</th>\n",
       "    </tr>\n",
       "  </thead>\n",
       "  <tbody>\n",
       "    <tr>\n",
       "      <th>0</th>\n",
       "      <td>a093Y00001RZ7YyQAL</td>\n",
       "      <td>180.0</td>\n",
       "      <td>2018-06-01</td>\n",
       "      <td>Email a SAS</td>\n",
       "      <td>a1y3Y000002PwXAQA0</td>\n",
       "      <td>Email a SAS</td>\n",
       "      <td>10916097</td>\n",
       "      <td>0033Y00002uo1H5QAI</td>\n",
       "      <td>2015-12-03</td>\n",
       "      <td>Monthly</td>\n",
       "      <td>...</td>\n",
       "      <td>7013Y000001mrBLQAY</td>\n",
       "      <td>180.0</td>\n",
       "      <td>Initial</td>\n",
       "      <td>Online</td>\n",
       "      <td>180.0</td>\n",
       "      <td>Monthly</td>\n",
       "      <td>0033Y00002uo1H5QAI</td>\n",
       "      <td>2015-12-03</td>\n",
       "      <td>0</td>\n",
       "      <td>2015</td>\n",
       "    </tr>\n",
       "    <tr>\n",
       "      <th>1</th>\n",
       "      <td>a093Y00001RZ7ZuQAL</td>\n",
       "      <td>60.0</td>\n",
       "      <td>2019-05-07</td>\n",
       "      <td>Persona a persona</td>\n",
       "      <td>a1y3Y000002RPGyQAO</td>\n",
       "      <td>Persona a persona</td>\n",
       "      <td>11132307</td>\n",
       "      <td>0033Y00002uooTFQAY</td>\n",
       "      <td>2015-02-19</td>\n",
       "      <td>Yearly</td>\n",
       "      <td>...</td>\n",
       "      <td>7013Y000001mr2cQAA</td>\n",
       "      <td>60.0</td>\n",
       "      <td>Initial</td>\n",
       "      <td>Personal</td>\n",
       "      <td>60.0</td>\n",
       "      <td>Yearly</td>\n",
       "      <td>0033Y00002uooTFQAY</td>\n",
       "      <td>2015-02-19</td>\n",
       "      <td>0</td>\n",
       "      <td>2015</td>\n",
       "    </tr>\n",
       "    <tr>\n",
       "      <th>2</th>\n",
       "      <td>a093Y00001RZ7a2QAD</td>\n",
       "      <td>300.0</td>\n",
       "      <td>2019-01-07</td>\n",
       "      <td>Persona a persona</td>\n",
       "      <td>a1y3Y000002RCV1QAO</td>\n",
       "      <td>Persona a persona</td>\n",
       "      <td>11156602</td>\n",
       "      <td>0033Y00002up0LKQAY</td>\n",
       "      <td>2015-04-07</td>\n",
       "      <td>Monthly</td>\n",
       "      <td>...</td>\n",
       "      <td>7013Y000001mr2DQAQ</td>\n",
       "      <td>300.0</td>\n",
       "      <td>Initial</td>\n",
       "      <td>Personal</td>\n",
       "      <td>300.0</td>\n",
       "      <td>Monthly</td>\n",
       "      <td>0033Y00002up0LKQAY</td>\n",
       "      <td>2015-04-07</td>\n",
       "      <td>0</td>\n",
       "      <td>2015</td>\n",
       "    </tr>\n",
       "  </tbody>\n",
       "</table></div>"
      ],
      "text/plain": [
       "               rec_id  msf_annualizedquota__c msf_cancelationdate__c  \\\n",
       "0  a093Y00001RZ7YyQAL                   180.0             2018-06-01   \n",
       "1  a093Y00001RZ7ZuQAL                    60.0             2019-05-07   \n",
       "2  a093Y00001RZ7a2QAD                   300.0             2019-01-07   \n",
       "\n",
       "  msf_currentleadsource1__c msf_currentquotamodification__c  \\\n",
       "0               Email a SAS              a1y3Y000002PwXAQA0   \n",
       "1         Persona a persona              a1y3Y000002RPGyQAO   \n",
       "2         Persona a persona              a1y3Y000002RCV1QAO   \n",
       "\n",
       "  msf_leadsource1__c  msf_memberid__c   npe03__contact__c  \\\n",
       "0        Email a SAS         10916097  0033Y00002uo1H5QAI   \n",
       "1  Persona a persona         11132307  0033Y00002uooTFQAY   \n",
       "2  Persona a persona         11156602  0033Y00002up0LKQAY   \n",
       "\n",
       "  npe03__date_established__c npe03__installment_period__c  ...  \\\n",
       "0                 2015-12-03                      Monthly  ...   \n",
       "1                 2015-02-19                       Yearly  ...   \n",
       "2                 2015-04-07                      Monthly  ...   \n",
       "\n",
       "  msf_campaigninfluence__c  msf_changeannualizedquota__c msf_changetype__c  \\\n",
       "0       7013Y000001mrBLQAY                         180.0           Initial   \n",
       "1       7013Y000001mr2cQAA                          60.0           Initial   \n",
       "2       7013Y000001mr2DQAQ                         300.0           Initial   \n",
       "\n",
       "   msf_leadsource3__c  msf_newannualizedquota__c  msf_newrecurringperiod__c  \\\n",
       "0              Online                      180.0                    Monthly   \n",
       "1            Personal                       60.0                     Yearly   \n",
       "2            Personal                      300.0                    Monthly   \n",
       "\n",
       "     msf_contactid__c msf_changedate__c flag_aumento year_activo  \n",
       "0  0033Y00002uo1H5QAI        2015-12-03            0        2015  \n",
       "1  0033Y00002uooTFQAY        2015-02-19            0        2015  \n",
       "2  0033Y00002up0LKQAY        2015-04-07            0        2015  \n",
       "\n",
       "[3 rows x 34 columns]"
      ]
     },
     "execution_count": 14,
     "metadata": {},
     "output_type": "execute_result"
    }
   ],
   "source": [
    "df_msf_id = pd.read_csv('Desktop/TFM/Data/df_union.csv.gz', compression='gzip')\n",
    "df_msf_id.head(3)"
   ]
  },
  {
   "cell_type": "code",
   "execution_count": null,
   "id": "178fda23-b930-4c33-8418-f4eaf5e6c8dd",
   "metadata": {},
   "outputs": [],
   "source": []
  }
 ],
 "metadata": {
  "kernelspec": {
   "display_name": "Python 3 (ipykernel)",
   "language": "python",
   "name": "python3"
  },
  "language_info": {
   "codemirror_mode": {
    "name": "ipython",
    "version": 3
   },
   "file_extension": ".py",
   "mimetype": "text/x-python",
   "name": "python",
   "nbconvert_exporter": "python",
   "pygments_lexer": "ipython3",
   "version": "3.11.1"
  }
 },
 "nbformat": 4,
 "nbformat_minor": 5
}
