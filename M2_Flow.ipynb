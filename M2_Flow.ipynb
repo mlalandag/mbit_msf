{
	"metadata": {
		"kernelspec": {
			"name": "glue_pyspark",
			"display_name": "Glue PySpark",
			"language": "python"
		},
		"language_info": {
			"name": "Python_Glue_Session",
			"mimetype": "text/x-python",
			"codemirror_mode": {
				"name": "python",
				"version": 3
			},
			"pygments_lexer": "python3",
			"file_extension": ".py"
		}
	},
	"nbformat_minor": 5,
	"nbformat": 4,
	"cells": [
		{
			"cell_type": "code",
			"source": "# %%cleanup -f",
			"metadata": {},
			"execution_count": null,
			"outputs": [],
			"id": "3abbb43a-450e-4dcb-840e-d9611cb59204"
		},
		{
			"cell_type": "code",
			"source": "# spark",
			"metadata": {},
			"execution_count": null,
			"outputs": [],
			"id": "fd487038-513d-4036-a8ec-051516294eaf"
		},
		{
			"cell_type": "code",
			"source": "# %stop_session",
			"metadata": {},
			"execution_count": null,
			"outputs": [],
			"id": "83783501-2590-4829-b443-3026128d1d8f"
		},
		{
			"cell_type": "markdown",
			"source": "##### Importamos todas las funciones de pyspark que vamos a necesitar ",
			"metadata": {},
			"id": "e9bb5460-95cf-4218-aee3-3fdc333a8a60"
		},
		{
			"cell_type": "code",
			"source": "from pyspark.sql.window import Window\nfrom pyspark.sql.functions import col, lag, datediff, last, when, date_add, udf, lit, desc, row_number, mean, sum, year, isnull, months_between, to_date, round\nfrom pyspark.sql.types import IntegerType\nfrom pyspark.ml.feature import OneHotEncoder, StringIndexer\n\nBUCKET_NAME = \"marcial-tmf-oct22-msf-data\"",
			"metadata": {
				"trusted": true,
				"tags": []
			},
			"execution_count": 24,
			"outputs": [
				{
					"name": "stdout",
					"text": "\n",
					"output_type": "stream"
				}
			],
			"id": "6a354ba5-4080-4bb2-ad49-39f5a38678b6"
		},
		{
			"cell_type": "markdown",
			"source": "#### Contacts",
			"metadata": {},
			"id": "30da7f5a-679c-41e9-a49f-c9fdb74c352a"
		},
		{
			"cell_type": "markdown",
			"source": "##### Cargamos en un dataframe de Spark el fichero de Contactos de MSF",
			"metadata": {},
			"id": "9a7a6c3d-189a-4317-8cc5-91633a765c36"
		},
		{
			"cell_type": "code",
			"source": "df_con = (\n  spark.read\n    .option(\"header\", \"true\")\n    .option(\"quote\", \"\\\"\")\n    .option(\"escape\" , \"\\\"\")   \n    .format(\"parquet\")\n    .load(f\"s3://{BUCKET_NAME}/contact/MSF_Contact.parquet\")\n)",
			"metadata": {
				"trusted": true,
				"tags": []
			},
			"execution_count": 2,
			"outputs": [
				{
					"name": "stdout",
					"text": "\n",
					"output_type": "stream"
				}
			],
			"id": "acba6f8b-bc52-4f87-aad2-9d9dd9dd37e3"
		},
		{
			"cell_type": "markdown",
			"source": "##### Renombramos la columna id a con_id para que no haya ambiguedades en los merges",
			"metadata": {},
			"id": "84b394df-1a7a-42f3-9e00-e9d8d97ea6e7"
		},
		{
			"cell_type": "code",
			"source": "df_con = df_con.withColumnRenamed(\"id\",\"con_id\")\ndf_con = df_con.withColumnRenamed(\"msf_annualizedquota__c\",\"msf_annualizedquota__c_con\")",
			"metadata": {
				"trusted": true,
				"tags": []
			},
			"execution_count": 3,
			"outputs": [
				{
					"name": "stdout",
					"text": "\n",
					"output_type": "stream"
				}
			],
			"id": "5bdc383e-8970-4584-8035-ee07df0d42da"
		},
		{
			"cell_type": "markdown",
			"source": "#### Recurring Donations",
			"metadata": {},
			"id": "0d51fe51-28c7-4488-ba12-feaf7c5e79ba"
		},
		{
			"cell_type": "markdown",
			"source": "##### Cargamos en un dataframe de Spark la tabla de donaciones periódicas",
			"metadata": {},
			"id": "1933e13c-1ac6-4ae9-a82f-a828e95706ac"
		},
		{
			"cell_type": "code",
			"source": "df_rec = (\n  spark.read\n    .option(\"header\", \"true\")\n    .option(\"quote\", \"\\\"\")\n    .option(\"escape\" , \"\\\"\")   \n    .format(\"parquet\")\n    .load(f\"s3://{BUCKET_NAME}/recurringdonation/MSF_RecurringDonation.parquet\")\n)",
			"metadata": {
				"trusted": true,
				"tags": []
			},
			"execution_count": 4,
			"outputs": [
				{
					"name": "stdout",
					"text": "\n",
					"output_type": "stream"
				}
			],
			"id": "d0b932d3-18b2-49ca-ae7b-dad1cee0f3f3"
		},
		{
			"cell_type": "markdown",
			"source": "##### Renombramos el id como en los casos anteriores",
			"metadata": {},
			"id": "fb08102b-3f4b-46b8-9f81-e0cf36a154aa"
		},
		{
			"cell_type": "code",
			"source": "df_rec = df_rec.withColumnRenamed(\"id\",\"rec_id\")",
			"metadata": {
				"trusted": true,
				"tags": []
			},
			"execution_count": 5,
			"outputs": [
				{
					"name": "stdout",
					"text": "\n",
					"output_type": "stream"
				}
			],
			"id": "800b8300-faa7-45d1-b506-6e619d589327"
		},
		{
			"cell_type": "markdown",
			"source": "##### Cargamos en un dataframe de Spark la tabla de modificaciones de cuota por parte de los socios",
			"metadata": {},
			"id": "b8750b9a-1632-4a07-8300-201aec4c922c"
		},
		{
			"cell_type": "code",
			"source": "df_quo = (\n  spark.read\n    .option(\"header\", \"true\")\n    .option(\"quote\", \"\\\"\")\n    .option(\"escape\" , \"\\\"\")   \n    .format(\"parquet\")\n    .load(f\"s3://{BUCKET_NAME}/quotamodification/MSF_QuotaModification.parquet\")\n)",
			"metadata": {
				"trusted": true,
				"tags": []
			},
			"execution_count": 7,
			"outputs": [
				{
					"name": "stdout",
					"text": "\n",
					"output_type": "stream"
				}
			],
			"id": "f13669d3-3b77-49cc-b96e-4476e0d029fe"
		},
		{
			"cell_type": "markdown",
			"source": "##### Renombramos el id como en los casos anteriores",
			"metadata": {},
			"id": "96678da9-31d1-49c0-add8-43869ddf867e"
		},
		{
			"cell_type": "code",
			"source": "df_quo = df_quo.withColumnRenamed(\"id\",\"quo_id\")\ndf_quo = df_quo.withColumnRenamed(\"msf_leadsource1__c\",\"msf_leadsource1__c_quo\")\ndf_quo = df_quo.withColumnRenamed(\"msf_annualizedquota__c\",\"msf_annualizedquota__c_quo\")",
			"metadata": {
				"trusted": true,
				"tags": []
			},
			"execution_count": 8,
			"outputs": [
				{
					"name": "stdout",
					"text": "\n",
					"output_type": "stream"
				}
			],
			"id": "5f73d5fb-0f97-4ad5-a016-2548c68dd4dc"
		},
		{
			"cell_type": "code",
			"source": "# Initialize an empty DataFrame to store the concatenated results\nall_years_df = None\n\n# Define the range of years\nstart_year = 2015\nend_year = 2022\n\nfor yr in range(start_year, end_year):\n    target_date = f\"{yr}-12-31\"\n    next_year = yr + 1\n    \n    df_yearly = df_rec.filter(\n        (col(\"npe03__date_established__c\") <= target_date) & \n        ((col(\"msf_cancelationdate__c\") > target_date) | (isnull(col(\"msf_cancelationdate__c\"))))\n    )\n\n    df_yearly = (\n        df_yearly\n        .join(df_quo, (df_rec.npe03__contact__c == df_quo.msf_contactid__c) & \n                      (df_rec.rec_id == df_quo.msf_recurringdonation__c) &\n                      (df_quo.msf_changetype__c == 'Increase') &               \n                      (year(df_quo.msf_changedate__c) == next_year ), 'left')\n    )\n\n    # Create boolean column to check if there's an increment in the next year\n    df_yearly = df_yearly.withColumn(\n        \"has_increment_next_year\", \n        when(col(\"msf_changeamount__c\").isNotNull() & (col(\"msf_changeamount__c\") > 0), 1).otherwise(0)\n    )\n    \n    # Add start_year and startDate to the DataFrame\n    df_yearly = df_yearly.withColumn(\"start_year\", lit(yr))\n    df_yearly = df_yearly.withColumn(\"target_date\", lit(target_date))   \n    \n    # Concatenate the yearly data with the cumulative DataFrame\n    if all_years_df is None:\n        all_years_df = df_yearly\n    else:\n        all_years_df = all_years_df.union(df_yearly)",
			"metadata": {
				"trusted": true,
				"tags": []
			},
			"execution_count": 9,
			"outputs": [
				{
					"name": "stdout",
					"text": "\n",
					"output_type": "stream"
				}
			],
			"id": "4ad89d22-1799-4610-b73c-1d3e8f015574"
		},
		{
			"cell_type": "code",
			"source": "all_years_df.where(col(\"npe03__contact__c\") == \"0033Y00002unQGTQA2\").show()",
			"metadata": {
				"trusted": true,
				"tags": []
			},
			"execution_count": 10,
			"outputs": [
				{
					"name": "stdout",
					"text": "+------------------+---------+----------------------+----------------------+------------------------+----------------------+-------------------------+-------------------------------+------------------+---------------+----------------+------------------+--------------------------+----------------------------+---------------------------+---------------------------+---------------------------+---------------------+-------------------------------------+---------------------------------+---------------------------+------------------+---------+--------------------+------------------------+------------------------+-------------------+----------------------------+-----------------+----------------------+------------------+------------------+----------------+-------------------------+-------------------------+------------------+-----------------+-----------------------+----------+-----------+\n|            rec_id|isdeleted|msf_annualizedquota__c|msf_cancelationdate__c|msf_cancelationreason__c|msf_currentcampaign__c|msf_currentleadsource1__c|msf_currentquotamodification__c|msf_leadsource1__c|msf_memberid__c|npe03__amount__c| npe03__contact__c|npe03__date_established__c|npe03__installment_period__c|npe03__last_payment_date__c|npe03__next_payment_date__c|npe03__open_ended_status__c|npe03__paid_amount__c|npe03__recurring_donation_campaign__c|npe03__total_paid_installments__c|npsp4hub__payment_method__c|            quo_id|isdeleted|                name|msf_recurringdonation__c|msf_campaigninfluence__c|msf_changeamount__c|msf_changeannualizedquota__c|msf_changetype__c|msf_leadsource1__c_quo|msf_leadsource2__c|msf_leadsource3__c|msf_newamount__c|msf_newannualizedquota__c|msf_newrecurringperiod__c|  msf_contactid__c|msf_changedate__c|has_increment_next_year|start_year|target_date|\n+------------------+---------+----------------------+----------------------+------------------------+----------------------+-------------------------+-------------------------------+------------------+---------------+----------------+------------------+--------------------------+----------------------------+---------------------------+---------------------------+---------------------------+---------------------+-------------------------------------+---------------------------------+---------------------------+------------------+---------+--------------------+------------------------+------------------------+-------------------+----------------------------+-----------------+----------------------+------------------+------------------+----------------+-------------------------+-------------------------+------------------+-----------------+-----------------------+----------+-----------+\n|a093Y00001RZWlHQAX|    false|                 540.0|                  null|                        |    7013Y000001n4QNQAY|            Telemarketing|             a1y3Y000002d9HvQAI|           Web MSF|       10017598|            45.0|0033Y00002unQGTQA2|                2002-12-01|                     Monthly|                 2023-07-04|                 2023-08-01|                       Open|               2785.0|                   7013Y000001mr1MQAQ|                             67.0|               Direct Debit|              null|     null|                null|                    null|                    null|               null|                        null|             null|                  null|              null|              null|            null|                     null|                     null|              null|             null|                      0|      2015| 2015-12-31|\n|a093Y00001RZWlHQAX|    false|                 540.0|                  null|                        |    7013Y000001n4QNQAY|            Telemarketing|             a1y3Y000002d9HvQAI|           Web MSF|       10017598|            45.0|0033Y00002unQGTQA2|                2002-12-01|                     Monthly|                 2023-07-04|                 2023-08-01|                       Open|               2785.0|                   7013Y000001mr1MQAQ|                             67.0|               Direct Debit|a1y3Y000002PXR9QAO|    false|A - 1582731654437...|      a093Y00001RZWlHQAX|      7013Y000001mqtMQAQ|                3.0|                        36.0|         Increase|         Telemarketing|     Telemarketing|          Teléfono|            35.0|                    420.0|                  Monthly|0033Y00002unQGTQA2|       2017-12-04|                      1|      2016| 2016-12-31|\n|a093Y00001RZWlHQAX|    false|                 540.0|                  null|                        |    7013Y000001n4QNQAY|            Telemarketing|             a1y3Y000002d9HvQAI|           Web MSF|       10017598|            45.0|0033Y00002unQGTQA2|                2002-12-01|                     Monthly|                 2023-07-04|                 2023-08-01|                       Open|               2785.0|                   7013Y000001mr1MQAQ|                             67.0|               Direct Debit|a1y3Y000002PXRAQA4|    false|A - 1582731654437...|      a093Y00001RZWlHQAX|      7013Y000001mqtMQAQ|                5.0|                        60.0|         Increase|         Telemarketing|     Telemarketing|          Teléfono|            40.0|                    480.0|                  Monthly|0033Y00002unQGTQA2|       2018-11-02|                      1|      2017| 2017-12-31|\n|a093Y00001RZWlHQAX|    false|                 540.0|                  null|                        |    7013Y000001n4QNQAY|            Telemarketing|             a1y3Y000002d9HvQAI|           Web MSF|       10017598|            45.0|0033Y00002unQGTQA2|                2002-12-01|                     Monthly|                 2023-07-04|                 2023-08-01|                       Open|               2785.0|                   7013Y000001mr1MQAQ|                             67.0|               Direct Debit|              null|     null|                null|                    null|                    null|               null|                        null|             null|                  null|              null|              null|            null|                     null|                     null|              null|             null|                      0|      2018| 2018-12-31|\n|a093Y00001RZWlHQAX|    false|                 540.0|                  null|                        |    7013Y000001n4QNQAY|            Telemarketing|             a1y3Y000002d9HvQAI|           Web MSF|       10017598|            45.0|0033Y00002unQGTQA2|                2002-12-01|                     Monthly|                 2023-07-04|                 2023-08-01|                       Open|               2785.0|                   7013Y000001mr1MQAQ|                             67.0|               Direct Debit|a1y3Y000002d9HvQAI|    false|   A - 1608282567554|      a093Y00001RZWlHQAX|      7013Y000001n4QNQAY|                5.0|                        60.0|         Increase|         Telemarketing|     Telemarketing|          Teléfono|            45.0|                    540.0|                  Monthly|0033Y00002unQGTQA2|       2020-12-18|                      1|      2019| 2019-12-31|\n|a093Y00001RZWlHQAX|    false|                 540.0|                  null|                        |    7013Y000001n4QNQAY|            Telemarketing|             a1y3Y000002d9HvQAI|           Web MSF|       10017598|            45.0|0033Y00002unQGTQA2|                2002-12-01|                     Monthly|                 2023-07-04|                 2023-08-01|                       Open|               2785.0|                   7013Y000001mr1MQAQ|                             67.0|               Direct Debit|              null|     null|                null|                    null|                    null|               null|                        null|             null|                  null|              null|              null|            null|                     null|                     null|              null|             null|                      0|      2020| 2020-12-31|\n|a093Y00001RZWlHQAX|    false|                 540.0|                  null|                        |    7013Y000001n4QNQAY|            Telemarketing|             a1y3Y000002d9HvQAI|           Web MSF|       10017598|            45.0|0033Y00002unQGTQA2|                2002-12-01|                     Monthly|                 2023-07-04|                 2023-08-01|                       Open|               2785.0|                   7013Y000001mr1MQAQ|                             67.0|               Direct Debit|              null|     null|                null|                    null|                    null|               null|                        null|             null|                  null|              null|              null|            null|                     null|                     null|              null|             null|                      0|      2021| 2021-12-31|\n+------------------+---------+----------------------+----------------------+------------------------+----------------------+-------------------------+-------------------------------+------------------+---------------+----------------+------------------+--------------------------+----------------------------+---------------------------+---------------------------+---------------------------+---------------------+-------------------------------------+---------------------------------+---------------------------+------------------+---------+--------------------+------------------------+------------------------+-------------------+----------------------------+-----------------+----------------------+------------------+------------------+----------------+-------------------------+-------------------------+------------------+-----------------+-----------------------+----------+-----------+\n",
					"output_type": "stream"
				}
			],
			"id": "a47432c5-76c7-46a3-920e-0c3691cc9046"
		},
		{
			"cell_type": "code",
			"source": "all_years_with_contacts = all_years_df.join(df_con, df_con.con_id == all_years_df.npe03__contact__c, 'inner')",
			"metadata": {
				"trusted": true,
				"tags": []
			},
			"execution_count": 12,
			"outputs": [
				{
					"name": "stdout",
					"text": "\n",
					"output_type": "stream"
				}
			],
			"id": "e7a0ceb9-170c-4c74-b5b2-cb921bb2e06c"
		},
		{
			"cell_type": "code",
			"source": "#all_years_with_contacts.where(col(\"npe03__contact__c\") == \"0033Y00002unQGTQA2\").show()",
			"metadata": {
				"trusted": true,
				"tags": []
			},
			"execution_count": 1,
			"outputs": [],
			"id": "ee65350a-50f2-4cbd-b2bc-4c9eb21c93f3"
		},
		{
			"cell_type": "code",
			"source": "distinct_df = all_years_with_contacts.dropDuplicates(['msf_birthyear__c'])\ndistinct_df.show()",
			"metadata": {
				"trusted": true,
				"tags": []
			},
			"execution_count": null,
			"outputs": [
				{
					"name": "stdout",
					"text": "Execution Interrupted. Attempting to cancel the statement (statement_id=15)\nStatement 15 has been cancelled\n",
					"output_type": "stream"
				}
			],
			"id": "79643406-6096-4680-9119-5e5ee6462597"
		},
		{
			"cell_type": "code",
			"source": "#all_years_with_contacts.printSchema()",
			"metadata": {
				"trusted": true,
				"tags": []
			},
			"execution_count": 1,
			"outputs": [],
			"id": "2d40a0f1-3bd8-4719-8bf0-49dc5b31d0ed"
		},
		{
			"cell_type": "code",
			"source": "avg_birthyear = round(all_years_with_contacts.filter(col(\"msf_birthyear__c\") != '').agg(mean(\"msf_birthyear__c\")).collect()[0][0], 0)\navg_birthyear",
			"metadata": {
				"trusted": true,
				"tags": []
			},
			"execution_count": 16,
			"outputs": [
				{
					"name": "stdout",
					"text": "1964.0\n",
					"output_type": "stream"
				}
			],
			"id": "e1270ed1-0aae-4d57-99b5-d2af000a2a47"
		},
		{
			"cell_type": "code",
			"source": "# Calculate average birth year excluding zeros\n#avg_birthyear = all_years_with_contacts.filter(col(\"msf_birthyear__c\") != '').agg(mean(\"msf_birthyear__c\")).collect()[0][0]\n\n# Replace 0 with average birth year\nall_years_with_contacts = all_years_with_contacts.withColumn(\"msf_birthyear__c\", when(col(\"msf_birthyear__c\") == '', avg_birthyear).otherwise(col(\"msf_birthyear__c\")))\n\n# Calculate age\nall_years_with_contacts = all_years_with_contacts.withColumn(\"age\", (lit(col(\"start_year\")) - col(\"msf_birthyear__c\")) * 12)",
			"metadata": {
				"trusted": true,
				"tags": []
			},
			"execution_count": 17,
			"outputs": [
				{
					"name": "stdout",
					"text": "\n",
					"output_type": "stream"
				}
			],
			"id": "38af4088-939a-4b6a-b03c-ec96cad2bd04"
		},
		{
			"cell_type": "code",
			"source": "all_years_with_contacts = all_years_with_contacts.withColumn(\"age_donation\", round(months_between(to_date(lit(target_date)), col(\"npe03__date_established__c\")), 0))",
			"metadata": {
				"trusted": true,
				"tags": []
			},
			"execution_count": 26,
			"outputs": [
				{
					"name": "stdout",
					"text": "\n",
					"output_type": "stream"
				}
			],
			"id": "366ab8f6-01d5-4507-b342-4463914d0dd9"
		},
		{
			"cell_type": "code",
			"source": "m2_train = (\n        all_years_with_contacts\n        .select('con_id', 'gender__c', 'msf_ltvcont__c', 'msf_pressurecomplaint__c', 'msf_scoringrfvrecurringdonor__c', 'msf_averagedonorvalue__c', 'age',\n                'msf_annualizedquota__c', 'msf_leadsource1__c',  'msf_currentleadsource1__c', 'npe03__installment_period__c', 'npe03__recurring_donation_campaign__c',\n                'age_donation', 'msf_changeannualizedquota__c', 'msf_changedate__c', 'start_year', 'has_increment_next_year')\n)",
			"metadata": {
				"trusted": true,
				"tags": []
			},
			"execution_count": 27,
			"outputs": [
				{
					"name": "stdout",
					"text": "\n",
					"output_type": "stream"
				}
			],
			"id": "877b43c8-301b-49e7-97b9-04d7c21b5023"
		},
		{
			"cell_type": "code",
			"source": "m2_train.where(col(\"con_id\") == \"0033Y00002unQGTQA2\").show()",
			"metadata": {
				"trusted": true,
				"tags": []
			},
			"execution_count": 32,
			"outputs": [
				{
					"name": "stdout",
					"text": "+------------------+---------+--------------+------------------------+-------------------------------+------------------------+----+----------------------+------------------+-------------------------+----------------------------+-------------------------------------+------------+----------------------------+-----------------+----------+-----------------------+\n|            con_id|gender__c|msf_ltvcont__c|msf_pressurecomplaint__c|msf_scoringrfvrecurringdonor__c|msf_averagedonorvalue__c| age|msf_annualizedquota__c|msf_leadsource1__c|msf_currentleadsource1__c|npe03__installment_period__c|npe03__recurring_donation_campaign__c|age_donation|msf_changeannualizedquota__c|msf_changedate__c|start_year|has_increment_next_year|\n+------------------+---------+--------------+------------------------+-------------------------------+------------------------+----+----------------------+------------------+-------------------------+----------------------------+-------------------------------------+------------+----------------------------+-----------------+----------+-----------------------+\n|0033Y00002unQGTQA2|     Male|        7679.0|                   false|                            5.5|                   71.88|null|                 540.0|           Web MSF|            Telemarketing|                     Monthly|                   7013Y000001mr1MQAQ|228.96774194|                        null|             null|      2015|                      0|\n|0033Y00002unQGTQA2|     Male|        7679.0|                   false|                            5.5|                   71.88|null|                 540.0|           Web MSF|            Telemarketing|                     Monthly|                   7013Y000001mr1MQAQ|228.96774194|                        36.0|       2017-12-04|      2016|                      1|\n|0033Y00002unQGTQA2|     Male|        7679.0|                   false|                            5.5|                   71.88|null|                 540.0|           Web MSF|            Telemarketing|                     Monthly|                   7013Y000001mr1MQAQ|228.96774194|                        60.0|       2018-11-02|      2017|                      1|\n|0033Y00002unQGTQA2|     Male|        7679.0|                   false|                            5.5|                   71.88|null|                 540.0|           Web MSF|            Telemarketing|                     Monthly|                   7013Y000001mr1MQAQ|228.96774194|                        null|             null|      2018|                      0|\n|0033Y00002unQGTQA2|     Male|        7679.0|                   false|                            5.5|                   71.88|null|                 540.0|           Web MSF|            Telemarketing|                     Monthly|                   7013Y000001mr1MQAQ|228.96774194|                        60.0|       2020-12-18|      2019|                      1|\n|0033Y00002unQGTQA2|     Male|        7679.0|                   false|                            5.5|                   71.88|null|                 540.0|           Web MSF|            Telemarketing|                     Monthly|                   7013Y000001mr1MQAQ|228.96774194|                        null|             null|      2020|                      0|\n|0033Y00002unQGTQA2|     Male|        7679.0|                   false|                            5.5|                   71.88|null|                 540.0|           Web MSF|            Telemarketing|                     Monthly|                   7013Y000001mr1MQAQ|228.96774194|                        null|             null|      2021|                      0|\n+------------------+---------+--------------+------------------------+-------------------------------+------------------------+----+----------------------+------------------+-------------------------+----------------------------+-------------------------------------+------------+----------------------------+-----------------+----------+-----------------------+\n",
					"output_type": "stream"
				}
			],
			"id": "4ac7c644-b0c8-4f5a-a40a-3abc91074d0d"
		},
		{
			"cell_type": "code",
			"source": "(\n  m2_train.coalesce(1).write\n        .format(\"parquet\")\n        .mode(\"overwrite\")\n        .save(f\"s3://{BUCKET_NAME}/z_output/m2_features\")\n)",
			"metadata": {
				"trusted": true,
				"tags": []
			},
			"execution_count": 28,
			"outputs": [
				{
					"name": "stdout",
					"text": "\n",
					"output_type": "stream"
				}
			],
			"id": "bcaa298e-6da2-4482-95c1-f031a09e72cb"
		},
		{
			"cell_type": "raw",
			"source": "(\n  df_task_merge_clean.write\n        .format(\"parquet\")\n        .mode(\"overwrite\")\n        .save(f\"s3://{BUCKET_NAME}/output/task_merge_clean\")\n)",
			"metadata": {
				"tags": []
			},
			"id": "14f33acc-0317-48ac-9919-ed46369afc3e"
		}
	]
}